{
 "cells": [
  {
   "cell_type": "code",
   "execution_count": 1,
   "id": "3b8dd0f7-9427-4bb4-8e66-1d6bf21b0212",
   "metadata": {},
   "outputs": [],
   "source": [
    "from sage import Isotropy"
   ]
  },
  {
   "cell_type": "code",
   "execution_count": 2,
   "id": "44cdd3da-2ad2-44bf-a872-daacb9b80153",
   "metadata": {},
   "outputs": [
    {
     "name": "stdout",
     "output_type": "stream",
     "text": [
      "7.703729741948896 4.429933827130646\n"
     ]
    }
   ],
   "source": [
    "mineral_properties = {\n",
    "    'name': 'coe',\n",
    "    'rho0': 2911,\n",
    "    'ao': 1.8e-5,\n",
    "    'akt0': 9.74e10,\n",
    "    'dkdp': 4.3,\n",
    "    'amu0': 6.16e10,\n",
    "    'dmudp': 1.0541,\n",
    "    'gam': 4.66,\n",
    "    'grun': 0.36,\n",
    "    'delt': 4.66,\n",
    "}\n",
    "\n",
    "isotropy = Isotropy(mineral_properties)\n",
    "density, aks, amu, vp, vs, vbulk, akt = isotropy.calculate_seismic_properties(2000, 2e9, return_vp_vs_vbulk=True, return_aktout=True)\n",
    "print(vp, vs)"
   ]
  },
  {
   "cell_type": "code",
   "execution_count": null,
   "id": "4235fe29-250e-45bc-8dfc-a6869e1fb3cc",
   "metadata": {},
   "outputs": [],
   "source": []
  }
 ],
 "metadata": {
  "kernelspec": {
   "display_name": "Python 3 (ipykernel)",
   "language": "python",
   "name": "python3"
  },
  "language_info": {
   "codemirror_mode": {
    "name": "ipython",
    "version": 3
   },
   "file_extension": ".py",
   "mimetype": "text/x-python",
   "name": "python",
   "nbconvert_exporter": "python",
   "pygments_lexer": "ipython3",
   "version": "3.12.1"
  }
 },
 "nbformat": 4,
 "nbformat_minor": 5
}
