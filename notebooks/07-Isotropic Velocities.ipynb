{
 "cells": [
  {
   "cell_type": "code",
   "execution_count": 1,
   "id": "3b8dd0f7-9427-4bb4-8e66-1d6bf21b0212",
   "metadata": {},
   "outputs": [],
   "source": [
    "from sage import Isotropy"
   ]
  },
  {
   "cell_type": "code",
   "execution_count": 6,
   "id": "44cdd3da-2ad2-44bf-a872-daacb9b80153",
   "metadata": {},
   "outputs": [
    {
     "name": "stdout",
     "output_type": "stream",
     "text": [
      "7.703728111209602 4.429931700164806\n"
     ]
    }
   ],
   "source": [
    "if __name__ == \"__main__\":\n",
    "    isotropy = Isotropy('materials.json')\n",
    "    x = isotropy.get_phase_constants('coe')\n",
    "    density, aks, amu, vp, vs, vbulk, akt = isotropy.calculate_seismic_properties('coe', temperature=2000, pressure=2e9, return_vp_vs_vbulk=True, return_aktout=True)\n",
    "    print(vp, vs)"
   ]
  },
  {
   "cell_type": "code",
   "execution_count": 7,
   "id": "13bcb17d-5877-496f-9114-f399980747e6",
   "metadata": {},
   "outputs": [
    {
     "data": {
      "text/plain": [
       "96339558476.68135"
      ]
     },
     "execution_count": 7,
     "metadata": {},
     "output_type": "execute_result"
    }
   ],
   "source": [
    "aks"
   ]
  },
  {
   "cell_type": "code",
   "execution_count": 8,
   "id": "7853e4a2-1e5a-4dff-b081-fc9352d85fe7",
   "metadata": {},
   "outputs": [
    {
     "data": {
      "text/plain": [
       "56975941989.758835"
      ]
     },
     "execution_count": 8,
     "metadata": {},
     "output_type": "execute_result"
    }
   ],
   "source": [
    "amu"
   ]
  },
  {
   "cell_type": "code",
   "execution_count": 9,
   "id": "c136521e-65c6-4020-b187-056dd8cc227a",
   "metadata": {},
   "outputs": [
    {
     "data": {
      "text/plain": [
       "7.703728111209602"
      ]
     },
     "execution_count": 9,
     "metadata": {},
     "output_type": "execute_result"
    }
   ],
   "source": [
    "vp"
   ]
  },
  {
   "cell_type": "code",
   "execution_count": 10,
   "id": "150bde20-b22a-4c3a-aecb-099e0f2d87aa",
   "metadata": {},
   "outputs": [
    {
     "data": {
      "text/plain": [
       "4.429931700164806"
      ]
     },
     "execution_count": 10,
     "metadata": {},
     "output_type": "execute_result"
    }
   ],
   "source": [
    "vs"
   ]
  },
  {
   "cell_type": "code",
   "execution_count": 11,
   "id": "178316bd-ce40-4b43-bf80-7153a3f4422c",
   "metadata": {},
   "outputs": [
    {
     "data": {
      "text/plain": [
       "5.760412699084149"
      ]
     },
     "execution_count": 11,
     "metadata": {},
     "output_type": "execute_result"
    }
   ],
   "source": [
    "vbulk"
   ]
  },
  {
   "cell_type": "code",
   "execution_count": 12,
   "id": "0b6771a1-7a90-40b6-aef8-f1cc48bf4d61",
   "metadata": {},
   "outputs": [
    {
     "data": {
      "text/plain": [
       "95337827817.61266"
      ]
     },
     "execution_count": 12,
     "metadata": {},
     "output_type": "execute_result"
    }
   ],
   "source": [
    "akt"
   ]
  },
  {
   "cell_type": "code",
   "execution_count": null,
   "id": "d80cfbdf-7eec-440f-ba64-a175d6b1a9d5",
   "metadata": {},
   "outputs": [],
   "source": []
  }
 ],
 "metadata": {
  "kernelspec": {
   "display_name": "Python 3 (ipykernel)",
   "language": "python",
   "name": "python3"
  },
  "language_info": {
   "codemirror_mode": {
    "name": "ipython",
    "version": 3
   },
   "file_extension": ".py",
   "mimetype": "text/x-python",
   "name": "python",
   "nbconvert_exporter": "python",
   "pygments_lexer": "ipython3",
   "version": "3.12.1"
  }
 },
 "nbformat": 4,
 "nbformat_minor": 5
}
