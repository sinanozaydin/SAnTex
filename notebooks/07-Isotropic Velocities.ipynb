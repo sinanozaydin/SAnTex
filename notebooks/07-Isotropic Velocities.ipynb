{
 "cells": [
  {
   "cell_type": "code",
   "execution_count": 1,
   "id": "3b8dd0f7-9427-4bb4-8e66-1d6bf21b0212",
   "metadata": {},
   "outputs": [],
   "source": [
    "from satex import Isotropy"
   ]
  },
  {
   "cell_type": "code",
   "execution_count": 3,
   "id": "44cdd3da-2ad2-44bf-a872-daacb9b80153",
   "metadata": {},
   "outputs": [
    {
     "ename": "NotADirectoryError",
     "evalue": "[Errno 20] Not a directory: '/home/sinan/.local/lib/python3.10/site-packages/satex/isotropy/isotropy.py/data/materials.json'",
     "output_type": "error",
     "traceback": [
      "\u001b[0;31m---------------------------------------------------------------------------\u001b[0m",
      "\u001b[0;31mNotADirectoryError\u001b[0m                        Traceback (most recent call last)",
      "Input \u001b[0;32mIn [3]\u001b[0m, in \u001b[0;36m<cell line: 1>\u001b[0;34m()\u001b[0m\n\u001b[1;32m      1\u001b[0m \u001b[38;5;28;01mif\u001b[39;00m \u001b[38;5;18m__name__\u001b[39m \u001b[38;5;241m==\u001b[39m \u001b[38;5;124m\"\u001b[39m\u001b[38;5;124m__main__\u001b[39m\u001b[38;5;124m\"\u001b[39m:\n\u001b[0;32m----> 2\u001b[0m     isotropy \u001b[38;5;241m=\u001b[39m \u001b[43mIsotropy\u001b[49m\u001b[43m(\u001b[49m\u001b[43m)\u001b[49m\n\u001b[1;32m      3\u001b[0m     x \u001b[38;5;241m=\u001b[39m isotropy\u001b[38;5;241m.\u001b[39mget_phase_constants(\u001b[38;5;124m'\u001b[39m\u001b[38;5;124mfo\u001b[39m\u001b[38;5;124m'\u001b[39m)\n\u001b[1;32m      4\u001b[0m     density, aks, amu, vp, vs, vbulk, akt \u001b[38;5;241m=\u001b[39m isotropy\u001b[38;5;241m.\u001b[39mcalculate_seismic_properties(\u001b[38;5;124m'\u001b[39m\u001b[38;5;124mcoe\u001b[39m\u001b[38;5;124m'\u001b[39m, temperature\u001b[38;5;241m=\u001b[39m\u001b[38;5;241m2000\u001b[39m, pressure\u001b[38;5;241m=\u001b[39m\u001b[38;5;241m2e9\u001b[39m, return_vp_vs_vbulk\u001b[38;5;241m=\u001b[39m\u001b[38;5;28;01mTrue\u001b[39;00m, return_aktout\u001b[38;5;241m=\u001b[39m\u001b[38;5;28;01mTrue\u001b[39;00m)\n",
      "File \u001b[0;32m~/.local/lib/python3.10/site-packages/satex/isotropy/isotropy.py:13\u001b[0m, in \u001b[0;36mIsotropy.__init__\u001b[0;34m(self)\u001b[0m\n\u001b[1;32m     11\u001b[0m     json_file \u001b[38;5;241m=\u001b[39m \u001b[38;5;124m'\u001b[39m\u001b[38;5;124mmaterials.json\u001b[39m\u001b[38;5;124m'\u001b[39m\n\u001b[1;32m     12\u001b[0m     json_path \u001b[38;5;241m=\u001b[39m os\u001b[38;5;241m.\u001b[39mpath\u001b[38;5;241m.\u001b[39mjoin(os\u001b[38;5;241m.\u001b[39mpath\u001b[38;5;241m.\u001b[39mabspath(\u001b[38;5;18m__file__\u001b[39m), \u001b[38;5;124m'\u001b[39m\u001b[38;5;124mdata\u001b[39m\u001b[38;5;124m'\u001b[39m, json_file)\n\u001b[0;32m---> 13\u001b[0m     \u001b[38;5;28;01mwith\u001b[39;00m \u001b[38;5;28;43mopen\u001b[39;49m\u001b[43m(\u001b[49m\u001b[43mjson_path\u001b[49m\u001b[43m,\u001b[49m\u001b[43m \u001b[49m\u001b[38;5;124;43m'\u001b[39;49m\u001b[38;5;124;43mr\u001b[39;49m\u001b[38;5;124;43m'\u001b[39;49m\u001b[43m)\u001b[49m \u001b[38;5;28;01mas\u001b[39;00m f:\n\u001b[1;32m     14\u001b[0m         \u001b[38;5;28mself\u001b[39m\u001b[38;5;241m.\u001b[39mdata \u001b[38;5;241m=\u001b[39m json\u001b[38;5;241m.\u001b[39mload(f)\n\u001b[1;32m     15\u001b[0m \u001b[38;5;28;01mexcept\u001b[39;00m (\u001b[38;5;167;01mFileNotFoundError\u001b[39;00m, json\u001b[38;5;241m.\u001b[39mJSONDecodeError) \u001b[38;5;28;01mas\u001b[39;00m e:\n",
      "\u001b[0;31mNotADirectoryError\u001b[0m: [Errno 20] Not a directory: '/home/sinan/.local/lib/python3.10/site-packages/satex/isotropy/isotropy.py/data/materials.json'"
     ]
    }
   ],
   "source": [
    "if __name__ == \"__main__\":\n",
    "    isotropy = Isotropy()\n",
    "    x = isotropy.get_phase_constants('fo')\n",
    "    density, aks, amu, vp, vs, vbulk, akt = isotropy.calculate_seismic_properties('coe', temperature=2000, pressure=2e9, return_vp_vs_vbulk=True, return_aktout=True)\n",
    "    print(vp, vs)"
   ]
  },
  {
   "cell_type": "code",
   "execution_count": 4,
   "id": "13bcb17d-5877-496f-9114-f399980747e6",
   "metadata": {},
   "outputs": [
    {
     "ename": "NameError",
     "evalue": "name 'aks' is not defined",
     "output_type": "error",
     "traceback": [
      "\u001b[0;31m---------------------------------------------------------------------------\u001b[0m",
      "\u001b[0;31mNameError\u001b[0m                                 Traceback (most recent call last)",
      "Input \u001b[0;32mIn [4]\u001b[0m, in \u001b[0;36m<cell line: 1>\u001b[0;34m()\u001b[0m\n\u001b[0;32m----> 1\u001b[0m \u001b[43maks\u001b[49m\n",
      "\u001b[0;31mNameError\u001b[0m: name 'aks' is not defined"
     ]
    }
   ],
   "source": [
    "aks"
   ]
  },
  {
   "cell_type": "code",
   "execution_count": 8,
   "id": "7853e4a2-1e5a-4dff-b081-fc9352d85fe7",
   "metadata": {},
   "outputs": [
    {
     "data": {
      "text/plain": [
       "56975941989.758835"
      ]
     },
     "execution_count": 8,
     "metadata": {},
     "output_type": "execute_result"
    }
   ],
   "source": [
    "amu"
   ]
  },
  {
   "cell_type": "code",
   "execution_count": 9,
   "id": "c136521e-65c6-4020-b187-056dd8cc227a",
   "metadata": {},
   "outputs": [
    {
     "data": {
      "text/plain": [
       "7.703728111209602"
      ]
     },
     "execution_count": 9,
     "metadata": {},
     "output_type": "execute_result"
    }
   ],
   "source": [
    "vp"
   ]
  },
  {
   "cell_type": "code",
   "execution_count": 10,
   "id": "150bde20-b22a-4c3a-aecb-099e0f2d87aa",
   "metadata": {},
   "outputs": [
    {
     "data": {
      "text/plain": [
       "4.429931700164806"
      ]
     },
     "execution_count": 10,
     "metadata": {},
     "output_type": "execute_result"
    }
   ],
   "source": [
    "vs"
   ]
  },
  {
   "cell_type": "code",
   "execution_count": 11,
   "id": "178316bd-ce40-4b43-bf80-7153a3f4422c",
   "metadata": {},
   "outputs": [
    {
     "data": {
      "text/plain": [
       "5.760412699084149"
      ]
     },
     "execution_count": 11,
     "metadata": {},
     "output_type": "execute_result"
    }
   ],
   "source": [
    "vbulk"
   ]
  },
  {
   "cell_type": "code",
   "execution_count": 12,
   "id": "0b6771a1-7a90-40b6-aef8-f1cc48bf4d61",
   "metadata": {},
   "outputs": [
    {
     "data": {
      "text/plain": [
       "95337827817.61266"
      ]
     },
     "execution_count": 12,
     "metadata": {},
     "output_type": "execute_result"
    }
   ],
   "source": [
    "akt"
   ]
  },
  {
   "cell_type": "code",
   "execution_count": null,
   "id": "d80cfbdf-7eec-440f-ba64-a175d6b1a9d5",
   "metadata": {},
   "outputs": [],
   "source": []
  }
 ],
 "metadata": {
  "kernelspec": {
   "display_name": "Python 3 (ipykernel)",
   "language": "python",
   "name": "python3"
  },
  "language_info": {
   "codemirror_mode": {
    "name": "ipython",
    "version": 3
   },
   "file_extension": ".py",
   "mimetype": "text/x-python",
   "name": "python",
   "nbconvert_exporter": "python",
   "pygments_lexer": "ipython3",
   "version": "3.10.12"
  }
 },
 "nbformat": 4,
 "nbformat_minor": 5
}
