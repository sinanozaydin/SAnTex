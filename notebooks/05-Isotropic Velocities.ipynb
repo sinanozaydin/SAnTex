{
 "cells": [
  {
   "cell_type": "markdown",
   "id": "428030f7-eaf0-4cf9-aca8-2762ebec28f7",
   "metadata": {},
   "source": [
    "# Isotropic Velocities Analysis"
   ]
  },
  {
   "cell_type": "markdown",
   "id": "05b45866-3737-4f66-a446-3d397a673fcc",
   "metadata": {},
   "source": [
    "Let's first import the Isotropy class from santex for Isotropic velocities analysis"
   ]
  },
  {
   "cell_type": "code",
   "execution_count": 1,
   "id": "3b8dd0f7-9427-4bb4-8e66-1d6bf21b0212",
   "metadata": {},
   "outputs": [],
   "source": [
    "from santex import Isotropy\n",
    "import numpy as np"
   ]
  },
  {
   "cell_type": "markdown",
   "id": "b186fc67-f899-4e3e-a556-1afcb960298a",
   "metadata": {},
   "source": [
    "# Define isotropy instance\n",
    "\n",
    "We first create an instance of isotropy class by invoking ```isotropy = Isotropy()```"
   ]
  },
  {
   "cell_type": "code",
   "execution_count": 2,
   "id": "d37f58cf-263f-4987-9caf-cce4ae8e2aa2",
   "metadata": {},
   "outputs": [],
   "source": [
    "isotropy = Isotropy()"
   ]
  },
  {
   "cell_type": "markdown",
   "id": "45078983-39d6-4f88-bafc-66a5d8cc9cf0",
   "metadata": {},
   "source": [
    "# Get Available phases"
   ]
  },
  {
   "cell_type": "markdown",
   "id": "34699ade-6128-4454-8d6e-48cf7dd86f15",
   "metadata": {},
   "source": [
    "Let's check the available materials on which we can get the isotropic wave velocities at different pressure and temperature profile"
   ]
  },
  {
   "cell_type": "code",
   "execution_count": 3,
   "id": "3bf9545d-fbbb-4bd7-adec-87e34d21f1da",
   "metadata": {},
   "outputs": [
    {
     "name": "stdout",
     "output_type": "stream",
     "text": [
      "######################Available Phases######################\n",
      "Material id: aqz       Material name: Alpha-Quartz\n",
      "######################Available Phases######################\n",
      "Material id: bqz       Material name: Beta-Quartz\n",
      "######################Available Phases######################\n",
      "Material id: coe       Material name: Coesite\n",
      "######################Available Phases######################\n",
      "Material id: hAb       Material name: High-T Albite\n",
      "######################Available Phases######################\n",
      "Material id: lAb       Material name: Low-T Albite\n",
      "######################Available Phases######################\n",
      "Material id: an       Material name: Anorthite\n",
      "######################Available Phases######################\n",
      "Material id: or       Material name: Orthoclase\n",
      "######################Available Phases######################\n",
      "Material id: san       Material name: Sanidine\n",
      "######################Available Phases######################\n",
      "Material id: alm       Material name: Almandine\n",
      "######################Available Phases######################\n",
      "Material id: gr       Material name: Grossular\n",
      "######################Available Phases######################\n",
      "Material id: py       Material name: Pyrope\n",
      "######################Available Phases######################\n",
      "Material id: fo       Material name: Forsterite\n",
      "######################Available Phases######################\n",
      "Material id: fa       Material name: Fayalite\n",
      "######################Available Phases######################\n",
      "Material id: en       Material name: Enstatite\n",
      "######################Available Phases######################\n",
      "Material id: fs       Material name: Ferrosillite\n",
      "######################Available Phases######################\n",
      "Material id: mgts       Material name: Mg-Tschermak\n",
      "######################Available Phases######################\n",
      "Material id: di       Material name: Diopside\n",
      "######################Available Phases######################\n",
      "Material id: hed       Material name: Hedenbergite\n",
      "######################Available Phases######################\n",
      "Material id: jd       Material name: Jadeite\n",
      "######################Available Phases######################\n",
      "Material id: ac       Material name: Acmite\n",
      "######################Available Phases######################\n",
      "Material id: cats       Material name: Ca-Tschermak\n",
      "######################Available Phases######################\n",
      "Material id: gl       Material name: Glaucophane\n",
      "######################Available Phases######################\n",
      "Material id: fgl       Material name: Ferroglaucophane\n",
      "######################Available Phases######################\n",
      "Material id: tr       Material name: Tremolite\n",
      "######################Available Phases######################\n",
      "Material id: fact       Material name: Ferroactinolite\n",
      "######################Available Phases######################\n",
      "Material id: ts       Material name: Tschermakite\n",
      "######################Available Phases######################\n",
      "Material id: parg       Material name: Pargasite\n",
      "######################Available Phases######################\n",
      "Material id: hb       Material name: Hornblende\n",
      "######################Available Phases######################\n",
      "Material id: anth       Material name: Anthophyllite\n",
      "######################Available Phases######################\n",
      "Material id: phl       Material name: Phlogopite\n",
      "######################Available Phases######################\n",
      "Material id: ann       Material name: Annite\n",
      "######################Available Phases######################\n",
      "Material id: mu       Material name: Muscovite\n",
      "######################Available Phases######################\n",
      "Material id: cel       Material name: Celadonite\n",
      "######################Available Phases######################\n",
      "Material id: ta       Material name: Talc\n",
      "######################Available Phases######################\n",
      "Material id: clin       Material name: Clinochlore\n",
      "######################Available Phases######################\n",
      "Material id: daph       Material name: Daphnite\n",
      "######################Available Phases######################\n",
      "Material id: atg       Material name: Antigorite\n",
      "######################Available Phases######################\n",
      "Material id: zo       Material name: Zoisite\n",
      "######################Available Phases######################\n",
      "Material id: cz       Material name: Clinozoisite\n",
      "######################Available Phases######################\n",
      "Material id: ep       Material name: Epidote\n",
      "######################Available Phases######################\n",
      "Material id: law       Material name: Lawsonite\n",
      "######################Available Phases######################\n",
      "Material id: pre       Material name: Prehnite\n",
      "######################Available Phases######################\n",
      "Material id: pump       Material name: Pumpellyte\n",
      "######################Available Phases######################\n",
      "Material id: lmt       Material name: Laumontite\n",
      "######################Available Phases######################\n",
      "Material id: wrk       Material name: Wairakite\n",
      "######################Available Phases######################\n",
      "Material id: br       Material name: Brucite\n",
      "######################Available Phases######################\n",
      "Material id: chum       Material name: Clinohumite\n",
      "######################Available Phases######################\n",
      "Material id: phA       Material name: Phase A\n",
      "######################Available Phases######################\n",
      "Material id: sill       Material name: Sillimanite\n",
      "######################Available Phases######################\n",
      "Material id: ky       Material name: Kyanite\n",
      "######################Available Phases######################\n",
      "Material id: sp       Material name: Mg-Spinel\n",
      "######################Available Phases######################\n",
      "Material id: herc       Material name: hercynite\n",
      "######################Available Phases######################\n",
      "Material id: mt       Material name: Magnetite\n",
      "######################Available Phases######################\n",
      "Material id: ilm       Material name: Ilmenite\n",
      "######################Available Phases######################\n",
      "Material id: rut       Material name: Rutile\n",
      "######################Available Phases######################\n",
      "Material id: ttn       Material name: Titanite\n",
      "######################Available Phases######################\n",
      "Material id: crd       Material name: Cordierite\n",
      "######################Available Phases######################\n",
      "Material id: scap       Material name: Scapolite\n",
      "######################Available Phases######################\n",
      "Material id: cc       Material name: Calcite\n",
      "######################Available Phases######################\n",
      "Material id: arag       Material name: Aragonite\n",
      "######################Available Phases######################\n",
      "Material id: mag       Material name: Magnesite\n"
     ]
    },
    {
     "data": {
      "text/plain": [
       "['aqz',\n",
       " 'bqz',\n",
       " 'coe',\n",
       " 'hAb',\n",
       " 'lAb',\n",
       " 'an',\n",
       " 'or',\n",
       " 'san',\n",
       " 'alm',\n",
       " 'gr',\n",
       " 'py',\n",
       " 'fo',\n",
       " 'fa',\n",
       " 'en',\n",
       " 'fs',\n",
       " 'mgts',\n",
       " 'di',\n",
       " 'hed',\n",
       " 'jd',\n",
       " 'ac',\n",
       " 'cats',\n",
       " 'gl',\n",
       " 'fgl',\n",
       " 'tr',\n",
       " 'fact',\n",
       " 'ts',\n",
       " 'parg',\n",
       " 'hb',\n",
       " 'anth',\n",
       " 'phl',\n",
       " 'ann',\n",
       " 'mu',\n",
       " 'cel',\n",
       " 'ta',\n",
       " 'clin',\n",
       " 'daph',\n",
       " 'atg',\n",
       " 'zo',\n",
       " 'cz',\n",
       " 'ep',\n",
       " 'law',\n",
       " 'pre',\n",
       " 'pump',\n",
       " 'lmt',\n",
       " 'wrk',\n",
       " 'br',\n",
       " 'chum',\n",
       " 'phA',\n",
       " 'sill',\n",
       " 'ky',\n",
       " 'sp',\n",
       " 'herc',\n",
       " 'mt',\n",
       " 'ilm',\n",
       " 'rut',\n",
       " 'ttn',\n",
       " 'crd',\n",
       " 'scap',\n",
       " 'cc',\n",
       " 'arag',\n",
       " 'mag']"
      ]
     },
     "execution_count": 3,
     "metadata": {},
     "output_type": "execute_result"
    }
   ],
   "source": [
    "isotropy.get_available_phases()"
   ]
  },
  {
   "cell_type": "markdown",
   "id": "a0651e5e-1969-4c32-9636-4db45a883113",
   "metadata": {},
   "source": [
    "# Get phase constants for eg Forsterite"
   ]
  },
  {
   "cell_type": "markdown",
   "id": "0e325fbd-5f79-4281-b647-c1c1edde4f83",
   "metadata": {},
   "source": [
    "Following are the information we get when we invoke the method ```get_phase_constants()```\n",
    "\n",
    "1. rho0: initial density\n",
    "2. ao: coefficient of thermal expansion\n",
    "3. akt0: isothermal bulk modulus, which is a measure of a material's resistance to compression under uniform pressure\n",
    "4. dkdp: pressure derivative of the bulk modulus, indicating how the bulk modulus changes with pressure\n",
    "5. amu0: shear modulus of the mineral. The shear modulus measures a material's resistance to deformation by shear stress\n",
    "6. dmudp: pressure derivative of the shear modulus, indicating how the shear modulus changes with pressure\n",
    "7. gam: gamma, first thermodynamic Gruinesen parameter\n",
    "8. grun: second Gruneisen parameter, which is a measure of how a material's volume changes with temperature\n",
    "9. delt: Debye temperature, which is a measure of the average vibrational energy of atoms in a solid.\n"
   ]
  },
  {
   "cell_type": "code",
   "execution_count": 4,
   "id": "e66103d5-82d0-4b88-b10d-fc6c144035b5",
   "metadata": {},
   "outputs": [
    {
     "data": {
      "text/plain": [
       "{'id': 'fo',\n",
       " 'name': 'Forsterite',\n",
       " 'rho0': 3222.0,\n",
       " 'ao': 6.13e-05,\n",
       " 'akt0': 127300000000.0,\n",
       " 'dkdp': 4.2,\n",
       " 'amu0': 81600000000.0,\n",
       " 'dmudp': 1.6,\n",
       " 'gam': 5.19,\n",
       " 'grun': 1.29,\n",
       " 'delt': 5.5}"
      ]
     },
     "execution_count": 4,
     "metadata": {},
     "output_type": "execute_result"
    }
   ],
   "source": [
    "isotropy.get_phase_constants(\"Forsterite\")"
   ]
  },
  {
   "cell_type": "markdown",
   "id": "19fb3fdc-49d1-453e-b74b-d99cd8ed823b",
   "metadata": {},
   "source": [
    "# Get velocities and densities"
   ]
  },
  {
   "cell_type": "markdown",
   "id": "64ea82f5-23db-49f3-b409-a759ff4688ca",
   "metadata": {},
   "source": [
    "We can get the following quantities at any given temperature and pressure for a material after invoking the method ```calculate_seismic_properties()```\n",
    "\n",
    "1. density: density of material at any given pressure and temperature\n",
    "2. aks: bulk modulus, The bulk modulus indicates how much a material will compress under pressure. \n",
    "3. amu: Shear Modulus, The shear modulus is essential for understanding a material's response to shear stress\n",
    "4. vp: P-wave velocity at any given pressure and temperature\n",
    "5. vs: swave velocity at any given pressure and temperature\n",
    "6. vbulk: Bulk sound velocity, The velocity of sound waves traveling through a material\n",
    "7. akt: Isothermal bulk modulus, Similar to the bulk modulus, but specifically refers to the resistance to compression under constant 8. temperature conditions"
   ]
  },
  {
   "cell_type": "code",
   "execution_count": 5,
   "id": "44cdd3da-2ad2-44bf-a872-daacb9b80153",
   "metadata": {},
   "outputs": [
    {
     "name": "stdout",
     "output_type": "stream",
     "text": [
      "7.5781436531609305 4.294565839495191\n"
     ]
    }
   ],
   "source": [
    "density, aks, amu, vp, vs, vbulk, akt = isotropy.calculate_seismic_properties('Forsterite', temperature=2000, pressure=2, return_vp_vs_vbulk=True, return_aktout=True)\n",
    "print(vp, vs)"
   ]
  },
  {
   "cell_type": "code",
   "execution_count": 6,
   "id": "13bcb17d-5877-496f-9114-f399980747e6",
   "metadata": {},
   "outputs": [
    {
     "data": {
      "text/plain": [
       "7.5781436531609305"
      ]
     },
     "execution_count": 6,
     "metadata": {},
     "output_type": "execute_result"
    }
   ],
   "source": [
    "vp"
   ]
  },
  {
   "cell_type": "code",
   "execution_count": 7,
   "id": "7853e4a2-1e5a-4dff-b081-fc9352d85fe7",
   "metadata": {},
   "outputs": [
    {
     "data": {
      "text/plain": [
       "4.294565839495191"
      ]
     },
     "execution_count": 7,
     "metadata": {},
     "output_type": "execute_result"
    }
   ],
   "source": [
    "vs"
   ]
  },
  {
   "cell_type": "code",
   "execution_count": 8,
   "id": "c136521e-65c6-4020-b187-056dd8cc227a",
   "metadata": {},
   "outputs": [
    {
     "data": {
      "text/plain": [
       "3034.1119267366676"
      ]
     },
     "execution_count": 8,
     "metadata": {},
     "output_type": "execute_result"
    }
   ],
   "source": [
    "density"
   ]
  },
  {
   "cell_type": "code",
   "execution_count": 9,
   "id": "150bde20-b22a-4c3a-aecb-099e0f2d87aa",
   "metadata": {},
   "outputs": [
    {
     "data": {
      "text/plain": [
       "4.294565839495191"
      ]
     },
     "execution_count": 9,
     "metadata": {},
     "output_type": "execute_result"
    }
   ],
   "source": [
    "vs"
   ]
  },
  {
   "cell_type": "code",
   "execution_count": 10,
   "id": "178316bd-ce40-4b43-bf80-7153a3f4422c",
   "metadata": {},
   "outputs": [
    {
     "data": {
      "text/plain": [
       "5.730428867439992"
      ]
     },
     "execution_count": 10,
     "metadata": {},
     "output_type": "execute_result"
    }
   ],
   "source": [
    "vbulk"
   ]
  },
  {
   "cell_type": "code",
   "execution_count": 11,
   "id": "0b6771a1-7a90-40b6-aef8-f1cc48bf4d61",
   "metadata": {},
   "outputs": [
    {
     "data": {
      "text/plain": [
       "88588086722.73985"
      ]
     },
     "execution_count": 11,
     "metadata": {},
     "output_type": "execute_result"
    }
   ],
   "source": [
    "akt"
   ]
  },
  {
   "cell_type": "code",
   "execution_count": 12,
   "id": "d80cfbdf-7eec-440f-ba64-a175d6b1a9d5",
   "metadata": {},
   "outputs": [
    {
     "data": {
      "text/plain": [
       "3034.1119267366676"
      ]
     },
     "execution_count": 12,
     "metadata": {},
     "output_type": "execute_result"
    }
   ],
   "source": [
    "density"
   ]
  },
  {
   "cell_type": "markdown",
   "id": "b62d77e6",
   "metadata": {},
   "source": [
    "Let's calculate the density, seismic velocities and thermodynamic constants for the given constant temperature and varying pressures."
   ]
  },
  {
   "cell_type": "code",
   "execution_count": 25,
   "id": "42757511-f03c-47f1-8f91-d3a8014dae80",
   "metadata": {},
   "outputs": [],
   "source": [
    "p = np.arange(0,10)\n",
    "temp = np.ones(len(p)) * 1000.0\n",
    "\n",
    "density, aks, amu, vp, vs, vbulk, akt = isotropy.calculate_seismic_properties('fo', temperature=temp, pressure=p, return_vp_vs_vbulk=True, return_aktout=True)"
   ]
  },
  {
   "cell_type": "code",
   "execution_count": 26,
   "id": "0eb3a657-45ae-4c26-a2a2-b014ec70a831",
   "metadata": {
    "scrolled": true
   },
   "outputs": [
    {
     "data": {
      "text/plain": [
       "[Text(0, -2.0, ''),\n",
       " Text(0, 0.0, ''),\n",
       " Text(0, 2.0, ''),\n",
       " Text(0, 4.0, ''),\n",
       " Text(0, 6.0, ''),\n",
       " Text(0, 8.0, ''),\n",
       " Text(0, 10.0, '')]"
      ]
     },
     "execution_count": 26,
     "metadata": {},
     "output_type": "execute_result"
    },
    {
     "data": {
      "image/png": "[encoded data removed]",
      "text/plain": [
       "<Figure size 1152x360 with 6 Axes>"
      ]
     },
     "metadata": {
      "needs_background": "light"
     },
     "output_type": "display_data"
    }
   ],
   "source": [
    "import matplotlib.pyplot as plt\n",
    "\n",
    "fig = plt.figure(figsize = (16,5))\n",
    "ax = plt.subplot(161)\n",
    "ax.plot(density,p)\n",
    "ax.set_xlabel(r'Density [$kg/m^3$]')\n",
    "ax.set_ylabel(r'Pressure [GPa]')\n",
    "\n",
    "ax2 = plt.subplot(162)\n",
    "ax2.plot(aks,p)\n",
    "ax2.set_xlabel(r'Bulk Modulus')\n",
    "ax2.set_yticklabels([])\n",
    "\n",
    "ax3 = plt.subplot(163)\n",
    "ax3.plot(amu,p)\n",
    "ax3.set_xlabel(r'Shear Modulus')\n",
    "ax3.set_yticklabels([])\n",
    "\n",
    "ax4 = plt.subplot(164)\n",
    "ax4.plot(vp,p)\n",
    "ax4.set_xlabel(r'$V_P$ [$km/s$]')\n",
    "ax4.set_yticklabels([])\n",
    "\n",
    "ax5 = plt.subplot(165)\n",
    "ax5.plot(vs,p)\n",
    "ax5.set_xlabel(r'$V_S$ [$km/s$]')\n",
    "ax5.set_yticklabels([])\n",
    "\n",
    "ax6 = plt.subplot(166)\n",
    "ax6.plot(akt,p)\n",
    "ax6.set_xlabel(r'Isothermal Bulk Modulus')\n",
    "ax6.set_yticklabels([])"
   ]
  },
  {
   "cell_type": "markdown",
   "id": "ae7d0a48",
   "metadata": {},
   "source": [
    "Let's calculate the density, seismic velocities and thermodynamic constants for the given constant pressure and varying pressures."
   ]
  },
  {
   "cell_type": "code",
   "execution_count": 27,
   "id": "c7e0a055",
   "metadata": {},
   "outputs": [],
   "source": [
    "temp = np.arange(600,1600)\n",
    "p = np.ones(len(temp)) * 2.0\n",
    "\n",
    "density, aks, amu, vp, vs, vbulk, akt = isotropy.calculate_seismic_properties('fo', temperature=temp, pressure=p, return_vp_vs_vbulk=True, return_aktout=True)"
   ]
  },
  {
   "cell_type": "code",
   "execution_count": 29,
   "id": "5f727810",
   "metadata": {},
   "outputs": [
    {
     "data": {
      "text/plain": [
       "[Text(0, 400.0, ''),\n",
       " Text(0, 600.0, ''),\n",
       " Text(0, 800.0, ''),\n",
       " Text(0, 1000.0, ''),\n",
       " Text(0, 1200.0, ''),\n",
       " Text(0, 1400.0, ''),\n",
       " Text(0, 1600.0, ''),\n",
       " Text(0, 1800.0, '')]"
      ]
     },
     "execution_count": 29,
     "metadata": {},
     "output_type": "execute_result"
    },
    {
     "data": {
      "image/png": "[encoded data removed]",
      "text/plain": [
       "<Figure size 1152x360 with 6 Axes>"
      ]
     },
     "metadata": {
      "needs_background": "light"
     },
     "output_type": "display_data"
    }
   ],
   "source": [
    "fig = plt.figure(figsize = (16,5))\n",
    "ax = plt.subplot(161)\n",
    "ax.plot(density,temp)\n",
    "ax.set_xlabel(r'Density [$kg/m^3$]')\n",
    "ax.set_ylabel(r'Temperature [$K^{\\circ}$]')\n",
    "\n",
    "ax2 = plt.subplot(162)\n",
    "ax2.plot(aks,temp)\n",
    "ax2.set_xlabel(r'Bulk Modulus')\n",
    "ax2.set_yticklabels([])\n",
    "\n",
    "ax3 = plt.subplot(163)\n",
    "ax3.plot(amu,temp)\n",
    "ax3.set_xlabel(r'Shear Modulus')\n",
    "ax3.set_yticklabels([])\n",
    "\n",
    "ax4 = plt.subplot(164)\n",
    "ax4.plot(vp,temp)\n",
    "ax4.set_xlabel(r'$V_P$ [$km/s$]')\n",
    "ax4.set_yticklabels([])\n",
    "\n",
    "ax5 = plt.subplot(165)\n",
    "ax5.plot(vs,temp)\n",
    "ax5.set_xlabel(r'$V_S$ [$km/s$]')\n",
    "ax5.set_yticklabels([])\n",
    "\n",
    "ax6 = plt.subplot(166)\n",
    "ax6.plot(akt,temp)\n",
    "ax6.set_xlabel(r'Isothermal Bulk Modulus')\n",
    "ax6.set_yticklabels([])"
   ]
  }
 ],
 "metadata": {
  "kernelspec": {
   "display_name": "Python 3 (ipykernel)",
   "language": "python",
   "name": "python3"
  },
  "language_info": {
   "codemirror_mode": {
    "name": "ipython",
    "version": 3
   },
   "file_extension": ".py",
   "mimetype": "text/x-python",
   "name": "python",
   "nbconvert_exporter": "python",
   "pygments_lexer": "ipython3",
   "version": "3.10.12"
  }
 },
 "nbformat": 4,
 "nbformat_minor": 5
}
