{
 "cells": [
  {
   "cell_type": "code",
   "execution_count": 1,
   "id": "897831a8",
   "metadata": {},
   "outputs": [],
   "source": [
    "import sys\n",
    "import numpy as np\n",
    "sys.path.append(\"..\")\n",
    "sys.path.append(\"../sage\")"
   ]
  },
  {
   "cell_type": "code",
   "execution_count": 2,
   "id": "966d010f",
   "metadata": {},
   "outputs": [
    {
     "name": "stdout",
     "output_type": "stream",
     "text": [
      "/Users/usin8611/Documents/code_sydney/codes_anisotropy/anisotropy/notebooks\n"
     ]
    }
   ],
   "source": [
    "!pwd"
   ]
  },
  {
   "cell_type": "markdown",
   "id": "4fc0a68d",
   "metadata": {},
   "source": [
    "# 1. Import a phase information"
   ]
  },
  {
   "cell_type": "code",
   "execution_count": 3,
   "id": "d498b7c7",
   "metadata": {},
   "outputs": [
    {
     "name": "stdout",
     "output_type": "stream",
     "text": [
      "Almandine-pyrope\n",
      "Grossular\n",
      "Majorite\n",
      "Pyrope\n",
      "a_quartz_1\n",
      "a_quartz_2\n",
      "a_Quartz_3\n",
      "a_quartz_4\n",
      "a_quartz_696C\n",
      "a_quartz_700C\n",
      "Calcite_1\n",
      "Calcite_2\n",
      "Forsterite (San Carlos)\n",
      "Fayalite (0.3GPa)\n",
      "Lawsonite\n",
      "Orthoenstatite (MgSiO3)\n",
      "Orthoenstatite (MgSiO3)\n",
      "Enstatite\n",
      "Bronzite (Mg0.8Fe0.2SiO3)\n",
      "Ferrosilite (FeSiO3)\n",
      "Biotite\n",
      "Muscovite\n",
      "Phlogopite\n",
      "Illite-smectite\n",
      "Dickite\n",
      "Augite\n",
      "Diopside (Di72He9Jd3Cr3Ts12)\n",
      "Chrome-diopside\n",
      "Jadeite\n",
      "Omphacite\n",
      "Coesite\n",
      "Amphobole #1 Richterite1\n",
      "Amphobole #2 Kataphorite1\n",
      "Amphobole #3 Taramite-Tschermakite1\n",
      "Amphobole #4 Hornblende-Tschermakite1\n",
      "Amphobole #5 Tremolite1\n",
      "Amphobole #6 Edenite1\n",
      "Amphobole #7 Edenite1\n",
      "Amphobole #8 Pargasite1\n",
      "Amphobole #9 Pargasite1\n",
      "Hornblende (#1)\n",
      "Hornblende (#2)\n",
      "Glaucophane\n",
      "Sanidine (Or83Ab15)\n",
      "Sanidine (Or89Ab11)\n",
      "Orthoclase (Or93Ab7)\n",
      "Albite (Or0Ab100)\n",
      "An0 (Albite)\n",
      "An25 (Oligoclase)\n",
      "An37 (Andesine)\n",
      "An48 (Andesine)\n",
      "An60 (Labradorite)\n",
      "An67 (Labradorite)\n",
      "An78 (Bytownite)\n",
      "An96 (Anorthite)\n",
      "Kaolinite\n",
      "Nacrite\n"
     ]
    }
   ],
   "source": [
    "import constants"
   ]
  },
  {
   "cell_type": "code",
   "execution_count": 4,
   "id": "f36c2506",
   "metadata": {},
   "outputs": [
    {
     "name": "stdout",
     "output_type": "stream",
     "text": [
      "Almandine-pyrope\n",
      "Grossular\n",
      "Majorite\n",
      "Pyrope\n",
      "a_quartz_1\n",
      "a_quartz_2\n",
      "a_Quartz_3\n",
      "a_quartz_4\n",
      "a_quartz_696C\n",
      "a_quartz_700C\n",
      "Calcite_1\n",
      "Calcite_2\n",
      "Forsterite (San Carlos)\n",
      "Fayalite (0.3GPa)\n",
      "Lawsonite\n",
      "Orthoenstatite (MgSiO3)\n",
      "Orthoenstatite (MgSiO3)\n",
      "Enstatite\n",
      "Bronzite (Mg0.8Fe0.2SiO3)\n",
      "Ferrosilite (FeSiO3)\n",
      "Biotite\n",
      "Muscovite\n",
      "Phlogopite\n",
      "Illite-smectite\n",
      "Dickite\n",
      "Augite\n",
      "Diopside (Di72He9Jd3Cr3Ts12)\n",
      "Chrome-diopside\n",
      "Jadeite\n",
      "Omphacite\n",
      "Coesite\n",
      "Amphobole #1 Richterite1\n",
      "Amphobole #2 Kataphorite1\n",
      "Amphobole #3 Taramite-Tschermakite1\n",
      "Amphobole #4 Hornblende-Tschermakite1\n",
      "Amphobole #5 Tremolite1\n",
      "Amphobole #6 Edenite1\n",
      "Amphobole #7 Edenite1\n",
      "Amphobole #8 Pargasite1\n",
      "Amphobole #9 Pargasite1\n",
      "Hornblende (#1)\n",
      "Hornblende (#2)\n",
      "Glaucophane\n",
      "Sanidine (Or83Ab15)\n",
      "Sanidine (Or89Ab11)\n",
      "Orthoclase (Or93Ab7)\n",
      "Albite (Or0Ab100)\n",
      "An0 (Albite)\n",
      "An25 (Oligoclase)\n",
      "An37 (Andesine)\n",
      "An48 (Andesine)\n",
      "An60 (Labradorite)\n",
      "An67 (Labradorite)\n",
      "An78 (Bytownite)\n",
      "An96 (Anorthite)\n",
      "Kaolinite\n",
      "Nacrite\n"
     ]
    }
   ],
   "source": [
    "constants.constants_help('phase')"
   ]
  },
  {
   "cell_type": "code",
   "execution_count": 5,
   "id": "6a3359e9",
   "metadata": {},
   "outputs": [],
   "source": [
    "# voigt_ = np.array(constants.get_voigt_phase(\"Nacrite\"))\n",
    "# print(voigt_)\n",
    "voigt_ = np.array([[198.96,   73.595,  68.185,   0.,      9.735,   0.   ],\n",
    "                [ 73.595, 155.94,   62.23,    0.,      6.295,   0.   ],\n",
    "                [ 68.185,  62.23,  225.99,    0.,     33.85,    0.   ],\n",
    "                [  0.,      0.,      0.,     65.66,    0.,      6.415],\n",
    "                [  9.735,   6.295,  33.85,    0.,     60.23,    0.   ],\n",
    "                [  0.,      0.,     0.,      6.415,   0.,     65.18 ]])\n",
    "voigt_ = voigt_*10**9"
   ]
  },
  {
   "cell_type": "markdown",
   "id": "0dd6a9e1",
   "metadata": {},
   "source": [
    "# 1. Tensor to voigt conversion and voigt to tensor conversion"
   ]
  },
  {
   "cell_type": "code",
   "execution_count": 6,
   "id": "4ec78b4f",
   "metadata": {},
   "outputs": [],
   "source": [
    "import tensor_conversion"
   ]
  },
  {
   "cell_type": "code",
   "execution_count": 7,
   "id": "6ca2b710",
   "metadata": {},
   "outputs": [],
   "source": [
    "voigt_stiffness = np.array([[198.96,   73.595,  68.185,   0.,      9.735,   0.   ],\n",
    "                [ 73.595, 155.94,   62.23,    0.,      6.295,   0.   ],\n",
    "                [ 68.185,  62.23,  225.99,    0.,     33.85,    0.   ],\n",
    "                [  0.,      0.,      0.,     65.66,    0.,      6.415],\n",
    "                [  9.735,   6.295,  33.85,    0.,     60.23,    0.   ],\n",
    "                [  0.,      0.,     0.,      6.415,   0.,     65.18 ]])"
   ]
  },
  {
   "cell_type": "code",
   "execution_count": 8,
   "id": "7bb00221",
   "metadata": {},
   "outputs": [
    {
     "name": "stdout",
     "output_type": "stream",
     "text": [
      "[[[[198.96    0.      9.735]\n",
      "   [  0.     73.595   0.   ]\n",
      "   [  9.735   0.     68.185]]\n",
      "\n",
      "  [[  0.     65.18    0.   ]\n",
      "   [ 65.18    0.      6.415]\n",
      "   [  0.      6.415   0.   ]]\n",
      "\n",
      "  [[  9.735   0.     60.23 ]\n",
      "   [  0.      6.295   0.   ]\n",
      "   [ 60.23    0.     33.85 ]]]\n",
      "\n",
      "\n",
      " [[[  0.     65.18    0.   ]\n",
      "   [ 65.18    0.      6.415]\n",
      "   [  0.      6.415   0.   ]]\n",
      "\n",
      "  [[ 73.595   0.      6.295]\n",
      "   [  0.    155.94    0.   ]\n",
      "   [  6.295   0.     62.23 ]]\n",
      "\n",
      "  [[  0.      6.415   0.   ]\n",
      "   [  6.415   0.     65.66 ]\n",
      "   [  0.     65.66    0.   ]]]\n",
      "\n",
      "\n",
      " [[[  9.735   0.     60.23 ]\n",
      "   [  0.      6.295   0.   ]\n",
      "   [ 60.23    0.     33.85 ]]\n",
      "\n",
      "  [[  0.      6.415   0.   ]\n",
      "   [  6.415   0.     65.66 ]\n",
      "   [  0.     65.66    0.   ]]\n",
      "\n",
      "  [[ 68.185   0.     33.85 ]\n",
      "   [  0.     62.23    0.   ]\n",
      "   [ 33.85    0.    225.99 ]]]]\n"
     ]
    }
   ],
   "source": [
    "tensor = tensor_conversion.voigt_to_tensor(voigt_stiffness)\n",
    "\n",
    "print(np.array(tensor))"
   ]
  },
  {
   "cell_type": "code",
   "execution_count": 9,
   "id": "10483747",
   "metadata": {},
   "outputs": [],
   "source": [
    "voigt = tensor_conversion.tensor_to_voigt(tensor)"
   ]
  },
  {
   "cell_type": "code",
   "execution_count": 10,
   "id": "78ed1878",
   "metadata": {},
   "outputs": [
    {
     "name": "stdout",
     "output_type": "stream",
     "text": [
      "[[198.96   73.595  68.185   0.      9.735   0.   ]\n",
      " [ 73.595 155.94   62.23    0.      6.295   0.   ]\n",
      " [ 68.185  62.23  225.99    0.     33.85    0.   ]\n",
      " [  0.      0.      0.     65.66    0.      6.415]\n",
      " [  9.735   6.295  33.85    0.     60.23    0.   ]\n",
      " [  0.      0.      0.      6.415   0.     65.18 ]]\n",
      "[[ True  True  True  True  True  True]\n",
      " [ True  True  True  True  True  True]\n",
      " [ True  True  True  True  True  True]\n",
      " [ True  True  True  True  True  True]\n",
      " [ True  True  True  True  True  True]\n",
      " [ True  True  True  True  True  True]]\n"
     ]
    }
   ],
   "source": [
    "print(np.array(voigt))\n",
    "\n",
    "print(voigt == voigt_stiffness)"
   ]
  },
  {
   "cell_type": "code",
   "execution_count": 11,
   "id": "4ec53aa5",
   "metadata": {},
   "outputs": [
    {
     "name": "stdout",
     "output_type": "stream",
     "text": [
      "[[[[198.96    0.      9.735]\n",
      "   [  0.     73.595   0.   ]\n",
      "   [  9.735   0.     68.185]]\n",
      "\n",
      "  [[  0.     65.18    0.   ]\n",
      "   [ 65.18    0.      6.415]\n",
      "   [  0.      6.415   0.   ]]\n",
      "\n",
      "  [[  9.735   0.     60.23 ]\n",
      "   [  0.      6.295   0.   ]\n",
      "   [ 60.23    0.     33.85 ]]]\n",
      "\n",
      "\n",
      " [[[  0.     65.18    0.   ]\n",
      "   [ 65.18    0.      6.415]\n",
      "   [  0.      6.415   0.   ]]\n",
      "\n",
      "  [[ 73.595   0.      6.295]\n",
      "   [  0.    155.94    0.   ]\n",
      "   [  6.295   0.     62.23 ]]\n",
      "\n",
      "  [[  0.      6.415   0.   ]\n",
      "   [  6.415   0.     65.66 ]\n",
      "   [  0.     65.66    0.   ]]]\n",
      "\n",
      "\n",
      " [[[  9.735   0.     60.23 ]\n",
      "   [  0.      6.295   0.   ]\n",
      "   [ 60.23    0.     33.85 ]]\n",
      "\n",
      "  [[  0.      6.415   0.   ]\n",
      "   [  6.415   0.     65.66 ]\n",
      "   [  0.     65.66    0.   ]]\n",
      "\n",
      "  [[ 68.185   0.     33.85 ]\n",
      "   [  0.     62.23    0.   ]\n",
      "   [ 33.85    0.    225.99 ]]]]\n",
      "True\n"
     ]
    }
   ],
   "source": [
    "cijkl = tensor_conversion.voigt_to_tensor(voigt)\n",
    "print(np.array(cijkl))\n",
    "print(cijkl == tensor)"
   ]
  },
  {
   "cell_type": "markdown",
   "id": "d5fee158",
   "metadata": {},
   "source": [
    "# 2. Tensor rotation"
   ]
  },
  {
   "cell_type": "code",
   "execution_count": 12,
   "id": "aa51bea4",
   "metadata": {},
   "outputs": [],
   "source": [
    "import tensor_rotation\n",
    "import tensor_conversion"
   ]
  },
  {
   "cell_type": "code",
   "execution_count": 13,
   "id": "79e5db47",
   "metadata": {
    "scrolled": true
   },
   "outputs": [
    {
     "name": "stdout",
     "output_type": "stream",
     "text": [
      "Original tensor in voigt matrix convention:\n",
      "              0             1             2             3             4   \n",
      "0  1.989600e+11  7.359500e+10  6.818500e+10  0.000000e+00  9.735000e+09  \\\n",
      "1  7.359500e+10  1.559400e+11  6.223000e+10  0.000000e+00  6.295000e+09   \n",
      "2  6.818500e+10  6.223000e+10  2.259900e+11  0.000000e+00  3.385000e+10   \n",
      "3  0.000000e+00  0.000000e+00  0.000000e+00  6.566000e+10  0.000000e+00   \n",
      "4  9.735000e+09  6.295000e+09  3.385000e+10  0.000000e+00  6.023000e+10   \n",
      "5  0.000000e+00  0.000000e+00  0.000000e+00  6.415000e+09  0.000000e+00   \n",
      "\n",
      "              5  \n",
      "0  0.000000e+00  \n",
      "1  0.000000e+00  \n",
      "2  0.000000e+00  \n",
      "3  6.415000e+09  \n",
      "4  0.000000e+00  \n",
      "5  6.518000e+10  \n"
     ]
    }
   ],
   "source": [
    "import numpy as np\n",
    "import pandas as pd\n",
    "M = np.array([[198.96,   73.595,  68.185,   0.,      9.735,   0.   ],\n",
    "             [ 73.595, 155.94,   62.23,    0.,      6.295,   0.   ],\n",
    "             [ 68.185,  62.23,  225.99,    0.,     33.85,    0.   ],\n",
    "             [  0.,      0.,      0.,     65.66,    0.,      6.415],\n",
    "             [  9.735,   6.295,  33.85,    0.,     60.23,    0.   ],\n",
    "              [  0.,      0.,     0.,      6.415,   0.,     65.18 ]])\n",
    "\n",
    "tensor = tensor_conversion.voigt_to_tensor(voigt_)\n",
    "\n",
    "print(\"Original tensor in voigt matrix convention:\")\n",
    "print(pd.DataFrame(np.array(tensor_conversion.tensor_to_voigt(tensor))))\n",
    "\n",
    "alpha = 30 # Rotation angle around x axis in degrees\n",
    "beta = 50 # Rotation angle around y axis in degrees\n",
    "gamma = 80    # Rotation angle around z axis in degrees\n",
    "output = tensor_rotation.rotate_tensor(tensor, alpha, beta, gamma)"
   ]
  },
  {
   "cell_type": "code",
   "execution_count": 14,
   "id": "aa0ff7d0",
   "metadata": {},
   "outputs": [
    {
     "name": "stdout",
     "output_type": "stream",
     "text": [
      "Output rotated tensor in voigt matrix convention:\n",
      "              0             1             2             3             4   \n",
      "0  1.636937e+11  5.522020e+10  7.733802e+10  5.086870e+09  7.071287e+09  \\\n",
      "1  5.522020e+10  1.625955e+11  8.012064e+10  2.703473e+09  1.693446e+09   \n",
      "2  7.733802e+10  8.012064e+10  2.372631e+11 -1.649570e+10  1.009847e+10   \n",
      "3  5.086870e+09  2.703473e+09 -1.649570e+10  7.242763e+10 -3.653123e+09   \n",
      "4  7.071287e+09  1.693446e+09  1.009847e+10 -3.653123e+09  7.387293e+10   \n",
      "5 -5.303336e+09  6.120997e+09 -4.779734e+09  3.255414e+09 -5.746486e+08   \n",
      "\n",
      "              5  \n",
      "0 -5.303336e+09  \n",
      "1  6.120997e+09  \n",
      "2 -4.779734e+09  \n",
      "3  3.255414e+09  \n",
      "4 -5.746486e+08  \n",
      "5  5.343829e+10  \n"
     ]
    }
   ],
   "source": [
    "import pandas as pd\n",
    "print(\"Output rotated tensor in voigt matrix convention:\")\n",
    "print(pd.DataFrame(np.array(tensor_conversion.tensor_to_voigt(output))))"
   ]
  },
  {
   "cell_type": "markdown",
   "id": "4905d28d",
   "metadata": {},
   "source": [
    "# 3. Calculating Christoffel tensors"
   ]
  },
  {
   "cell_type": "code",
   "execution_count": 15,
   "id": "efce5019",
   "metadata": {},
   "outputs": [],
   "source": [
    "import christoffel"
   ]
  },
  {
   "cell_type": "code",
   "execution_count": 16,
   "id": "62a58666",
   "metadata": {},
   "outputs": [
    {
     "name": "stdout",
     "output_type": "stream",
     "text": [
      "Direction:  [1. 0. 0.]\n",
      "Christoffel tensor:\n",
      "[[1.9896e+11 0.0000e+00 9.7350e+09]\n",
      " [0.0000e+00 6.5180e+10 0.0000e+00]\n",
      " [9.7350e+09 0.0000e+00 6.0230e+10]]\n",
      "Wave moduli:\n",
      "[199639796023.68756, 65180000000.00001, 59550203976.312416]\n",
      "Velocities:\n",
      "[7552.479177134724, 4315.420853503994, 4124.844723529859]\n",
      "Polarization directions:\n",
      "[[ 0.99757076  0.         -0.06966047]\n",
      " [ 0.          1.          0.        ]\n",
      " [ 0.06966047  0.          0.99757076]]\n"
     ]
    }
   ],
   "source": [
    "import tensor_conversion\n",
    "tensor_M = tensor_conversion.voigt_to_tensor(voigt_)\n",
    "stiffness = tensor_M\n",
    "direction = np.array([1, 0, 0])\n",
    "density = 3500.0\n",
    "christoffel_t = christoffel.christoffel_tensor(stiffness, direction)\n",
    "wave_moduli, velocities, polarization_directions = christoffel.wave_properties(christoffel_t, density)\n",
    "print(\"Christoffel tensor:\")\n",
    "print(christoffel_t)\n",
    "print(\"Wave moduli:\")\n",
    "print(wave_moduli)\n",
    "print(\"Velocities:\")\n",
    "print(velocities)\n",
    "print(\"Polarization directions:\")\n",
    "print(polarization_directions)"
   ]
  },
  {
   "cell_type": "markdown",
   "id": "e3fe9714",
   "metadata": {},
   "source": [
    "# 4. Calculating velocity"
   ]
  },
  {
   "cell_type": "code",
   "execution_count": 17,
   "id": "eef062d0",
   "metadata": {},
   "outputs": [],
   "source": [
    "import christoffel_wave_prop"
   ]
  },
  {
   "cell_type": "code",
   "execution_count": 18,
   "id": "7c9b804d",
   "metadata": {},
   "outputs": [
    {
     "name": "stdout",
     "output_type": "stream",
     "text": [
      "The values of vp are:\n",
      "Min Vp:  6.674899678218821\n",
      "Max Vp:  8.609687354376568\n",
      "The values of vs1 are:\n",
      "Min Vs1:  3.9755539348056756\n",
      "Max Vs1:  4.7153920922273524\n",
      "The values of vs2 are:\n",
      "Min Vs2:  3.680816097015434\n",
      "Max Vs2:  4.528474076886109\n",
      "25.3168459446328\n"
     ]
    }
   ],
   "source": [
    "import numpy as np\n",
    "import tensor_conversion\n",
    "\n",
    "cijkl = tensor_conversion.voigt_to_tensor(voigt_)\n",
    "rho = 3500\n",
    "\n",
    "# Calculate vp, vs1 and vs2 over all the directions possible\n",
    "vp, vs1, vs2 = christoffel_wave_prop.phase_velocity(cijkl, rho)\n",
    "# Print vp, vs1 and vs2\n",
    "print(\"The values of vp are:\")\n",
    "print(\"Min Vp: \", min(vp)/1000)\n",
    "print(\"Max Vp: \", max(vp)/1000)\n",
    "print(\"The values of vs1 are:\")\n",
    "print(\"Min Vs1: \", min(vs1)/1000)\n",
    "print(\"Max Vs1: \", max(vs1)/1000)\n",
    "print(\"The values of vs2 are:\")\n",
    "print(\"Min Vs2: \", min(vs2)/1000)\n",
    "print(\"Max Vs2: \", max(vs2)/1000)\n",
    "print(200*((max(vp)-min(vp))/(max(vp)+min(vp))))"
   ]
  },
  {
   "cell_type": "markdown",
   "id": "6437c48d",
   "metadata": {},
   "source": [
    "# 5. Anisotropy plot"
   ]
  },
  {
   "cell_type": "code",
   "execution_count": 19,
   "id": "2d8d7e24",
   "metadata": {
    "scrolled": true
   },
   "outputs": [
    {
     "name": "stderr",
     "output_type": "stream",
     "text": [
      "/Users/usin8611/Documents/code_sydney/codes_anisotropy/anisotropy/notebooks/../sage/cijkl_2dplots_vp.py:73: UserWarning: set_ticklabels() should only be used with a fixed number of ticks, i.e. after set_ticks() or using a FixedLocator.\n",
      "  cb.ax.set_yticklabels(['{:.1f}'.format(v) for v in cb.get_ticks()])\n"
     ]
    },
    {
     "data": {
      "image/png": "[encoded data removed]",
      "text/plain": [
       "<Figure size 640x480 with 2 Axes>"
      ]
     },
     "metadata": {},
     "output_type": "display_data"
    }
   ],
   "source": [
    "import tensor_conversion\n",
    "# Plot the phase velocity in 2d stereographic projection plots with velocity represented by colour\n",
    "import cijkl_2dplots_vp\n",
    "M = np.array([[198.96,   73.595,  68.185,   0.,      9.735,   0.   ],\n",
    "                [ 73.595, 155.94,   62.23,    0.,      6.295,   0.   ],\n",
    "                [ 68.185,  62.23,  225.99,    0.,     33.85,    0.   ],\n",
    "                [  0.,      0.,      0.,     65.66,    0.,      6.415],\n",
    "                [  9.735,   6.295,  33.85,    0.,     60.23,    0.   ],\n",
    "                [  0.,      0.,     0.,      6.415,   0.,     65.18 ]])*10**9\n",
    "\n",
    "cijkl = tensor_conversion.voigt_to_tensor(voigt_)\n",
    "\n",
    "rho = 3500\n",
    "\n",
    "# Plot the phase velocity in 2d stereographic projection plots with velocity represented by colour\n",
    "cijkl_2dplots_vp.plot_vp_2d(cijkl, rho)"
   ]
  },
  {
   "cell_type": "markdown",
   "id": "94c425b3",
   "metadata": {},
   "source": [
    "# Loops"
   ]
  },
  {
   "cell_type": "code",
   "execution_count": 20,
   "id": "f51b2541",
   "metadata": {},
   "outputs": [],
   "source": [
    "import elastictensors"
   ]
  },
  {
   "cell_type": "code",
   "execution_count": 21,
   "id": "431c00ae",
   "metadata": {},
   "outputs": [
    {
     "data": {
      "text/plain": [
       "array([[243.16,  87.83,  91.87,   0.  ,   0.  ,   0.  ],\n",
       "       [ 87.83, 172.97,  86.44,   0.  ,   0.  ,   0.  ],\n",
       "       [ 91.87,  86.44, 231.98,   0.  ,   0.  ,   0.  ],\n",
       "       [  0.  ,   0.  ,   0.  ,  85.44,   0.  ,   0.  ],\n",
       "       [  0.  ,   0.  ,   0.  ,   0.  ,  79.78,   0.  ],\n",
       "       [  0.  ,   0.  ,   0.  ,   0.  ,   0.  ,  81.86]])"
      ]
     },
     "execution_count": 21,
     "metadata": {},
     "output_type": "execute_result"
    }
   ],
   "source": [
    "elastictensors.calculate_tensor_deriv(\"enstatite\", 1, 200)"
   ]
  },
  {
   "cell_type": "code",
   "execution_count": 22,
   "id": "3a0d4990",
   "metadata": {},
   "outputs": [],
   "source": [
    "pressure = np.linspace(0, 20, 11)\n",
    "temperature = np.linspace(300, 1500, 11)"
   ]
  },
  {
   "cell_type": "code",
   "execution_count": 23,
   "id": "3436921d",
   "metadata": {},
   "outputs": [],
   "source": [
    "vp_list = list()\n",
    "for temp in temperature:\n",
    "    for p in pressure:\n",
    "        resultant = elastictensors.calculate_tensor_deriv(\"enstatite\", p, temp)*10**9\n",
    "        rho = 3300\n",
    "        cijkl = tensor_conversion.voigt_to_tensor(resultant)\n",
    "        vp, vs1, vs2 = christoffel_wave_prop.phase_velocity(cijkl, rho)\n",
    "        vp_list.append([temp, p, max(vp)])\n",
    "        "
   ]
  },
  {
   "cell_type": "code",
   "execution_count": 24,
   "id": "2863eb35",
   "metadata": {},
   "outputs": [],
   "source": [
    "x = list()\n",
    "y = list()\n",
    "z= list()\n",
    "for x_, y_, z_ in vp_list:\n",
    "    x.append(x_)\n",
    "    y.append(y_)\n",
    "    z.append(z_)"
   ]
  },
  {
   "cell_type": "code",
   "execution_count": 25,
   "id": "89d9ff92",
   "metadata": {},
   "outputs": [
    {
     "ename": "ValueError",
     "evalue": "cannot reshape array of size 121 into shape (21,21)",
     "output_type": "error",
     "traceback": [
      "\u001b[0;31m---------------------------------------------------------------------------\u001b[0m",
      "\u001b[0;31mValueError\u001b[0m                                Traceback (most recent call last)",
      "Cell \u001b[0;32mIn[25], line 16\u001b[0m\n\u001b[1;32m     14\u001b[0m xi \u001b[38;5;241m=\u001b[39m np\u001b[38;5;241m.\u001b[39mlinspace(\u001b[38;5;28mmin\u001b[39m(x), \u001b[38;5;28mmax\u001b[39m(x), \u001b[38;5;241m21\u001b[39m)\n\u001b[1;32m     15\u001b[0m yi \u001b[38;5;241m=\u001b[39m np\u001b[38;5;241m.\u001b[39mlinspace(\u001b[38;5;28mmin\u001b[39m(y), \u001b[38;5;28mmax\u001b[39m(y), \u001b[38;5;241m21\u001b[39m)\n\u001b[0;32m---> 16\u001b[0m zi \u001b[38;5;241m=\u001b[39m \u001b[43mz\u001b[49m\u001b[38;5;241;43m.\u001b[39;49m\u001b[43mreshape\u001b[49m\u001b[43m(\u001b[49m\u001b[38;5;28;43mlen\u001b[39;49m\u001b[43m(\u001b[49m\u001b[43mxi\u001b[49m\u001b[43m)\u001b[49m\u001b[43m,\u001b[49m\u001b[43m \u001b[49m\u001b[38;5;28;43mlen\u001b[39;49m\u001b[43m(\u001b[49m\u001b[43myi\u001b[49m\u001b[43m)\u001b[49m\u001b[43m)\u001b[49m\n\u001b[1;32m     18\u001b[0m plt\u001b[38;5;241m.\u001b[39mfigure(figsize\u001b[38;5;241m=\u001b[39m(\u001b[38;5;241m10\u001b[39m, \u001b[38;5;241m6\u001b[39m))\n\u001b[1;32m     19\u001b[0m plt\u001b[38;5;241m.\u001b[39mpcolormesh(xi, yi, zi, shading\u001b[38;5;241m=\u001b[39m\u001b[38;5;124m'\u001b[39m\u001b[38;5;124mauto\u001b[39m\u001b[38;5;124m'\u001b[39m)\n",
      "\u001b[0;31mValueError\u001b[0m: cannot reshape array of size 121 into shape (21,21)"
     ]
    }
   ],
   "source": [
    "#dIOPSIDE\n",
    "\n",
    "import matplotlib.pyplot as plt\n",
    "import numpy as np\n",
    "\n",
    "# vp_list = [['x1', 'y1', 'z1'], ['x2', 'y2', 'z2'], ...]  # replace with your actual points\n",
    "\n",
    "x, y, z = zip(*vp_list)\n",
    "\n",
    "x = np.array(x)\n",
    "y = np.array(y)\n",
    "z = np.array(z)\n",
    "\n",
    "xi = np.linspace(min(x), max(x), 21)\n",
    "yi = np.linspace(min(y), max(y), 21)\n",
    "zi = z.reshape(len(xi), len(yi))\n",
    "\n",
    "plt.figure(figsize=(10, 6))\n",
    "plt.pcolormesh(xi, yi, zi, shading='auto')\n",
    "plt.colorbar()  # show color scale\n",
    "\n",
    "plt.show()\n"
   ]
  },
  {
   "cell_type": "code",
   "execution_count": null,
   "id": "e94418b2",
   "metadata": {},
   "outputs": [],
   "source": [
    "vp_narray = np.array(vp_list)"
   ]
  },
  {
   "cell_type": "code",
   "execution_count": null,
   "id": "1b85b996",
   "metadata": {},
   "outputs": [],
   "source": [
    "vp_narray.shape"
   ]
  },
  {
   "cell_type": "code",
   "execution_count": null,
   "id": "c67ab850",
   "metadata": {},
   "outputs": [],
   "source": [
    "vp_list = list()\n",
    "for temp in temperature:\n",
    "    for p in pressure:\n",
    "        resultant = elastictensors.calculate_tensor_deriv(\"diopside\", p, temp)*10**9\n",
    "        rho = 3300\n",
    "        cijkl = tensor_conversion.voigt_to_tensor(resultant)\n",
    "        vp, vs1, vs2 = christoffel_wave_prop.phase_velocity(cijkl, rho)\n",
    "        vp_list.append([temp, p, 200*((max(vp)-min(vp))/(max(vp)+min(vp)))])\n",
    "        "
   ]
  },
  {
   "cell_type": "code",
   "execution_count": null,
   "id": "7c873333",
   "metadata": {},
   "outputs": [],
   "source": [
    "import matplotlib.pyplot as plt\n",
    "import numpy as np\n",
    "\n",
    "# Assuming your list of points is as follows:\n",
    "# vp_list = [['x1', 'y1', 'z1'], ['x2', 'y2', 'z2'], ...]  # replace with your actual points\n",
    "\n",
    "# Unzip the list of points\n",
    "x, y, z = zip(*vp_list)\n",
    "\n",
    "# Convert lists to numpy arrays for manipulation\n",
    "x = np.array(x)\n",
    "y = np.array(y)\n",
    "z = np.array(z)\n",
    "\n",
    "# Create a 2D grid for x, y and reshape z to this grid\n",
    "xi = np.linspace(min(x), max(x), 11)\n",
    "yi = np.linspace(min(y), max(y), 11)\n",
    "zi = z.reshape(len(xi), len(yi))\n",
    "\n",
    "# Create the plot\n",
    "plt.figure(figsize=(10, 6))\n",
    "plt.pcolormesh(xi, yi, zi, shading='auto')\n",
    "plt.colorbar()  # show color scale\n",
    "\n",
    "# Show the plot\n",
    "plt.show()"
   ]
  },
  {
   "cell_type": "code",
   "execution_count": null,
   "id": "b359ce18",
   "metadata": {},
   "outputs": [],
   "source": [
    "#ENSTATITE\n",
    "\n",
    "import matplotlib.pyplot as plt\n",
    "import numpy as np\n",
    "\n",
    "# vp_list = [['x1', 'y1', 'z1'], ['x2', 'y2', 'z2'], ...]  # replace with your actual points\n",
    "\n",
    "x, y, z = zip(*vp_list)\n",
    "\n",
    "x = np.array(x)\n",
    "y = np.array(y)\n",
    "z = np.array(z)\n",
    "\n",
    "xi = np.linspace(min(x), max(x), 11)\n",
    "yi = np.linspace(min(y), max(y), 11)\n",
    "zi = z.reshape(len(xi), len(yi))\n",
    "\n",
    "plt.figure(figsize=(10, 6))\n",
    "plt.pcolormesh(xi, yi, zi, shading='auto')\n",
    "plt.colorbar()  # show color scale\n",
    "\n",
    "plt.show()\n"
   ]
  },
  {
   "cell_type": "code",
   "execution_count": null,
   "id": "01fddf07",
   "metadata": {},
   "outputs": [],
   "source": [
    "vp_list = list()\n",
    "for temp in temperature:\n",
    "    for p in pressure:\n",
    "        resultant = elastictensors.calculate_tensor_deriv(\"enstatite\", p, temp)*10**9\n",
    "        rho = 3300\n",
    "        cijkl = tensor_conversion.voigt_to_tensor(resultant)\n",
    "        vp, vs1, vs2 = christoffel_wave_prop.phase_velocity(cijkl, rho)\n",
    "        vp_list.append([temp, p, min(vp)])"
   ]
  },
  {
   "cell_type": "code",
   "execution_count": null,
   "id": "2a7dabfd",
   "metadata": {},
   "outputs": [],
   "source": [
    "#ENSTATITE\n",
    "\n",
    "import matplotlib.pyplot as plt\n",
    "import numpy as np\n",
    "\n",
    "# Assuming your list of points is as follows:\n",
    "# vp_list = [['x1', 'y1', 'z1'], ['x2', 'y2', 'z2'], ...]  # replace with your actual points\n",
    "\n",
    "x, y, z = zip(*vp_list)\n",
    "\n",
    "x = np.array(x)\n",
    "y = np.array(y)\n",
    "z = np.array(z)\n",
    "\n",
    "xi = np.linspace(min(x), max(x), 11)\n",
    "yi = np.linspace(min(y), max(y), 11)\n",
    "zi = z.reshape(len(xi), len(yi))\n",
    "\n",
    "plt.figure(figsize=(10, 6))\n",
    "plt.pcolormesh(xi, yi, zi, shading='auto')\n",
    "plt.colorbar()  # show color scale\n",
    "\n",
    "plt.show()\n"
   ]
  },
  {
   "cell_type": "markdown",
   "id": "5df0c10a",
   "metadata": {},
   "source": [
    "# Diopside and enstatite and forsterite"
   ]
  },
  {
   "cell_type": "code",
   "execution_count": null,
   "id": "a41afe5c",
   "metadata": {
    "scrolled": true
   },
   "outputs": [],
   "source": [
    "pressure = np.linspace(0, 20, 11)\n",
    "temperature = np.linspace(300, 1500, 11)\n",
    "\n",
    "vp_list = list()\n",
    "for temp in temperature:\n",
    "    for p in pressure:\n",
    "        resultant = 0.3*(elastictensors.calculate_tensor_deriv(\"diopside\", p, temp)*10**9)+0.4*(elastictensors.calculate_tensor_deriv(\"enstatite\", p, temp)*10**9)+0.3*(elastictensors.calculate_tensor_deriv(\"forsterite\", p, temp)*10**9)\n",
    "        rho = 3300\n",
    "        cijkl = tensor_conversion.voigt_to_tensor(resultant)\n",
    "        vp, vs1, vs2 = christoffel_wave_prop.phase_velocity(cijkl, rho)\n",
    "        vp_list.append([temp, p, 200*((max(vp)-min(vp))/(max(vp)+min(vp)))])\n",
    "\n",
    "import matplotlib.pyplot as plt\n",
    "import numpy as np\n",
    "\n",
    "# vp_list = [['x1', 'y1', 'z1'], ['x2', 'y2', 'z2'], ...]  # replace with your actual points\n",
    "\n",
    "x, y, z = zip(*vp_list)\n",
    "\n",
    "x = np.array(x)\n",
    "y = np.array(y)\n",
    "z = np.array(z)\n",
    "\n",
    "xi = np.linspace(min(x), max(x), 11)\n",
    "yi = np.linspace(min(y), max(y), 11)\n",
    "zi = z.reshape(len(xi), len(yi))\n",
    "\n",
    "# Create the plot\n",
    "plt.figure(figsize=(10, 6))\n",
    "plt.pcolormesh(xi, yi, zi, shading='auto')\n",
    "plt.colorbar()  # show color scale\n",
    "\n",
    "# Show the plot\n",
    "plt.show()\n"
   ]
  },
  {
   "cell_type": "code",
   "execution_count": null,
   "id": "b2493663",
   "metadata": {},
   "outputs": [],
   "source": [
    "pressure = np.linspace(0, 20, 11)\n",
    "temperature = np.linspace(300, 1500, 11)\n",
    "\n",
    "vp_list = list()\n",
    "for temp in temperature:\n",
    "    for p in pressure:\n",
    "        resultant = 0.3*(elastictensors.calculate_tensor_deriv(\"diopside\", p, temp)*10**9)+0.4*(elastictensors.calculate_tensor_deriv(\"enstatite\", p, temp)*10**9)+0.3*(elastictensors.calculate_tensor_deriv(\"forsterite\", p, temp)*10**9)\n",
    "        rho = 3300\n",
    "        cijkl = tensor_conversion.voigt_to_tensor(resultant)\n",
    "        vp, vs1, vs2 = christoffel_wave_prop.phase_velocity(cijkl, rho)\n",
    "        vp_list.append([temp, p, max(vp)])\n",
    "\n",
    "import matplotlib.pyplot as plt\n",
    "import numpy as np\n",
    "\n",
    "# vp_list = [['x1', 'y1', 'z1'], ['x2', 'y2', 'z2'], ...]  # replace with your actual points\n",
    "\n",
    "x, y, z = zip(*vp_list)\n",
    "\n",
    "x = np.array(x)\n",
    "y = np.array(y)\n",
    "z = np.array(z)\n",
    "\n",
    "xi = np.linspace(min(x), max(x), 11)\n",
    "yi = np.linspace(min(y), max(y), 11)\n",
    "zi = z.reshape(len(xi), len(yi))\n",
    "\n",
    "# Create the plot\n",
    "plt.figure(figsize=(10, 6))\n",
    "plt.pcolormesh(xi, yi, zi, shading='auto')\n",
    "plt.colorbar()  # show color scale\n",
    "\n",
    "# Show the plot\n",
    "plt.show()\n"
   ]
  },
  {
   "cell_type": "markdown",
   "id": "51d8c077",
   "metadata": {},
   "source": [
    "# Forsterite"
   ]
  },
  {
   "cell_type": "code",
   "execution_count": null,
   "id": "d0273497",
   "metadata": {},
   "outputs": [],
   "source": [
    "pressure = np.linspace(0, 20, 11)\n",
    "temperature = np.linspace(300, 1500, 11)\n",
    "\n",
    "vp_list = list()\n",
    "for temp in temperature:\n",
    "    for p in pressure:\n",
    "        resultant =elastictensors.calculate_tensor_deriv(\"forsterite\", p, temp)*10**9\n",
    "        rho = 3300\n",
    "        cijkl = tensor_conversion.voigt_to_tensor(resultant)\n",
    "        vp, vs1, vs2 = christoffel_wave_prop.phase_velocity(cijkl, rho)\n",
    "        vp_list.append([temp, p, max(vp)])\n",
    "\n",
    "import matplotlib.pyplot as plt\n",
    "import numpy as np\n",
    "\n",
    "# vp_list = [['x1', 'y1', 'z1'], ['x2', 'y2', 'z2'], ...]  # replace with your actual points\n",
    "\n",
    "x, y, z = zip(*vp_list)\n",
    "\n",
    "x = np.array(x)\n",
    "y = np.array(y)\n",
    "z = np.array(z)\n",
    "\n",
    "xi = np.linspace(min(x), max(x), 11)\n",
    "yi = np.linspace(min(y), max(y), 11)\n",
    "zi = z.reshape(len(xi), len(yi))\n",
    "\n",
    "# Create the plot\n",
    "plt.figure(figsize=(10, 6))\n",
    "plt.pcolormesh(xi, yi, zi, shading='auto')\n",
    "plt.colorbar()  # show color scale\n",
    "\n",
    "# Show the plot\n",
    "plt.show()\n"
   ]
  },
  {
   "cell_type": "markdown",
   "id": "44f849cb",
   "metadata": {},
   "source": [
    "# Min VP SPEEDS"
   ]
  },
  {
   "cell_type": "markdown",
   "id": "38e8a3e1",
   "metadata": {},
   "source": [
    "### Diopside"
   ]
  },
  {
   "cell_type": "code",
   "execution_count": null,
   "id": "8ed50f86",
   "metadata": {},
   "outputs": [],
   "source": [
    "pressure = np.linspace(0, 20, 11)\n",
    "temperature = np.linspace(300, 1500, 11)\n",
    "\n",
    "vp_list = list()\n",
    "for temp in temperature:\n",
    "    for p in pressure:\n",
    "        resultant =elastictensors.calculate_tensor_deriv(\"diopside\", p, temp)*10**9\n",
    "        rho = 3300\n",
    "        cijkl = tensor_conversion.voigt_to_tensor(resultant)\n",
    "        vp, vs1, vs2 = christoffel_wave_prop.phase_velocity(cijkl, rho)\n",
    "        vp_list.append([temp, p, min(vp)])\n",
    "\n",
    "import matplotlib.pyplot as plt\n",
    "import numpy as np\n",
    "\n",
    "# vp_list = [['x1', 'y1', 'z1'], ['x2', 'y2', 'z2'], ...]  # replace with your actual points\n",
    "\n",
    "x, y, z = zip(*vp_list)\n",
    "\n",
    "x = np.array(x)\n",
    "y = np.array(y)\n",
    "z = np.array(z)\n",
    "\n",
    "xi = np.linspace(min(x), max(x), 11)\n",
    "yi = np.linspace(min(y), max(y), 11)\n",
    "zi = z.reshape(len(xi), len(yi))\n",
    "\n",
    "# Create the plot\n",
    "plt.figure(figsize=(10, 6))\n",
    "plt.pcolormesh(xi, yi, zi, shading='auto')\n",
    "plt.colorbar()  # show color scale\n",
    "\n",
    "# Show the plot\n",
    "plt.show()\n"
   ]
  },
  {
   "cell_type": "markdown",
   "id": "cb86d4ac",
   "metadata": {},
   "source": [
    "### Forsterite"
   ]
  },
  {
   "cell_type": "code",
   "execution_count": null,
   "id": "48639d96",
   "metadata": {},
   "outputs": [],
   "source": [
    "pressure = np.linspace(0, 20, 11)\n",
    "temperature = np.linspace(300, 1500, 11)\n",
    "\n",
    "vp_list = list()\n",
    "for temp in temperature:\n",
    "    for p in pressure:\n",
    "        resultant =elastictensors.calculate_tensor_deriv(\"forsterite\", p, temp)*10**9\n",
    "        rho = 3300\n",
    "        cijkl = tensor_conversion.voigt_to_tensor(resultant)\n",
    "        vp, vs1, vs2 = christoffel_wave_prop.phase_velocity(cijkl, rho)\n",
    "        vp_list.append([temp, p, min(vp)])\n",
    "\n",
    "import matplotlib.pyplot as plt\n",
    "import numpy as np\n",
    "\n",
    "# vp_list = [['x1', 'y1', 'z1'], ['x2', 'y2', 'z2'], ...]  # replace with your actual points\n",
    "\n",
    "x, y, z = zip(*vp_list)\n",
    "\n",
    "x = np.array(x)\n",
    "y = np.array(y)\n",
    "z = np.array(z)\n",
    "\n",
    "xi = np.linspace(min(x), max(x), 11)\n",
    "yi = np.linspace(min(y), max(y), 11)\n",
    "zi = z.reshape(len(xi), len(yi))\n",
    "\n",
    "# Create the plot\n",
    "plt.figure(figsize=(10, 6))\n",
    "plt.pcolormesh(xi, yi, zi, shading='auto')\n",
    "plt.colorbar()  # show color scale\n",
    "\n",
    "# Show the plot\n",
    "plt.show()\n"
   ]
  },
  {
   "cell_type": "markdown",
   "id": "63b0dcab",
   "metadata": {},
   "source": [
    "### Enstatite"
   ]
  },
  {
   "cell_type": "code",
   "execution_count": null,
   "id": "631516dc",
   "metadata": {},
   "outputs": [],
   "source": [
    "pressure = np.linspace(0, 20, 11)\n",
    "temperature = np.linspace(300, 1500, 11)\n",
    "\n",
    "vp_list = list()\n",
    "for temp in temperature:\n",
    "    for p in pressure:\n",
    "        resultant =elastictensors.calculate_tensor_deriv(\"enstatite\", p, temp)*10**9\n",
    "        rho = 3300\n",
    "        cijkl = tensor_conversion.voigt_to_tensor(resultant)\n",
    "        vp, vs1, vs2 = christoffel_wave_prop.phase_velocity(cijkl, rho)\n",
    "        vp_list.append([temp, p, min(vp)])\n",
    "\n",
    "import matplotlib.pyplot as plt\n",
    "import numpy as np\n",
    "\n",
    "# vp_list = [['x1', 'y1', 'z1'], ['x2', 'y2', 'z2'], ...]  # replace with your actual points\n",
    "\n",
    "x, y, z = zip(*vp_list)\n",
    "\n",
    "x = np.array(x)\n",
    "y = np.array(y)\n",
    "z = np.array(z)\n",
    "\n",
    "xi = np.linspace(min(x), max(x), 11)\n",
    "yi = np.linspace(min(y), max(y), 11)\n",
    "zi = z.reshape(len(xi), len(yi))\n",
    "\n",
    "# Create the plot\n",
    "plt.figure(figsize=(10, 6))\n",
    "plt.pcolormesh(xi, yi, zi, shading='auto')\n",
    "plt.colorbar()  # show color scale\n",
    "\n",
    "# Show the plot\n",
    "plt.show()\n"
   ]
  },
  {
   "cell_type": "markdown",
   "id": "172f17ef",
   "metadata": {},
   "source": [
    "### 03 0.4 0.5 dio ens fors"
   ]
  },
  {
   "cell_type": "code",
   "execution_count": null,
   "id": "d89a443f",
   "metadata": {},
   "outputs": [],
   "source": [
    "pressure = np.linspace(0, 20, 11)\n",
    "temperature = np.linspace(300, 1500, 11)\n",
    "\n",
    "vp_list = list()\n",
    "for temp in temperature:\n",
    "    for p in pressure:\n",
    "        resultant = 0.3*(elastictensors.calculate_tensor_deriv(\"diopside\", p, temp)*10**9)+0.4*(elastictensors.calculate_tensor_deriv(\"enstatite\", p, temp)*10**9)+0.3*(elastictensors.calculate_tensor_deriv(\"forsterite\", p, temp)*10**9)\n",
    "        rho = 3300\n",
    "        cijkl = tensor_conversion.voigt_to_tensor(resultant)\n",
    "        vp, vs1, vs2 = christoffel_wave_prop.phase_velocity(cijkl, rho)\n",
    "        vp_list.append([temp, p, min(vp)])\n",
    "\n",
    "import matplotlib.pyplot as plt\n",
    "import numpy as np\n",
    "\n",
    "# vp_list = [['x1', 'y1', 'z1'], ['x2', 'y2', 'z2'], ...]  # replace with your actual points\n",
    "\n",
    "x, y, z = zip(*vp_list)\n",
    "\n",
    "x = np.array(x)\n",
    "y = np.array(y)\n",
    "z = np.array(z)\n",
    "\n",
    "xi = np.linspace(min(x), max(x), 11)\n",
    "yi = np.linspace(min(y), max(y), 11)\n",
    "zi = z.reshape(len(xi), len(yi))\n",
    "\n",
    "# Create the plot\n",
    "plt.figure(figsize=(10, 6))\n",
    "plt.pcolormesh(xi, yi, zi, shading='auto')\n",
    "plt.colorbar()  # show color scale\n",
    "\n",
    "# Show the plot\n",
    "plt.show()\n"
   ]
  },
  {
   "cell_type": "code",
   "execution_count": null,
   "id": "d6160287",
   "metadata": {},
   "outputs": [],
   "source": []
  },
  {
   "cell_type": "code",
   "execution_count": null,
   "id": "56bc951a-9371-47cf-ba50-ac71a3ca3757",
   "metadata": {},
   "outputs": [],
   "source": []
  }
 ],
 "metadata": {
  "kernelspec": {
   "display_name": "Python 3 (ipykernel)",
   "language": "python",
   "name": "python3"
  },
  "language_info": {
   "codemirror_mode": {
    "name": "ipython",
    "version": 3
   },
   "file_extension": ".py",
   "mimetype": "text/x-python",
   "name": "python",
   "nbconvert_exporter": "python",
   "pygments_lexer": "ipython3",
   "version": "3.9.7"
  }
 },
 "nbformat": 4,
 "nbformat_minor": 5
}
