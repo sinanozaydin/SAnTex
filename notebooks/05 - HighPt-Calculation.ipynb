{
 "cells": [
  {
   "cell_type": "code",
   "execution_count": 1,
   "id": "318f0d90-b70d-414c-9cb5-c44af95b1757",
   "metadata": {},
   "outputs": [],
   "source": [
    "from sage import Material"
   ]
  },
  {
   "cell_type": "code",
   "execution_count": 2,
   "id": "dd14c217-c258-4a01-aa07-59eb8471c820",
   "metadata": {},
   "outputs": [],
   "source": [
    "material = Material()"
   ]
  },
  {
   "cell_type": "code",
   "execution_count": 3,
   "id": "43a438b9-8d10-4f55-9e3f-5904f25e61e7",
   "metadata": {},
   "outputs": [
    {
     "data": {
      "text/plain": [
       "array([[314.27,  70.16,  75.54,   0.  ,   0.  ,   0.  ],\n",
       "       [ 70.16, 189.95,  81.8 ,   0.  ,   0.  ,   0.  ],\n",
       "       [ 75.54,  81.8 , 226.22,   0.  ,   0.  ,   0.  ],\n",
       "       [  0.  ,   0.  ,   0.  ,  59.28,   0.  ,   0.  ],\n",
       "       [  0.  ,   0.  ,   0.  ,   0.  ,  71.22,   0.  ],\n",
       "       [  0.  ,   0.  ,   0.  ,   0.  ,   0.  ,  72.87]])"
      ]
     },
     "execution_count": 3,
     "metadata": {},
     "output_type": "execute_result"
    }
   ],
   "source": [
    "material.voigthighPT('Forsterite', 2, 1000)"
   ]
  },
  {
   "cell_type": "code",
   "execution_count": 4,
   "id": "64792a20-dd27-4b08-b181-02c3b95c009b",
   "metadata": {},
   "outputs": [
    {
     "data": {
      "text/plain": [
       "3355.0"
      ]
     },
     "execution_count": 4,
     "metadata": {},
     "output_type": "execute_result"
    }
   ],
   "source": [
    "material.load_density('Forsterite')"
   ]
  },
  {
   "cell_type": "code",
   "execution_count": 5,
   "id": "47a9fa03-9e53-4a77-8fab-a2cec17ffaaa",
   "metadata": {},
   "outputs": [
    {
     "data": {
      "text/plain": [
       "array([[320.5,  68.1,  71.6,   0. ,   0. ,   0. ],\n",
       "       [ 68.1, 196.5,  76.8,   0. ,   0. ,   0. ],\n",
       "       [ 71.6,  76.8, 233.5,   0. ,   0. ,   0. ],\n",
       "       [  0. ,   0. ,   0. ,  64. ,   0. ,   0. ],\n",
       "       [  0. ,   0. ,   0. ,   0. ,  77. ,   0. ],\n",
       "       [  0. ,   0. ,   0. ,   0. ,   0. ,  78.7]])"
      ]
     },
     "execution_count": 5,
     "metadata": {},
     "output_type": "execute_result"
    }
   ],
   "source": [
    "material.get_voigt_matrix(\"Forsterite\")"
   ]
  },
  {
   "cell_type": "code",
   "execution_count": 6,
   "id": "cab854b5-2e4a-418a-be92-936544354215",
   "metadata": {},
   "outputs": [
    {
     "data": {
      "text/plain": [
       "'+---------------------+---------------------------------------------------------------------------------------------------------------------------------------------------------------------------------------------------------------------------------------------------------------------------------------------------------------------------------------------------------------------------------------------------------------------------------------------------------------------------------------------------+\\n|   Crystal System    |                                                                                                                                                                                                                                              Phases                                                                                                                                                                                                                                               |\\n+---------------------+---------------------------------------------------------------------------------------------------------------------------------------------------------------------------------------------------------------------------------------------------------------------------------------------------------------------------------------------------------------------------------------------------------------------------------------------------------------------------------------------------+\\n|      Triclinic      |                                                                                                                                                       Albite (Or0Ab100), An0 (Albite), An25 (Oligoclase), An37 (Andesine), An48 (Andesine), An60 (Labradorite), An67 (Labradorite), An78 (Bytownite), An96 (Anorthite), Kaolinite, Nacrite                                                                                                                                                        |\\n|    Orthorhombic     |                                                                                                                                                                      Forsterite, Fayalite (0.3GPa), Lawsonite, Orthoenstatite (MgSiO3), Orthoenstatite (MgSiO3), Enstatite, Bronzite (Mg0.8Fe0.2SiO3), Ferrosilite (FeSiO3)                                                                                                                                                                       |\\n|        Cubic        |                                                                                                                                                                                                                           Almandine-pyrope, Grossular, Majorite, Pyrope                                                                                                                                                                                                                           |\\n|     Monoclinic      | Biotite, Muscovite, Phlogopite, Illite-smectite, Dickite, Augite, Diopside, Chrome-diopside, Jadeite, Omphacite, Coesite, Amphobole #1 Richterite1, Amphobole #2 Kataphorite1, Amphobole #3 Taramite-Tschermakite1, Amphobole #4 Hornblende-Tschermakite1, Amphobole #5 Tremolite1, Amphobole #6 Edenite1, Amphobole #7 Edenite1, Amphobole #8 Pargasite1, Amphobole #9 Pargasite1, Hornblende (#1), Hornblende (#2), Glaucophane, Sanidine (Or83Ab15), Sanidine (Or89Ab11), Orthoclase (Or93Ab7) |\\n| Hexagonal/ Trigonal |                                                                                                                                                                                                a_quartz_1, a_quartz_2, a_Quartz_3, a_quartz_4, a_quartz_696C, a_quartz_700C, Calcite_1, Calcite_2                                                                                                                                                                                                 |\\n+---------------------+---------------------------------------------------------------------------------------------------------------------------------------------------------------------------------------------------------------------------------------------------------------------------------------------------------------------------------------------------------------------------------------------------------------------------------------------------------------------------------------------------+'"
      ]
     },
     "execution_count": 6,
     "metadata": {},
     "output_type": "execute_result"
    }
   ],
   "source": [
    "material.availableCrystalSystems()"
   ]
  },
  {
   "cell_type": "code",
   "execution_count": null,
   "id": "53cad6b9-de0c-4a3d-8cfb-75d5a884222f",
   "metadata": {},
   "outputs": [],
   "source": []
  },
  {
   "cell_type": "code",
   "execution_count": null,
   "id": "8d440f2a-0abf-41d8-b48e-08d88db35dfc",
   "metadata": {},
   "outputs": [],
   "source": []
  },
  {
   "cell_type": "code",
   "execution_count": null,
   "id": "386dea56-5e06-4ffa-8458-bbb2e8c0902c",
   "metadata": {},
   "outputs": [],
   "source": []
  },
  {
   "cell_type": "code",
   "execution_count": null,
   "id": "41668d99-1735-4070-aabd-3c2ab8fcf047",
   "metadata": {},
   "outputs": [],
   "source": []
  }
 ],
 "metadata": {
  "kernelspec": {
   "display_name": "Python 3 (ipykernel)",
   "language": "python",
   "name": "python3"
  },
  "language_info": {
   "codemirror_mode": {
    "name": "ipython",
    "version": 3
   },
   "file_extension": ".py",
   "mimetype": "text/x-python",
   "name": "python",
   "nbconvert_exporter": "python",
   "pygments_lexer": "ipython3",
   "version": "3.12.1"
  }
 },
 "nbformat": 4,
 "nbformat_minor": 5
}
