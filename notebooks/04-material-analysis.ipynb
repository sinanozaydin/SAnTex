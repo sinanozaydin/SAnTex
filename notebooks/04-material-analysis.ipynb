{
 "cells": [
  {
   "cell_type": "markdown",
   "id": "0087aec8-b11e-496a-a91b-5b4f925c1b7f",
   "metadata": {},
   "source": [
    "# Material Analysis"
   ]
  },
  {
   "cell_type": "markdown",
   "id": "d24bdb19-bb7d-4beb-af70-a37e77e74727",
   "metadata": {},
   "source": [
    "## Imports\n",
    "\n",
    "### NumPy\n",
    "- `import numpy as np`\n",
    "\n",
    "#### Description:\n",
    "NumPy is a powerful Python library for numerical computing. It provides support for multidimensional arrays, mathematical functions to operate on these arrays efficiently, and tools for working with arrays.\n",
    "\n",
    "### Tabulate\n",
    "- `from tabulate import tabulate`\n",
    "\n",
    "#### Description:\n",
    "Tabulate is a Python library used for creating formatted tables from data in Python. It simplifies the process of generating tables for display or output in various formats, including plain text, LaTeX, and HTML.\n",
    "\n",
    "### Sage Material\n",
    "- `from sage import Material`\n",
    "\n",
    "#### Description:\n",
    "The `Material` class from the Sage library is used for defining and working with materials calculations."
   ]
  },
  {
   "cell_type": "code",
   "execution_count": 2,
   "id": "8172c25a-9731-4ffc-b2ea-326ac270a614",
   "metadata": {},
   "outputs": [],
   "source": [
    "import numpy as np\n",
    "from tabulate import tabulate\n",
    "from sage import Material"
   ]
  },
  {
   "cell_type": "markdown",
   "id": "006b3310-6ed4-4bcf-8713-0b75c33155c4",
   "metadata": {},
   "source": [
    "## Function: `availablePhases`\n",
    "\n",
    "### Description:\n",
    "This function retrieves information about the available phases in the `Material` instance.\n",
    "\n",
    "### Returns:\n",
    "- `phases_info` (list): A list containing information about the available phases.\n",
    "\n",
    "### Usage Example:\n",
    "```python\n",
    "material_instance = Material()\n",
    "phases_info = material_instance.availablePhases()\n",
    "print(\"Available Phases:\")\n",
    "print(phases_info)\n"
   ]
  },
  {
   "cell_type": "code",
   "execution_count": 3,
   "id": "97e1a78a-2b4e-48f0-acd3-a70724066ab2",
   "metadata": {},
   "outputs": [
    {
     "name": "stdout",
     "output_type": "stream",
     "text": [
      "Available Phases:\n",
      "+---------------------------------------+---------------------+-----------------------------------+\n",
      "|                 Phase                 |   Crystal System    |           Primary Phase           |\n",
      "+---------------------------------------+---------------------+-----------------------------------+\n",
      "|           Almandine-pyrope            |        Cubic        |              Garnet               |\n",
      "|               Grossular               |        Cubic        |              Garnet               |\n",
      "|               Majorite                |        Cubic        |              Garnet               |\n",
      "|                Pyrope                 |        Cubic        |              Garnet               |\n",
      "|              a_quartz_1               | Hexagonal/ Trigonal |              Quartz               |\n",
      "|              a_quartz_2               | Hexagonal/ Trigonal |              Quartz               |\n",
      "|              a_Quartz_3               | Hexagonal/ Trigonal |              Quartz               |\n",
      "|              a_quartz_4               | Hexagonal/ Trigonal |              Quartz               |\n",
      "|             a_quartz_696C             | Hexagonal/ Trigonal |              Quartz               |\n",
      "|             a_quartz_700C             | Hexagonal/ Trigonal |              Quartz               |\n",
      "|               Calcite_1               | Hexagonal/ Trigonal |              Calcite              |\n",
      "|               Calcite_2               | Hexagonal/ Trigonal |              Calcite              |\n",
      "|              Forsterite               |    Orthorhombic     |              Olivine              |\n",
      "|           Fayalite (0.3GPa)           |    Orthorhombic     |              Olivine              |\n",
      "|               Lawsonite               |    Orthorhombic     |              Olivine              |\n",
      "|        Orthoenstatite (MgSiO3)        |    Orthorhombic     |              Olivine              |\n",
      "|        Orthoenstatite (MgSiO3)        |    Orthorhombic     |              Olivine              |\n",
      "|               Enstatite               |    Orthorhombic     |              Olivine              |\n",
      "|       Bronzite (Mg0.8Fe0.2SiO3)       |    Orthorhombic     |              Olivine              |\n",
      "|         Ferrosilite (FeSiO3)          |    Orthorhombic     |              Olivine              |\n",
      "|                Biotite                |     Monoclinic      | Phyllosilicates and clay minerals |\n",
      "|               Muscovite               |     Monoclinic      | Phyllosilicates and clay minerals |\n",
      "|              Phlogopite               |     Monoclinic      | Phyllosilicates and clay minerals |\n",
      "|            Illite-smectite            |     Monoclinic      | Phyllosilicates and clay minerals |\n",
      "|                Dickite                |     Monoclinic      | Phyllosilicates and clay minerals |\n",
      "|                Augite                 |     Monoclinic      |          Clinopyroxenes           |\n",
      "|               Diopside                |     Monoclinic      |          Clinopyroxenes           |\n",
      "|            Chrome-diopside            |     Monoclinic      |          Clinopyroxenes           |\n",
      "|                Jadeite                |     Monoclinic      |          Clinopyroxenes           |\n",
      "|               Omphacite               |     Monoclinic      |          Clinopyroxenes           |\n",
      "|                Coesite                |     Monoclinic      |          Clinopyroxenes           |\n",
      "|       Amphobole #1 Richterite1        |     Monoclinic      |             Amphibole             |\n",
      "|       Amphobole #2 Kataphorite1       |     Monoclinic      |             Amphibole             |\n",
      "|  Amphobole #3 Taramite-Tschermakite1  |     Monoclinic      |             Amphibole             |\n",
      "| Amphobole #4 Hornblende-Tschermakite1 |     Monoclinic      |             Amphibole             |\n",
      "|        Amphobole #5 Tremolite1        |     Monoclinic      |             Amphibole             |\n",
      "|         Amphobole #6 Edenite1         |     Monoclinic      |             Amphibole             |\n",
      "|         Amphobole #7 Edenite1         |     Monoclinic      |             Amphibole             |\n",
      "|        Amphobole #8 Pargasite1        |     Monoclinic      |             Amphibole             |\n",
      "|        Amphobole #9 Pargasite1        |     Monoclinic      |             Amphibole             |\n",
      "|            Hornblende (#1)            |     Monoclinic      |             Amphibole             |\n",
      "|            Hornblende (#2)            |     Monoclinic      |             Amphibole             |\n",
      "|              Glaucophane              |     Monoclinic      |             Amphibole             |\n",
      "|          Sanidine (Or83Ab15)          |     Monoclinic      |         Alkali feldspars          |\n",
      "|          Sanidine (Or89Ab11)          |     Monoclinic      |         Alkali feldspars          |\n",
      "|         Orthoclase (Or93Ab7)          |     Monoclinic      |         Alkali feldspars          |\n",
      "|           Albite (Or0Ab100)           |      Triclinic      |       Plagioclase feldspar        |\n",
      "|             An0 (Albite)              |      Triclinic      |       Plagioclase feldspar        |\n",
      "|           An25 (Oligoclase)           |      Triclinic      |       Plagioclase feldspar        |\n",
      "|            An37 (Andesine)            |      Triclinic      |       Plagioclase feldspar        |\n",
      "|            An48 (Andesine)            |      Triclinic      |       Plagioclase feldspar        |\n",
      "|          An60 (Labradorite)           |      Triclinic      |       Plagioclase feldspar        |\n",
      "|          An67 (Labradorite)           |      Triclinic      |       Plagioclase feldspar        |\n",
      "|           An78 (Bytownite)            |      Triclinic      |       Plagioclase feldspar        |\n",
      "|           An96 (Anorthite)            |      Triclinic      |       Plagioclase feldspar        |\n",
      "|               Kaolinite               |      Triclinic      |           Clay minerals           |\n",
      "|                Nacrite                |      Triclinic      |           Clay minerals           |\n",
      "+---------------------------------------+---------------------+-----------------------------------+\n"
     ]
    }
   ],
   "source": [
    "material_instance = Material()\n",
    "phases_info = material_instance.availablePhases()\n",
    "print(\"Available Phases:\")\n",
    "print(phases_info)"
   ]
  },
  {
   "cell_type": "markdown",
   "id": "79598322-d5a5-4b71-b05d-a372f5904954",
   "metadata": {},
   "source": [
    "## Function: `availablePrimaryPhases`\n",
    "\n",
    "### Description:\n",
    "This function retrieves information about the available primary phases in the `Material` instance.\n",
    "\n",
    "### Returns:\n",
    "- `primary_phases_info` (list): A list containing information about the available primary phases.\n",
    "\n",
    "### Usage Example:\n",
    "```python\n",
    "material_instance = Material()\n",
    "primary_phases_info = material_instance.availablePrimaryPhases()\n",
    "print(\"Available Primary Phases:\")\n",
    "print(primary_phases_info)\n"
   ]
  },
  {
   "cell_type": "code",
   "execution_count": 4,
   "id": "7952628e-54ed-485c-bb94-c6fcecfeebbd",
   "metadata": {},
   "outputs": [
    {
     "name": "stdout",
     "output_type": "stream",
     "text": [
      "Available Primary Phases:\n",
      "+-----------------------------------+------------------------------------------------------------------------------------------------------------------------------------------------+---------------------------------------------------------------------------------------------------------------------------------------------------------------------------------------------------------------------------------------------------------------------------------------------------------+\n",
      "|           Primary Phase           |                                                                Crystal Systems                                                                 |                                                                                                                                                 Phases                                                                                                                                                  |\n",
      "+-----------------------------------+------------------------------------------------------------------------------------------------------------------------------------------------+---------------------------------------------------------------------------------------------------------------------------------------------------------------------------------------------------------------------------------------------------------------------------------------------------------+\n",
      "|              Garnet               |                                                           Cubic, Cubic, Cubic, Cubic                                                           |                                                                                                                              Almandine-pyrope, Grossular, Majorite, Pyrope                                                                                                                              |\n",
      "|              Quartz               |          Hexagonal/ Trigonal, Hexagonal/ Trigonal, Hexagonal/ Trigonal, Hexagonal/ Trigonal, Hexagonal/ Trigonal, Hexagonal/ Trigonal          |                                                                                                              a_quartz_1, a_quartz_2, a_Quartz_3, a_quartz_4, a_quartz_696C, a_quartz_700C                                                                                                               |\n",
      "|              Calcite              |                                                    Hexagonal/ Trigonal, Hexagonal/ Trigonal                                                    |                                                                                                                                          Calcite_1, Calcite_2                                                                                                                                           |\n",
      "|              Olivine              |                 Orthorhombic, Orthorhombic, Orthorhombic, Orthorhombic, Orthorhombic, Orthorhombic, Orthorhombic, Orthorhombic                 |                                                                         Forsterite, Fayalite (0.3GPa), Lawsonite, Orthoenstatite (MgSiO3), Orthoenstatite (MgSiO3), Enstatite, Bronzite (Mg0.8Fe0.2SiO3), Ferrosilite (FeSiO3)                                                                          |\n",
      "| Phyllosilicates and clay minerals |                                           Monoclinic, Monoclinic, Monoclinic, Monoclinic, Monoclinic                                           |                                                                                                                        Biotite, Muscovite, Phlogopite, Illite-smectite, Dickite                                                                                                                         |\n",
      "|          Clinopyroxenes           |                                     Monoclinic, Monoclinic, Monoclinic, Monoclinic, Monoclinic, Monoclinic                                     |                                                                                                                     Augite, Diopside, Chrome-diopside, Jadeite, Omphacite, Coesite                                                                                                                      |\n",
      "|             Amphibole             | Monoclinic, Monoclinic, Monoclinic, Monoclinic, Monoclinic, Monoclinic, Monoclinic, Monoclinic, Monoclinic, Monoclinic, Monoclinic, Monoclinic | Amphobole #1 Richterite1, Amphobole #2 Kataphorite1, Amphobole #3 Taramite-Tschermakite1, Amphobole #4 Hornblende-Tschermakite1, Amphobole #5 Tremolite1, Amphobole #6 Edenite1, Amphobole #7 Edenite1, Amphobole #8 Pargasite1, Amphobole #9 Pargasite1, Hornblende (#1), Hornblende (#2), Glaucophane |\n",
      "|         Alkali feldspars          |                                                       Monoclinic, Monoclinic, Monoclinic                                                       |                                                                                                                     Sanidine (Or83Ab15), Sanidine (Or89Ab11), Orthoclase (Or93Ab7)                                                                                                                      |\n",
      "|       Plagioclase feldspar        |                       Triclinic, Triclinic, Triclinic, Triclinic, Triclinic, Triclinic, Triclinic, Triclinic, Triclinic                        |                                                                    Albite (Or0Ab100), An0 (Albite), An25 (Oligoclase), An37 (Andesine), An48 (Andesine), An60 (Labradorite), An67 (Labradorite), An78 (Bytownite), An96 (Anorthite)                                                                     |\n",
      "|           Clay minerals           |                                                              Triclinic, Triclinic                                                              |                                                                                                                                           Kaolinite, Nacrite                                                                                                                                            |\n",
      "+-----------------------------------+------------------------------------------------------------------------------------------------------------------------------------------------+---------------------------------------------------------------------------------------------------------------------------------------------------------------------------------------------------------------------------------------------------------------------------------------------------------+\n",
      "\n"
     ]
    }
   ],
   "source": [
    "# availablePrimaryPhases\n",
    "primary_phases_info = material_instance.availablePrimaryPhases()\n",
    "print(\"Available Primary Phases:\")\n",
    "print(primary_phases_info)\n",
    "print()"
   ]
  },
  {
   "cell_type": "markdown",
   "id": "80615f9b-70fa-4c4c-a819-3272aa64c6f0",
   "metadata": {},
   "source": [
    "## Function: `availableCrystalSystems`\n",
    "\n",
    "### Description:\n",
    "This function retrieves information about the available crystal systems in the `Material` instance.\n",
    "\n",
    "### Returns:\n",
    "- `crystal_systems_info` (list): A list containing information about the available crystal systems.\n",
    "\n",
    "### Usage Example:\n",
    "```python\n",
    "material_instance = Material()\n",
    "crystal_systems_info = material_instance.availableCrystalSystems()\n",
    "print(\"Available Crystal Systems:\")\n",
    "print(crystal_systems_info)\n"
   ]
  },
  {
   "cell_type": "code",
   "execution_count": 4,
   "id": "a13e5415-b591-45b7-a634-ef9fd02eea29",
   "metadata": {},
   "outputs": [
    {
     "name": "stdout",
     "output_type": "stream",
     "text": [
      "Available Crystal Systems:\n",
      "+---------------------+---------------------------------------------------------------------------------------------------------------------------------------------------------------------------------------------------------------------------------------------------------------------------------------------------------------------------------------------------------------------------------------------------------------------------------------------------------------------------------------------------+\n",
      "|   Crystal System    |                                                                                                                                                                                                                                              Phases                                                                                                                                                                                                                                               |\n",
      "+---------------------+---------------------------------------------------------------------------------------------------------------------------------------------------------------------------------------------------------------------------------------------------------------------------------------------------------------------------------------------------------------------------------------------------------------------------------------------------------------------------------------------------+\n",
      "|      Triclinic      |                                                                                                                                                       Albite (Or0Ab100), An0 (Albite), An25 (Oligoclase), An37 (Andesine), An48 (Andesine), An60 (Labradorite), An67 (Labradorite), An78 (Bytownite), An96 (Anorthite), Kaolinite, Nacrite                                                                                                                                                        |\n",
      "| Hexagonal/ Trigonal |                                                                                                                                                                                                a_quartz_1, a_quartz_2, a_Quartz_3, a_quartz_4, a_quartz_696C, a_quartz_700C, Calcite_1, Calcite_2                                                                                                                                                                                                 |\n",
      "|     Monoclinic      | Biotite, Muscovite, Phlogopite, Illite-smectite, Dickite, Augite, Diopside, Chrome-diopside, Jadeite, Omphacite, Coesite, Amphobole #1 Richterite1, Amphobole #2 Kataphorite1, Amphobole #3 Taramite-Tschermakite1, Amphobole #4 Hornblende-Tschermakite1, Amphobole #5 Tremolite1, Amphobole #6 Edenite1, Amphobole #7 Edenite1, Amphobole #8 Pargasite1, Amphobole #9 Pargasite1, Hornblende (#1), Hornblende (#2), Glaucophane, Sanidine (Or83Ab15), Sanidine (Or89Ab11), Orthoclase (Or93Ab7) |\n",
      "|        Cubic        |                                                                                                                                                                                                                           Almandine-pyrope, Grossular, Majorite, Pyrope                                                                                                                                                                                                                           |\n",
      "|    Orthorhombic     |                                                                                                                                                                      Forsterite, Fayalite (0.3GPa), Lawsonite, Orthoenstatite (MgSiO3), Orthoenstatite (MgSiO3), Enstatite, Bronzite (Mg0.8Fe0.2SiO3), Ferrosilite (FeSiO3)                                                                                                                                                                       |\n",
      "+---------------------+---------------------------------------------------------------------------------------------------------------------------------------------------------------------------------------------------------------------------------------------------------------------------------------------------------------------------------------------------------------------------------------------------------------------------------------------------------------------------------------------------+\n",
      "\n"
     ]
    }
   ],
   "source": [
    "# availableCrystalSystems\n",
    "crystal_systems_info = material_instance.availableCrystalSystems()\n",
    "print(\"Available Crystal Systems:\")\n",
    "print(crystal_systems_info)\n",
    "print()"
   ]
  },
  {
   "cell_type": "markdown",
   "id": "c858ba6a-0f6d-4e80-8686-f05eab457ec6",
   "metadata": {},
   "source": [
    "## Material Instance Operations\n",
    "\n",
    "### Description:\n",
    "This section demonstrates operations performed on a `Material` instance.\n",
    "\n",
    "### Usage Example:\n",
    "```python\n",
    "material_instance = Material()\n"
   ]
  },
  {
   "cell_type": "code",
   "execution_count": 6,
   "id": "d3542996-7975-44b9-9a12-5860193d980f",
   "metadata": {},
   "outputs": [
    {
     "name": "stdout",
     "output_type": "stream",
     "text": [
      "Material Properties for Almandine-pyrope:\n",
      "╒═════════════════════════╤═══════════════════════╕\n",
      "│ Property                │ Value                 │\n",
      "╞═════════════════════════╪═══════════════════════╡\n",
      "│ Crystal System          │ Cubic                 │\n",
      "├─────────────────────────┼───────────────────────┤\n",
      "│ Primary Phase           │ Garnet                │\n",
      "├─────────────────────────┼───────────────────────┤\n",
      "│ Phase                   │ Almandine-pyrope      │\n",
      "├─────────────────────────┼───────────────────────┤\n",
      "│ Density(g/cm3)          │ 4.131                 │\n",
      "├─────────────────────────┼───────────────────────┤\n",
      "│ C11                     │ 306.7                 │\n",
      "├─────────────────────────┼───────────────────────┤\n",
      "│ C22                     │ 306.7                 │\n",
      "├─────────────────────────┼───────────────────────┤\n",
      "│ C33                     │ 306.7                 │\n",
      "├─────────────────────────┼───────────────────────┤\n",
      "│ C44                     │ 94.9                  │\n",
      "├─────────────────────────┼───────────────────────┤\n",
      "│ C55                     │ 94.9                  │\n",
      "├─────────────────────────┼───────────────────────┤\n",
      "│ C66                     │ 94.9                  │\n",
      "├─────────────────────────┼───────────────────────┤\n",
      "│ C12                     │ 106.7                 │\n",
      "├─────────────────────────┼───────────────────────┤\n",
      "│ C13                     │ 111.9                 │\n",
      "├─────────────────────────┼───────────────────────┤\n",
      "│ C23                     │ 111.9                 │\n",
      "├─────────────────────────┼───────────────────────┤\n",
      "│ C15                     │ 0                     │\n",
      "├─────────────────────────┼───────────────────────┤\n",
      "│ C25                     │ 0                     │\n",
      "├─────────────────────────┼───────────────────────┤\n",
      "│ C35                     │ 0                     │\n",
      "├─────────────────────────┼───────────────────────┤\n",
      "│ C46                     │ 0                     │\n",
      "├─────────────────────────┼───────────────────────┤\n",
      "│ C14                     │ 0                     │\n",
      "├─────────────────────────┼───────────────────────┤\n",
      "│ C16                     │ 0                     │\n",
      "├─────────────────────────┼───────────────────────┤\n",
      "│ C24                     │ 0                     │\n",
      "├─────────────────────────┼───────────────────────┤\n",
      "│ C26                     │ 0                     │\n",
      "├─────────────────────────┼───────────────────────┤\n",
      "│ C34                     │ 0                     │\n",
      "├─────────────────────────┼───────────────────────┤\n",
      "│ C36                     │ 0                     │\n",
      "├─────────────────────────┼───────────────────────┤\n",
      "│ C45                     │ 0                     │\n",
      "├─────────────────────────┼───────────────────────┤\n",
      "│ C56                     │ 0                     │\n",
      "├─────────────────────────┼───────────────────────┤\n",
      "│ Crystal Reference Frame │ X||a Y||b Z||c        │\n",
      "├─────────────────────────┼───────────────────────┤\n",
      "│ Study                   │ Babuska et al. [1978] │\n",
      "╘═════════════════════════╧═══════════════════════╛\n",
      "\n",
      "\n",
      "Voigt matrix for Diopside:\n",
      "+-------+-------+-------+------+------+------+\n",
      "| 237.8 | 83.5  | 80.0  | 0.0  | 9.0  | 0.0  |\n",
      "| 83.5  | 183.6 | 59.9  | 0.0  | 9.5  | 0.0  |\n",
      "| 80.0  | 59.9  | 229.5 | 0.0  | 48.1 | 0.0  |\n",
      "|  0.0  |  0.0  |  0.0  | 76.5 | 0.0  | 8.4  |\n",
      "|  9.0  |  9.5  | 48.1  | 0.0  | 73.0 | 0.0  |\n",
      "|  0.0  |  0.0  |  0.0  | 8.4  | 0.0  | 81.6 |\n",
      "+-------+-------+-------+------+------+------+\n",
      "Voigt matrix for Diopside:\n",
      "+--------------------+--------------------+--------+-------+-------------------+-------+\n",
      "| 239.17000000000002 |       89.22        | 85.69  |  0.0  |       7.65        |  0.0  |\n",
      "|       89.22        | 186.14999999999998 | 65.15  |  0.0  | 9.569999999999999 |  0.0  |\n",
      "|       85.69        |       65.15        | 232.06 |  0.0  |       54.07       |  0.0  |\n",
      "|        0.0         |        0.0         |  0.0   | 75.25 |        0.0        | 10.83 |\n",
      "|        7.65        | 9.569999999999999  | 54.07  |  0.0  | 71.36999999999999 |  0.0  |\n",
      "|        0.0         |        0.0         |  0.0   | 10.83 |        0.0        | 80.81 |\n",
      "+--------------------+--------------------+--------+-------+-------------------+-------+\n"
     ]
    }
   ],
   "source": [
    "material_instance = Material()\n",
    "\n",
    "# Get properties for 'Almandine-pyrope'\n",
    "almandine_properties = material_instance.get_properties_by_phase('Almandine-pyrope')\n",
    "print(\"Material Properties for Almandine-pyrope:\")\n",
    "print(tabulate(almandine_properties.items(), headers=[\"Property\", \"Value\"], tablefmt=\"fancy_grid\"))\n",
    "print(\"\\n\")\n",
    "\n",
    "# Get voigt matrix for 'Amphobole #3 Taramite-Tschermakite1'\n",
    "non_isotropic_phase = 'Diopside'\n",
    "non_isotropic_voigt_matrix = material_instance.get_voigt_matrix(non_isotropic_phase)\n",
    "print(f'Voigt matrix for {non_isotropic_phase}:')\n",
    "print(tabulate(non_isotropic_voigt_matrix, tablefmt=\"pretty\"))\n",
    "\n",
    "non_isotropic_phase = 'Diopside'\n",
    "non_isotropic_voigt_matrix = material_instance.voigthighPT(non_isotropic_phase, 3, 1000)\n",
    "print(f'Voigt matrix for {non_isotropic_phase}:')\n",
    "print(tabulate(non_isotropic_voigt_matrix, tablefmt=\"pretty\"))"
   ]
  },
  {
   "cell_type": "code",
   "execution_count": 7,
   "id": "e973ec42-55f4-4462-b18d-9b86979dbd64",
   "metadata": {},
   "outputs": [
    {
     "data": {
      "text/plain": [
       "array([[239.17,  89.22,  85.69,   0.  ,   7.65,   0.  ],\n",
       "       [ 89.22, 186.15,  65.15,   0.  ,   9.57,   0.  ],\n",
       "       [ 85.69,  65.15, 232.06,   0.  ,  54.07,   0.  ],\n",
       "       [  0.  ,   0.  ,   0.  ,  75.25,   0.  ,  10.83],\n",
       "       [  7.65,   9.57,  54.07,   0.  ,  71.37,   0.  ],\n",
       "       [  0.  ,   0.  ,   0.  ,  10.83,   0.  ,  80.81]])"
      ]
     },
     "execution_count": 7,
     "metadata": {},
     "output_type": "execute_result"
    }
   ],
   "source": [
    "non_isotropic_voigt_matrix"
   ]
  },
  {
   "cell_type": "markdown",
   "id": "6aa11dba-b611-4bf2-ba17-f87a317cf660",
   "metadata": {},
   "source": [
    "## Get voigt matrix for forsterite"
   ]
  },
  {
   "cell_type": "code",
   "execution_count": 9,
   "id": "389722bf-bf35-4159-b107-c4eacbc99737",
   "metadata": {},
   "outputs": [
    {
     "data": {
      "text/plain": [
       "array([[320.5,  68.1,  71.6,   0. ,   0. ,   0. ],\n",
       "       [ 68.1, 196.5,  76.8,   0. ,   0. ,   0. ],\n",
       "       [ 71.6,  76.8, 233.5,   0. ,   0. ,   0. ],\n",
       "       [  0. ,   0. ,   0. ,  64. ,   0. ,   0. ],\n",
       "       [  0. ,   0. ,   0. ,   0. ,  77. ,   0. ],\n",
       "       [  0. ,   0. ,   0. ,   0. ,   0. ,  78.7]])"
      ]
     },
     "execution_count": 9,
     "metadata": {},
     "output_type": "execute_result"
    }
   ],
   "source": [
    "material = Material()\n",
    "material.get_voigt_matrix(\"Forsterite\")"
   ]
  },
  {
   "cell_type": "markdown",
   "id": "3cdcaf13-4a3d-4647-9df8-b91dbe062074",
   "metadata": {},
   "source": [
    "## Get voigt matrix for forsterite at high p and t"
   ]
  },
  {
   "cell_type": "code",
   "execution_count": 12,
   "id": "95981dff-1af6-454d-86b3-e591c6cb236a",
   "metadata": {},
   "outputs": [
    {
     "data": {
      "text/plain": [
       "array([[314.27,  70.16,  75.54,   0.  ,   0.  ,   0.  ],\n",
       "       [ 70.16, 189.95,  81.8 ,   0.  ,   0.  ,   0.  ],\n",
       "       [ 75.54,  81.8 , 226.22,   0.  ,   0.  ,   0.  ],\n",
       "       [  0.  ,   0.  ,   0.  ,  59.28,   0.  ,   0.  ],\n",
       "       [  0.  ,   0.  ,   0.  ,   0.  ,  71.22,   0.  ],\n",
       "       [  0.  ,   0.  ,   0.  ,   0.  ,   0.  ,  72.87]])"
      ]
     },
     "execution_count": 12,
     "metadata": {},
     "output_type": "execute_result"
    }
   ],
   "source": [
    "material.voigthighPT('Forsterite', PRESSURE = 2, TEMP = 1000)"
   ]
  },
  {
   "cell_type": "code",
   "execution_count": null,
   "id": "b56f6bd0-4121-4034-a7e3-69c5336d1f7a",
   "metadata": {},
   "outputs": [],
   "source": []
  }
 ],
 "metadata": {
  "kernelspec": {
   "display_name": "Python 3 (ipykernel)",
   "language": "python",
   "name": "python3"
  },
  "language_info": {
   "codemirror_mode": {
    "name": "ipython",
    "version": 3
   },
   "file_extension": ".py",
   "mimetype": "text/x-python",
   "name": "python",
   "nbconvert_exporter": "python",
   "pygments_lexer": "ipython3",
   "version": "3.12.1"
  }
 },
 "nbformat": 4,
 "nbformat_minor": 5
}
