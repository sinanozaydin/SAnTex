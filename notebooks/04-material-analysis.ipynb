{
 "cells": [
  {
   "cell_type": "code",
   "execution_count": 1,
   "id": "f6a2a8b6-5ce6-4005-ae15-c7c732f23a9f",
   "metadata": {},
   "outputs": [],
   "source": [
    "import numpy as np\n",
    "from tabulate import tabulate\n",
    "from sage import Material"
   ]
  },
  {
   "cell_type": "code",
   "execution_count": 2,
   "id": "97e1a78a-2b4e-48f0-acd3-a70724066ab2",
   "metadata": {},
   "outputs": [
    {
     "name": "stdout",
     "output_type": "stream",
     "text": [
      "Available Phases:\n",
      "+---------------------------------------+---------------------+-----------------------------------+\n",
      "|                 Phase                 |   Crystal System    |           Primary Phase           |\n",
      "+---------------------------------------+---------------------+-----------------------------------+\n",
      "|           Almandine-pyrope            |        Cubic        |              Garnet               |\n",
      "|               Grossular               |        Cubic        |              Garnet               |\n",
      "|               Majorite                |        Cubic        |              Garnet               |\n",
      "|                Pyrope                 |        Cubic        |              Garnet               |\n",
      "|              a_quartz_1               | Hexagonal/ Trigonal |              Quartz               |\n",
      "|              a_quartz_2               | Hexagonal/ Trigonal |              Quartz               |\n",
      "|              a_Quartz_3               | Hexagonal/ Trigonal |              Quartz               |\n",
      "|              a_quartz_4               | Hexagonal/ Trigonal |              Quartz               |\n",
      "|             a_quartz_696C             | Hexagonal/ Trigonal |              Quartz               |\n",
      "|             a_quartz_700C             | Hexagonal/ Trigonal |              Quartz               |\n",
      "|               Calcite_1               | Hexagonal/ Trigonal |              Calcite              |\n",
      "|               Calcite_2               | Hexagonal/ Trigonal |              Calcite              |\n",
      "|              Forsterite               |    Orthorhombic     |              Olivine              |\n",
      "|           Fayalite (0.3GPa)           |    Orthorhombic     |              Olivine              |\n",
      "|               Lawsonite               |    Orthorhombic     |              Olivine              |\n",
      "|        Orthoenstatite (MgSiO3)        |    Orthorhombic     |              Olivine              |\n",
      "|        Orthoenstatite (MgSiO3)        |    Orthorhombic     |              Olivine              |\n",
      "|               Enstatite               |    Orthorhombic     |              Olivine              |\n",
      "|       Bronzite (Mg0.8Fe0.2SiO3)       |    Orthorhombic     |              Olivine              |\n",
      "|         Ferrosilite (FeSiO3)          |    Orthorhombic     |              Olivine              |\n",
      "|                Biotite                |     Monoclinic      | Phyllosilicates and clay minerals |\n",
      "|               Muscovite               |     Monoclinic      | Phyllosilicates and clay minerals |\n",
      "|              Phlogopite               |     Monoclinic      | Phyllosilicates and clay minerals |\n",
      "|            Illite-smectite            |     Monoclinic      | Phyllosilicates and clay minerals |\n",
      "|                Dickite                |     Monoclinic      | Phyllosilicates and clay minerals |\n",
      "|                Augite                 |     Monoclinic      |          Clinopyroxenes           |\n",
      "|               Diopside                |     Monoclinic      |          Clinopyroxenes           |\n",
      "|            Chrome-diopside            |     Monoclinic      |          Clinopyroxenes           |\n",
      "|                Jadeite                |     Monoclinic      |          Clinopyroxenes           |\n",
      "|               Omphacite               |     Monoclinic      |          Clinopyroxenes           |\n",
      "|                Coesite                |     Monoclinic      |          Clinopyroxenes           |\n",
      "|       Amphobole #1 Richterite1        |     Monoclinic      |             Amphibole             |\n",
      "|       Amphobole #2 Kataphorite1       |     Monoclinic      |             Amphibole             |\n",
      "|  Amphobole #3 Taramite-Tschermakite1  |     Monoclinic      |             Amphibole             |\n",
      "| Amphobole #4 Hornblende-Tschermakite1 |     Monoclinic      |             Amphibole             |\n",
      "|        Amphobole #5 Tremolite1        |     Monoclinic      |             Amphibole             |\n",
      "|         Amphobole #6 Edenite1         |     Monoclinic      |             Amphibole             |\n",
      "|         Amphobole #7 Edenite1         |     Monoclinic      |             Amphibole             |\n",
      "|        Amphobole #8 Pargasite1        |     Monoclinic      |             Amphibole             |\n",
      "|        Amphobole #9 Pargasite1        |     Monoclinic      |             Amphibole             |\n",
      "|            Hornblende (#1)            |     Monoclinic      |             Amphibole             |\n",
      "|            Hornblende (#2)            |     Monoclinic      |             Amphibole             |\n",
      "|              Glaucophane              |     Monoclinic      |             Amphibole             |\n",
      "|          Sanidine (Or83Ab15)          |     Monoclinic      |         Alkali feldspars          |\n",
      "|          Sanidine (Or89Ab11)          |     Monoclinic      |         Alkali feldspars          |\n",
      "|         Orthoclase (Or93Ab7)          |     Monoclinic      |         Alkali feldspars          |\n",
      "|           Albite (Or0Ab100)           |      Triclinic      |       Plagioclase feldspar        |\n",
      "|             An0 (Albite)              |      Triclinic      |       Plagioclase feldspar        |\n",
      "|           An25 (Oligoclase)           |      Triclinic      |       Plagioclase feldspar        |\n",
      "|            An37 (Andesine)            |      Triclinic      |       Plagioclase feldspar        |\n",
      "|            An48 (Andesine)            |      Triclinic      |       Plagioclase feldspar        |\n",
      "|          An60 (Labradorite)           |      Triclinic      |       Plagioclase feldspar        |\n",
      "|          An67 (Labradorite)           |      Triclinic      |       Plagioclase feldspar        |\n",
      "|           An78 (Bytownite)            |      Triclinic      |       Plagioclase feldspar        |\n",
      "|           An96 (Anorthite)            |      Triclinic      |       Plagioclase feldspar        |\n",
      "|               Kaolinite               |      Triclinic      |           Clay minerals           |\n",
      "|                Nacrite                |      Triclinic      |           Clay minerals           |\n",
      "+---------------------------------------+---------------------+-----------------------------------+\n"
     ]
    }
   ],
   "source": [
    "import numpy as np\n",
    "from tabulate import tabulate\n",
    "from sage import Material\n",
    "material_instance = Material()\n",
    "phases_info = material_instance.availablePhases()\n",
    "print(\"Available Phases:\")\n",
    "print(phases_info)"
   ]
  },
  {
   "cell_type": "code",
   "execution_count": 3,
   "id": "7952628e-54ed-485c-bb94-c6fcecfeebbd",
   "metadata": {},
   "outputs": [
    {
     "name": "stdout",
     "output_type": "stream",
     "text": [
      "Available Primary Phases:\n",
      "+-----------------------------------+------------------------------------------------------------------------------------------------------------------------------------------------+---------------------------------------------------------------------------------------------------------------------------------------------------------------------------------------------------------------------------------------------------------------------------------------------------------+\n",
      "|           Primary Phase           |                                                                Crystal Systems                                                                 |                                                                                                                                                 Phases                                                                                                                                                  |\n",
      "+-----------------------------------+------------------------------------------------------------------------------------------------------------------------------------------------+---------------------------------------------------------------------------------------------------------------------------------------------------------------------------------------------------------------------------------------------------------------------------------------------------------+\n",
      "|              Garnet               |                                                           Cubic, Cubic, Cubic, Cubic                                                           |                                                                                                                              Almandine-pyrope, Grossular, Majorite, Pyrope                                                                                                                              |\n",
      "|              Quartz               |          Hexagonal/ Trigonal, Hexagonal/ Trigonal, Hexagonal/ Trigonal, Hexagonal/ Trigonal, Hexagonal/ Trigonal, Hexagonal/ Trigonal          |                                                                                                              a_quartz_1, a_quartz_2, a_Quartz_3, a_quartz_4, a_quartz_696C, a_quartz_700C                                                                                                               |\n",
      "|              Calcite              |                                                    Hexagonal/ Trigonal, Hexagonal/ Trigonal                                                    |                                                                                                                                          Calcite_1, Calcite_2                                                                                                                                           |\n",
      "|              Olivine              |                 Orthorhombic, Orthorhombic, Orthorhombic, Orthorhombic, Orthorhombic, Orthorhombic, Orthorhombic, Orthorhombic                 |                                                                         Forsterite, Fayalite (0.3GPa), Lawsonite, Orthoenstatite (MgSiO3), Orthoenstatite (MgSiO3), Enstatite, Bronzite (Mg0.8Fe0.2SiO3), Ferrosilite (FeSiO3)                                                                          |\n",
      "| Phyllosilicates and clay minerals |                                           Monoclinic, Monoclinic, Monoclinic, Monoclinic, Monoclinic                                           |                                                                                                                        Biotite, Muscovite, Phlogopite, Illite-smectite, Dickite                                                                                                                         |\n",
      "|          Clinopyroxenes           |                                     Monoclinic, Monoclinic, Monoclinic, Monoclinic, Monoclinic, Monoclinic                                     |                                                                                                                     Augite, Diopside, Chrome-diopside, Jadeite, Omphacite, Coesite                                                                                                                      |\n",
      "|             Amphibole             | Monoclinic, Monoclinic, Monoclinic, Monoclinic, Monoclinic, Monoclinic, Monoclinic, Monoclinic, Monoclinic, Monoclinic, Monoclinic, Monoclinic | Amphobole #1 Richterite1, Amphobole #2 Kataphorite1, Amphobole #3 Taramite-Tschermakite1, Amphobole #4 Hornblende-Tschermakite1, Amphobole #5 Tremolite1, Amphobole #6 Edenite1, Amphobole #7 Edenite1, Amphobole #8 Pargasite1, Amphobole #9 Pargasite1, Hornblende (#1), Hornblende (#2), Glaucophane |\n",
      "|         Alkali feldspars          |                                                       Monoclinic, Monoclinic, Monoclinic                                                       |                                                                                                                     Sanidine (Or83Ab15), Sanidine (Or89Ab11), Orthoclase (Or93Ab7)                                                                                                                      |\n",
      "|       Plagioclase feldspar        |                       Triclinic, Triclinic, Triclinic, Triclinic, Triclinic, Triclinic, Triclinic, Triclinic, Triclinic                        |                                                                    Albite (Or0Ab100), An0 (Albite), An25 (Oligoclase), An37 (Andesine), An48 (Andesine), An60 (Labradorite), An67 (Labradorite), An78 (Bytownite), An96 (Anorthite)                                                                     |\n",
      "|           Clay minerals           |                                                              Triclinic, Triclinic                                                              |                                                                                                                                           Kaolinite, Nacrite                                                                                                                                            |\n",
      "+-----------------------------------+------------------------------------------------------------------------------------------------------------------------------------------------+---------------------------------------------------------------------------------------------------------------------------------------------------------------------------------------------------------------------------------------------------------------------------------------------------------+\n",
      "\n"
     ]
    }
   ],
   "source": [
    "# availablePrimaryPhases\n",
    "primary_phases_info = material_instance.availablePrimaryPhases()\n",
    "print(\"Available Primary Phases:\")\n",
    "print(primary_phases_info)\n",
    "print()"
   ]
  },
  {
   "cell_type": "code",
   "execution_count": 4,
   "id": "a13e5415-b591-45b7-a634-ef9fd02eea29",
   "metadata": {},
   "outputs": [
    {
     "name": "stdout",
     "output_type": "stream",
     "text": [
      "Available Crystal Systems:\n",
      "+---------------------+---------------------------------------------------------------------------------------------------------------------------------------------------------------------------------------------------------------------------------------------------------------------------------------------------------------------------------------------------------------------------------------------------------------------------------------------------------------------------------------------------+\n",
      "|   Crystal System    |                                                                                                                                                                                                                                              Phases                                                                                                                                                                                                                                               |\n",
      "+---------------------+---------------------------------------------------------------------------------------------------------------------------------------------------------------------------------------------------------------------------------------------------------------------------------------------------------------------------------------------------------------------------------------------------------------------------------------------------------------------------------------------------+\n",
      "|      Triclinic      |                                                                                                                                                       Albite (Or0Ab100), An0 (Albite), An25 (Oligoclase), An37 (Andesine), An48 (Andesine), An60 (Labradorite), An67 (Labradorite), An78 (Bytownite), An96 (Anorthite), Kaolinite, Nacrite                                                                                                                                                        |\n",
      "| Hexagonal/ Trigonal |                                                                                                                                                                                                a_quartz_1, a_quartz_2, a_Quartz_3, a_quartz_4, a_quartz_696C, a_quartz_700C, Calcite_1, Calcite_2                                                                                                                                                                                                 |\n",
      "|     Monoclinic      | Biotite, Muscovite, Phlogopite, Illite-smectite, Dickite, Augite, Diopside, Chrome-diopside, Jadeite, Omphacite, Coesite, Amphobole #1 Richterite1, Amphobole #2 Kataphorite1, Amphobole #3 Taramite-Tschermakite1, Amphobole #4 Hornblende-Tschermakite1, Amphobole #5 Tremolite1, Amphobole #6 Edenite1, Amphobole #7 Edenite1, Amphobole #8 Pargasite1, Amphobole #9 Pargasite1, Hornblende (#1), Hornblende (#2), Glaucophane, Sanidine (Or83Ab15), Sanidine (Or89Ab11), Orthoclase (Or93Ab7) |\n",
      "|        Cubic        |                                                                                                                                                                                                                           Almandine-pyrope, Grossular, Majorite, Pyrope                                                                                                                                                                                                                           |\n",
      "|    Orthorhombic     |                                                                                                                                                                      Forsterite, Fayalite (0.3GPa), Lawsonite, Orthoenstatite (MgSiO3), Orthoenstatite (MgSiO3), Enstatite, Bronzite (Mg0.8Fe0.2SiO3), Ferrosilite (FeSiO3)                                                                                                                                                                       |\n",
      "+---------------------+---------------------------------------------------------------------------------------------------------------------------------------------------------------------------------------------------------------------------------------------------------------------------------------------------------------------------------------------------------------------------------------------------------------------------------------------------------------------------------------------------+\n",
      "\n"
     ]
    }
   ],
   "source": [
    "# availableCrystalSystems\n",
    "crystal_systems_info = material_instance.availableCrystalSystems()\n",
    "print(\"Available Crystal Systems:\")\n",
    "print(crystal_systems_info)\n",
    "print()"
   ]
  },
  {
   "cell_type": "code",
   "execution_count": 5,
   "id": "d3542996-7975-44b9-9a12-5860193d980f",
   "metadata": {},
   "outputs": [
    {
     "name": "stdout",
     "output_type": "stream",
     "text": [
      "Material Properties for Almandine-pyrope:\n",
      "╒═════════════════════════╤═══════════════════════╕\n",
      "│ Property                │ Value                 │\n",
      "╞═════════════════════════╪═══════════════════════╡\n",
      "│ Crystal System          │ Cubic                 │\n",
      "├─────────────────────────┼───────────────────────┤\n",
      "│ Primary Phase           │ Garnet                │\n",
      "├─────────────────────────┼───────────────────────┤\n",
      "│ Phase                   │ Almandine-pyrope      │\n",
      "├─────────────────────────┼───────────────────────┤\n",
      "│ Density(g/cm3)          │ 4.131                 │\n",
      "├─────────────────────────┼───────────────────────┤\n",
      "│ C11                     │ 306.7                 │\n",
      "├─────────────────────────┼───────────────────────┤\n",
      "│ C22                     │ 306.7                 │\n",
      "├─────────────────────────┼───────────────────────┤\n",
      "│ C33                     │ 306.7                 │\n",
      "├─────────────────────────┼───────────────────────┤\n",
      "│ C44                     │ 94.9                  │\n",
      "├─────────────────────────┼───────────────────────┤\n",
      "│ C55                     │ 94.9                  │\n",
      "├─────────────────────────┼───────────────────────┤\n",
      "│ C66                     │ 94.9                  │\n",
      "├─────────────────────────┼───────────────────────┤\n",
      "│ C12                     │ 106.7                 │\n",
      "├─────────────────────────┼───────────────────────┤\n",
      "│ C13                     │ 111.9                 │\n",
      "├─────────────────────────┼───────────────────────┤\n",
      "│ C23                     │ 111.9                 │\n",
      "├─────────────────────────┼───────────────────────┤\n",
      "│ C15                     │ 0                     │\n",
      "├─────────────────────────┼───────────────────────┤\n",
      "│ C25                     │ 0                     │\n",
      "├─────────────────────────┼───────────────────────┤\n",
      "│ C35                     │ 0                     │\n",
      "├─────────────────────────┼───────────────────────┤\n",
      "│ C46                     │ 0                     │\n",
      "├─────────────────────────┼───────────────────────┤\n",
      "│ C14                     │ 0                     │\n",
      "├─────────────────────────┼───────────────────────┤\n",
      "│ C16                     │ 0                     │\n",
      "├─────────────────────────┼───────────────────────┤\n",
      "│ C24                     │ 0                     │\n",
      "├─────────────────────────┼───────────────────────┤\n",
      "│ C26                     │ 0                     │\n",
      "├─────────────────────────┼───────────────────────┤\n",
      "│ C34                     │ 0                     │\n",
      "├─────────────────────────┼───────────────────────┤\n",
      "│ C36                     │ 0                     │\n",
      "├─────────────────────────┼───────────────────────┤\n",
      "│ C45                     │ 0                     │\n",
      "├─────────────────────────┼───────────────────────┤\n",
      "│ C56                     │ 0                     │\n",
      "├─────────────────────────┼───────────────────────┤\n",
      "│ Crystal Reference Frame │ X||a Y||b Z||c        │\n",
      "├─────────────────────────┼───────────────────────┤\n",
      "│ Study                   │ Babuska et al. [1978] │\n",
      "╘═════════════════════════╧═══════════════════════╛\n",
      "\n",
      "\n",
      "Voigt matrix for Diopside:\n",
      "+-------+-------+-------+------+------+------+\n",
      "| 237.8 | 83.5  | 80.0  | 0.0  | 9.0  | 0.0  |\n",
      "| 83.5  | 183.6 | 59.9  | 0.0  | 9.5  | 0.0  |\n",
      "| 80.0  | 59.9  | 229.5 | 0.0  | 48.1 | 0.0  |\n",
      "|  0.0  |  0.0  |  0.0  | 76.5 | 0.0  | 8.4  |\n",
      "|  9.0  |  9.5  | 48.1  | 0.0  | 73.0 | 0.0  |\n",
      "|  0.0  |  0.0  |  0.0  | 8.4  | 0.0  | 81.6 |\n",
      "+-------+-------+-------+------+------+------+\n"
     ]
    },
    {
     "ename": "NameError",
     "evalue": "name 'density' is not defined",
     "output_type": "error",
     "traceback": [
      "\u001b[0;31m---------------------------------------------------------------------------\u001b[0m",
      "\u001b[0;31mNameError\u001b[0m                                 Traceback (most recent call last)",
      "Cell \u001b[0;32mIn[5], line 16\u001b[0m\n\u001b[1;32m     13\u001b[0m \u001b[38;5;28mprint\u001b[39m(tabulate(non_isotropic_voigt_matrix, tablefmt\u001b[38;5;241m=\u001b[39m\u001b[38;5;124m\"\u001b[39m\u001b[38;5;124mpretty\u001b[39m\u001b[38;5;124m\"\u001b[39m))\n\u001b[1;32m     15\u001b[0m non_isotropic_phase \u001b[38;5;241m=\u001b[39m \u001b[38;5;124m'\u001b[39m\u001b[38;5;124mDiopside\u001b[39m\u001b[38;5;124m'\u001b[39m\n\u001b[0;32m---> 16\u001b[0m non_isotropic_voigt_matrix \u001b[38;5;241m=\u001b[39m \u001b[43mmaterial_instance\u001b[49m\u001b[38;5;241;43m.\u001b[39;49m\u001b[43mvoigthighPT\u001b[49m\u001b[43m(\u001b[49m\u001b[43mnon_isotropic_phase\u001b[49m\u001b[43m,\u001b[49m\u001b[43m \u001b[49m\u001b[38;5;241;43m3\u001b[39;49m\u001b[43m,\u001b[49m\u001b[43m \u001b[49m\u001b[38;5;241;43m1000\u001b[39;49m\u001b[43m)\u001b[49m\n\u001b[1;32m     17\u001b[0m \u001b[38;5;28mprint\u001b[39m(\u001b[38;5;124mf\u001b[39m\u001b[38;5;124m'\u001b[39m\u001b[38;5;124mVoigt matrix for \u001b[39m\u001b[38;5;132;01m{\u001b[39;00mnon_isotropic_phase\u001b[38;5;132;01m}\u001b[39;00m\u001b[38;5;124m:\u001b[39m\u001b[38;5;124m'\u001b[39m)\n\u001b[1;32m     18\u001b[0m \u001b[38;5;28mprint\u001b[39m(tabulate(non_isotropic_voigt_matrix, tablefmt\u001b[38;5;241m=\u001b[39m\u001b[38;5;124m\"\u001b[39m\u001b[38;5;124mpretty\u001b[39m\u001b[38;5;124m\"\u001b[39m))\n",
      "File \u001b[0;32m~/anaconda3/envs/pygmt/lib/python3.12/site-packages/sage/material/material.py:216\u001b[0m, in \u001b[0;36mMaterial.voigthighPT\u001b[0;34m(self, phase, PRESSURE, TEMP)\u001b[0m\n\u001b[1;32m    214\u001b[0m dCdT \u001b[38;5;241m=\u001b[39m \u001b[38;5;28mself\u001b[39m\u001b[38;5;241m.\u001b[39mget_voigt_matrix_temperature(phase)\n\u001b[1;32m    215\u001b[0m dCdP \u001b[38;5;241m=\u001b[39m \u001b[38;5;28mself\u001b[39m\u001b[38;5;241m.\u001b[39mget_voigt_matrix_pressure(phase)\n\u001b[0;32m--> 216\u001b[0m \u001b[38;5;28mprint\u001b[39m(\u001b[43mdensity\u001b[49m)\n\u001b[1;32m    218\u001b[0m tensor_calc \u001b[38;5;241m=\u001b[39m \u001b[38;5;28mself\u001b[39m\u001b[38;5;241m.\u001b[39mget_voigt_matrix(phase) \u001b[38;5;241m+\u001b[39m (dCdT \u001b[38;5;241m*\u001b[39m (TEMP \u001b[38;5;241m-\u001b[39m \u001b[38;5;241m300\u001b[39m) \u001b[38;5;241m*\u001b[39m \u001b[38;5;241m0.001\u001b[39m) \u001b[38;5;241m+\u001b[39m (dCdP \u001b[38;5;241m*\u001b[39m PRESSURE)\n\u001b[1;32m    219\u001b[0m \u001b[38;5;28;01mreturn\u001b[39;00m tensor_calc\n",
      "\u001b[0;31mNameError\u001b[0m: name 'density' is not defined"
     ]
    }
   ],
   "source": [
    "material_instance = Material()\n",
    "\n",
    "# Get properties for 'Almandine-pyrope'\n",
    "almandine_properties = material_instance.get_properties_by_phase('Almandine-pyrope')\n",
    "print(\"Material Properties for Almandine-pyrope:\")\n",
    "print(tabulate(almandine_properties.items(), headers=[\"Property\", \"Value\"], tablefmt=\"fancy_grid\"))\n",
    "print(\"\\n\")\n",
    "\n",
    "# Get voigt matrix for 'Amphobole #3 Taramite-Tschermakite1'\n",
    "non_isotropic_phase = 'Diopside'\n",
    "non_isotropic_voigt_matrix = material_instance.get_voigt_matrix(non_isotropic_phase)\n",
    "print(f'Voigt matrix for {non_isotropic_phase}:')\n",
    "print(tabulate(non_isotropic_voigt_matrix, tablefmt=\"pretty\"))\n",
    "\n",
    "non_isotropic_phase = 'Diopside'\n",
    "non_isotropic_voigt_matrix = material_instance.voigthighPT(non_isotropic_phase, 3, 1000)\n",
    "print(f'Voigt matrix for {non_isotropic_phase}:')\n",
    "print(tabulate(non_isotropic_voigt_matrix, tablefmt=\"pretty\"))"
   ]
  },
  {
   "cell_type": "code",
   "execution_count": null,
   "id": "e973ec42-55f4-4462-b18d-9b86979dbd64",
   "metadata": {},
   "outputs": [],
   "source": [
    "non_isotropic_voigt_matrix"
   ]
  },
  {
   "cell_type": "code",
   "execution_count": null,
   "id": "c248f36d-6302-46ce-ab8f-4a24bca3b7c0",
   "metadata": {},
   "outputs": [],
   "source": []
  },
  {
   "cell_type": "code",
   "execution_count": null,
   "id": "389722bf-bf35-4159-b107-c4eacbc99737",
   "metadata": {},
   "outputs": [],
   "source": []
  }
 ],
 "metadata": {
  "kernelspec": {
   "display_name": "Python 3 (ipykernel)",
   "language": "python",
   "name": "python3"
  },
  "language_info": {
   "codemirror_mode": {
    "name": "ipython",
    "version": 3
   },
   "file_extension": ".py",
   "mimetype": "text/x-python",
   "name": "python",
   "nbconvert_exporter": "python",
   "pygments_lexer": "ipython3",
   "version": "3.12.1"
  }
 },
 "nbformat": 4,
 "nbformat_minor": 5
}
