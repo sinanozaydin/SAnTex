{
 "cells": [
  {
   "cell_type": "code",
   "execution_count": 1,
   "id": "915011e4-fd7c-431d-a068-0ed34ff771db",
   "metadata": {},
   "outputs": [],
   "source": [
    "import numpy as np\n",
    "import pandas as pd\n",
    "\n",
    "from satex import Tensor"
   ]
  },
  {
   "cell_type": "code",
   "execution_count": 2,
   "id": "05c89642-4467-4fd9-bb1f-48571d14675b",
   "metadata": {},
   "outputs": [],
   "source": [
    "cij_forsterite = np.array([[320.5,  68.15,  71.6,     0,     0,     0],\n",
    "  [ 68.15,  196.5,  76.8,     0,     0,     0],\n",
    "  [  71.6,   76.8, 233.5,     0,     0,     0],\n",
    "  [   0,      0,      0,     64,     0,     0],\n",
    "  [   0,      0,      0,      0,    77,     0],\n",
    "  [   0,      0,      0,      0,     0,  78.7]])\n",
    "\n",
    "cij_enstatite = np.array([[  236.90,   79.60,   63.20,    0.00,    0.00,    0.00],\n",
    "  [    79.60,  180.50,   56.80,    0.00,    0.00,    0.00],\n",
    "  [    63.20,   56.80,  230.40,    0.00,    0.00,    0.00],\n",
    "  [     0.00,    0.00,    0.00,   84.30,    0.00,    0.00],\n",
    "  [     0.00,    0.00,    0.00,    0.00,   79.40,    0.00],\n",
    "  [     0.00,    0.00,    0.00,    0.00,    0.00,   80.10]])\n",
    "cij_diopside = np.array([[  228.10,   78.80,   70.20,    0.00,    7.90,    0.00],\n",
    "  [    78.80,  181.10,   61.10,    0.00,    5.90,    0.00],\n",
    "  [    70.20,   61.10,  245.40,    0.00,   39.70,    0.00],\n",
    "  [     0.00,    0.00,    0.00,   78.90,    0.00,    6.40],\n",
    "  [     7.90,    5.90,   39.70,    0.00,   68.20,    0.00],\n",
    "  [     0.00,    0.00,    0.00,    6.40,    0.00,   78.10]])"
   ]
  },
  {
   "cell_type": "code",
   "execution_count": 3,
   "id": "58f31777-be60-41c2-aa28-59b80884fcec",
   "metadata": {},
   "outputs": [],
   "source": [
    "tensor = Tensor()"
   ]
  },
  {
   "cell_type": "code",
   "execution_count": 4,
   "id": "ee2963e0-7e51-451d-8ad1-706dc0662fa9",
   "metadata": {},
   "outputs": [],
   "source": [
    "cijkl_forsterite = tensor.voigt_to_tensor(cij_forsterite)"
   ]
  },
  {
   "cell_type": "code",
   "execution_count": 5,
   "id": "4691860f-1673-45b2-8e09-bba8ef7e278a",
   "metadata": {},
   "outputs": [
    {
     "data": {
      "text/plain": [
       "array([[[[320.5 ,   0.  ,   0.  ],\n",
       "         [  0.  ,  68.15,   0.  ],\n",
       "         [  0.  ,   0.  ,  71.6 ]],\n",
       "\n",
       "        [[  0.  ,  78.7 ,   0.  ],\n",
       "         [ 78.7 ,   0.  ,   0.  ],\n",
       "         [  0.  ,   0.  ,   0.  ]],\n",
       "\n",
       "        [[  0.  ,   0.  ,  77.  ],\n",
       "         [  0.  ,   0.  ,   0.  ],\n",
       "         [ 77.  ,   0.  ,   0.  ]]],\n",
       "\n",
       "\n",
       "       [[[  0.  ,  78.7 ,   0.  ],\n",
       "         [ 78.7 ,   0.  ,   0.  ],\n",
       "         [  0.  ,   0.  ,   0.  ]],\n",
       "\n",
       "        [[ 68.15,   0.  ,   0.  ],\n",
       "         [  0.  , 196.5 ,   0.  ],\n",
       "         [  0.  ,   0.  ,  76.8 ]],\n",
       "\n",
       "        [[  0.  ,   0.  ,   0.  ],\n",
       "         [  0.  ,   0.  ,  64.  ],\n",
       "         [  0.  ,  64.  ,   0.  ]]],\n",
       "\n",
       "\n",
       "       [[[  0.  ,   0.  ,  77.  ],\n",
       "         [  0.  ,   0.  ,   0.  ],\n",
       "         [ 77.  ,   0.  ,   0.  ]],\n",
       "\n",
       "        [[  0.  ,   0.  ,   0.  ],\n",
       "         [  0.  ,   0.  ,  64.  ],\n",
       "         [  0.  ,  64.  ,   0.  ]],\n",
       "\n",
       "        [[ 71.6 ,   0.  ,   0.  ],\n",
       "         [  0.  ,  76.8 ,   0.  ],\n",
       "         [  0.  ,   0.  , 233.5 ]]]])"
      ]
     },
     "execution_count": 5,
     "metadata": {},
     "output_type": "execute_result"
    }
   ],
   "source": [
    "cijkl_forsterite"
   ]
  },
  {
   "cell_type": "code",
   "execution_count": 6,
   "id": "8840736b-8a5e-4d6f-a23e-47736deef6cb",
   "metadata": {},
   "outputs": [],
   "source": [
    "cij_forsterite = tensor.tensor_to_voigt(cijkl_forsterite)"
   ]
  },
  {
   "cell_type": "code",
   "execution_count": 7,
   "id": "e2ce4d60-d2f7-4c21-aae0-586b83f72cc4",
   "metadata": {},
   "outputs": [
    {
     "data": {
      "text/plain": [
       "array([[320.5 ,  68.15,  71.6 ,   0.  ,   0.  ,   0.  ],\n",
       "       [ 68.15, 196.5 ,  76.8 ,   0.  ,   0.  ,   0.  ],\n",
       "       [ 71.6 ,  76.8 , 233.5 ,   0.  ,   0.  ,   0.  ],\n",
       "       [  0.  ,   0.  ,   0.  ,  64.  ,   0.  ,   0.  ],\n",
       "       [  0.  ,   0.  ,   0.  ,   0.  ,  77.  ,   0.  ],\n",
       "       [  0.  ,   0.  ,   0.  ,   0.  ,   0.  ,  78.7 ]])"
      ]
     },
     "execution_count": 7,
     "metadata": {},
     "output_type": "execute_result"
    }
   ],
   "source": [
    "cij_forsterite"
   ]
  },
  {
   "cell_type": "markdown",
   "id": "3b241b58-2d93-4295-8a59-8490ba685c1f",
   "metadata": {},
   "source": [
    "# Rotate Tensors"
   ]
  },
  {
   "cell_type": "code",
   "execution_count": 8,
   "id": "41ff4686-e5a4-423e-8064-17fd1f8f5d58",
   "metadata": {},
   "outputs": [],
   "source": [
    "alpha = 10\n",
    "beta = 20\n",
    "gamma = 30 # in degrees"
   ]
  },
  {
   "cell_type": "code",
   "execution_count": 9,
   "id": "2e5a2558-714c-4f63-8303-0a17234346e4",
   "metadata": {},
   "outputs": [],
   "source": [
    "rotated_forsterite = tensor.rotate_tensor(cijkl_forsterite, alpha, beta, gamma)"
   ]
  },
  {
   "cell_type": "code",
   "execution_count": 10,
   "id": "dedbdea1-81e3-412b-8b49-15df10b6fd2b",
   "metadata": {},
   "outputs": [
    {
     "data": {
      "text/plain": [
       "array([[[[254.40669486,  32.19107185,   9.1917399 ],\n",
       "         [ 32.19107185,  83.60527452,   2.25426383],\n",
       "         [  9.1917399 ,   2.25426383,  74.25170921]],\n",
       "\n",
       "        [[ 32.19107185,  93.02059007,   5.79247342],\n",
       "         [ 93.02059007,  24.85704921,   6.26816834],\n",
       "         [  5.79247342,   6.26816834,  -1.68082112]],\n",
       "\n",
       "        [[  9.1917399 ,   5.79247342,  73.39492984],\n",
       "         [  5.79247342,   4.15506621,   7.02836206],\n",
       "         [ 73.39492984,   7.02836206,   4.58001959]]],\n",
       "\n",
       "\n",
       "       [[[ 32.19107185,  93.02059007,   5.79247342],\n",
       "         [ 93.02059007,  24.85704921,   6.26816834],\n",
       "         [  5.79247342,   6.26816834,  -1.68082112]],\n",
       "\n",
       "        [[ 83.60527452,  24.85704921,   4.15506621],\n",
       "         [ 24.85704921, 229.09177813,   3.16662267],\n",
       "         [  4.15506621,   3.16662267,  77.9967799 ]],\n",
       "\n",
       "        [[  2.25426383,   6.26816834,   7.02836206],\n",
       "         [  6.26816834,   3.16662267,  72.58824371],\n",
       "         [  7.02836206,  72.58824371,  -5.76818554]]],\n",
       "\n",
       "\n",
       "       [[[  9.1917399 ,   5.79247342,  73.39492984],\n",
       "         [  5.79247342,   4.15506621,   7.02836206],\n",
       "         [ 73.39492984,   7.02836206,   4.58001959]],\n",
       "\n",
       "        [[  2.25426383,   6.26816834,   7.02836206],\n",
       "         [  6.26816834,   3.16662267,  72.58824371],\n",
       "         [  7.02836206,  72.58824371,  -5.76818554]],\n",
       "\n",
       "        [[ 74.25170921,  -1.68082112,   4.58001959],\n",
       "         [ -1.68082112,  77.9967799 ,  -5.76818554],\n",
       "         [  4.58001959,  -5.76818554, 228.39399978]]]])"
      ]
     },
     "execution_count": 10,
     "metadata": {},
     "output_type": "execute_result"
    }
   ],
   "source": [
    "rotated_forsterite"
   ]
  },
  {
   "cell_type": "code",
   "execution_count": 11,
   "id": "abe15083-3c7e-4188-9700-af5632ab15e7",
   "metadata": {},
   "outputs": [],
   "source": [
    "voigt_rotated_forsterite = tensor.tensor_to_voigt(rotated_forsterite)"
   ]
  },
  {
   "cell_type": "code",
   "execution_count": 12,
   "id": "2d6a168d-86da-40b3-b6c1-efb8fcb5a18b",
   "metadata": {},
   "outputs": [
    {
     "data": {
      "text/html": [
       "<div>\n",
       "<style scoped>\n",
       "    .dataframe tbody tr th:only-of-type {\n",
       "        vertical-align: middle;\n",
       "    }\n",
       "\n",
       "    .dataframe tbody tr th {\n",
       "        vertical-align: top;\n",
       "    }\n",
       "\n",
       "    .dataframe thead th {\n",
       "        text-align: right;\n",
       "    }\n",
       "</style>\n",
       "<table border=\"1\" class=\"dataframe\">\n",
       "  <thead>\n",
       "    <tr style=\"text-align: right;\">\n",
       "      <th></th>\n",
       "      <th>0</th>\n",
       "      <th>1</th>\n",
       "      <th>2</th>\n",
       "      <th>3</th>\n",
       "      <th>4</th>\n",
       "      <th>5</th>\n",
       "    </tr>\n",
       "  </thead>\n",
       "  <tbody>\n",
       "    <tr>\n",
       "      <th>0</th>\n",
       "      <td>254.406695</td>\n",
       "      <td>83.605275</td>\n",
       "      <td>74.251709</td>\n",
       "      <td>2.254264</td>\n",
       "      <td>9.191740</td>\n",
       "      <td>32.191072</td>\n",
       "    </tr>\n",
       "    <tr>\n",
       "      <th>1</th>\n",
       "      <td>83.605275</td>\n",
       "      <td>229.091778</td>\n",
       "      <td>77.996780</td>\n",
       "      <td>3.166623</td>\n",
       "      <td>4.155066</td>\n",
       "      <td>24.857049</td>\n",
       "    </tr>\n",
       "    <tr>\n",
       "      <th>2</th>\n",
       "      <td>74.251709</td>\n",
       "      <td>77.996780</td>\n",
       "      <td>228.394000</td>\n",
       "      <td>-5.768186</td>\n",
       "      <td>4.580020</td>\n",
       "      <td>-1.680821</td>\n",
       "    </tr>\n",
       "    <tr>\n",
       "      <th>3</th>\n",
       "      <td>2.254264</td>\n",
       "      <td>3.166623</td>\n",
       "      <td>-5.768186</td>\n",
       "      <td>72.588244</td>\n",
       "      <td>7.028362</td>\n",
       "      <td>6.268168</td>\n",
       "    </tr>\n",
       "    <tr>\n",
       "      <th>4</th>\n",
       "      <td>9.191740</td>\n",
       "      <td>4.155066</td>\n",
       "      <td>4.580020</td>\n",
       "      <td>7.028362</td>\n",
       "      <td>73.394930</td>\n",
       "      <td>5.792473</td>\n",
       "    </tr>\n",
       "    <tr>\n",
       "      <th>5</th>\n",
       "      <td>32.191072</td>\n",
       "      <td>24.857049</td>\n",
       "      <td>-1.680821</td>\n",
       "      <td>6.268168</td>\n",
       "      <td>5.792473</td>\n",
       "      <td>93.020590</td>\n",
       "    </tr>\n",
       "  </tbody>\n",
       "</table>\n",
       "</div>"
      ],
      "text/plain": [
       "            0           1           2          3          4          5\n",
       "0  254.406695   83.605275   74.251709   2.254264   9.191740  32.191072\n",
       "1   83.605275  229.091778   77.996780   3.166623   4.155066  24.857049\n",
       "2   74.251709   77.996780  228.394000  -5.768186   4.580020  -1.680821\n",
       "3    2.254264    3.166623   -5.768186  72.588244   7.028362   6.268168\n",
       "4    9.191740    4.155066    4.580020   7.028362  73.394930   5.792473\n",
       "5   32.191072   24.857049   -1.680821   6.268168   5.792473  93.020590"
      ]
     },
     "execution_count": 12,
     "metadata": {},
     "output_type": "execute_result"
    }
   ],
   "source": [
    "pd.DataFrame(voigt_rotated_forsterite)"
   ]
  },
  {
   "cell_type": "code",
   "execution_count": null,
   "id": "5d4c2b2b-b2de-468e-bc9c-38fb4c788f52",
   "metadata": {},
   "outputs": [],
   "source": []
  },
  {
   "cell_type": "code",
   "execution_count": null,
   "id": "44083327-7899-4601-b6dd-05185de64503",
   "metadata": {},
   "outputs": [],
   "source": []
  },
  {
   "cell_type": "code",
   "execution_count": null,
   "id": "fb2e952e-3212-4db4-a880-abf06d0334de",
   "metadata": {},
   "outputs": [],
   "source": []
  }
 ],
 "metadata": {
  "kernelspec": {
   "display_name": "Python 3 (ipykernel)",
   "language": "python",
   "name": "python3"
  },
  "language_info": {
   "codemirror_mode": {
    "name": "ipython",
    "version": 3
   },
   "file_extension": ".py",
   "mimetype": "text/x-python",
   "name": "python",
   "nbconvert_exporter": "python",
   "pygments_lexer": "ipython3",
   "version": "3.12.1"
  }
 },
 "nbformat": 4,
 "nbformat_minor": 5
}
