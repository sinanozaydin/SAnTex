{
 "cells": [
  {
   "cell_type": "markdown",
   "id": "0a6cbdc4-427d-4793-874e-ccf86e60fb4a",
   "metadata": {},
   "source": [
    "# Tensor Analysis"
   ]
  },
  {
   "cell_type": "markdown",
   "id": "1c54f2bd-73ae-4c37-bbfb-dfe399c8bccd",
   "metadata": {},
   "source": [
    "Let's look at the tensor notation and voigt notation and tensor roatation. For that, we need to first import Tensor module"
   ]
  },
  {
   "cell_type": "code",
   "execution_count": 1,
   "id": "915011e4-fd7c-431d-a068-0ed34ff771db",
   "metadata": {},
   "outputs": [],
   "source": [
    "import numpy as np\n",
    "import pandas as pd\n",
    "\n",
    "from santex.tensor import Tensor"
   ]
  },
  {
   "cell_type": "markdown",
   "id": "52ecd0a3-5d45-48ba-9828-455939ee36ad",
   "metadata": {},
   "source": [
    "Let's load some atiffness matrix values for forsterite, enstatite and diopside. The values can be seen in voigt matrix format"
   ]
  },
  {
   "cell_type": "code",
   "execution_count": 2,
   "id": "05c89642-4467-4fd9-bb1f-48571d14675b",
   "metadata": {},
   "outputs": [],
   "source": [
    "cij_forsterite = np.array([[320.5,  68.15,  71.6,     0,     0,     0],\n",
    "  [ 68.15,  196.5,  76.8,     0,     0,     0],\n",
    "  [  71.6,   76.8, 233.5,     0,     0,     0],\n",
    "  [   0,      0,      0,     64,     0,     0],\n",
    "  [   0,      0,      0,      0,    77,     0],\n",
    "  [   0,      0,      0,      0,     0,  78.7]])\n",
    "\n",
    "cij_enstatite = np.array([[  236.90,   79.60,   63.20,    0.00,    0.00,    0.00],\n",
    "  [    79.60,  180.50,   56.80,    0.00,    0.00,    0.00],\n",
    "  [    63.20,   56.80,  230.40,    0.00,    0.00,    0.00],\n",
    "  [     0.00,    0.00,    0.00,   84.30,    0.00,    0.00],\n",
    "  [     0.00,    0.00,    0.00,    0.00,   79.40,    0.00],\n",
    "  [     0.00,    0.00,    0.00,    0.00,    0.00,   80.10]])\n",
    "cij_diopside = np.array([[  228.10,   78.80,   70.20,    0.00,    7.90,    0.00],\n",
    "  [    78.80,  181.10,   61.10,    0.00,    5.90,    0.00],\n",
    "  [    70.20,   61.10,  245.40,    0.00,   39.70,    0.00],\n",
    "  [     0.00,    0.00,    0.00,   78.90,    0.00,    6.40],\n",
    "  [     7.90,    5.90,   39.70,    0.00,   68.20,    0.00],\n",
    "  [     0.00,    0.00,    0.00,    6.40,    0.00,   78.10]])"
   ]
  },
  {
   "cell_type": "markdown",
   "id": "6b40ac23-d46f-4933-823a-4403b3955f87",
   "metadata": {},
   "source": [
    "Let's instantiate the Tensor class"
   ]
  },
  {
   "cell_type": "code",
   "execution_count": 3,
   "id": "58f31777-be60-41c2-aa28-59b80884fcec",
   "metadata": {},
   "outputs": [],
   "source": [
    "tensor = Tensor()"
   ]
  },
  {
   "cell_type": "markdown",
   "id": "c6619dff-6f9f-4e01-af33-45ef7e50731e",
   "metadata": {},
   "source": [
    "Let's convert the 6*6 voigt matrix to 3*3*3*3 stiffness tensor for forsterite"
   ]
  },
  {
   "cell_type": "code",
   "execution_count": 4,
   "id": "ee2963e0-7e51-451d-8ad1-706dc0662fa9",
   "metadata": {},
   "outputs": [],
   "source": [
    "cijkl_forsterite = tensor.voigt_to_tensor(cij_forsterite)"
   ]
  },
  {
   "cell_type": "code",
   "execution_count": 5,
   "id": "4691860f-1673-45b2-8e09-bba8ef7e278a",
   "metadata": {},
   "outputs": [
    {
     "data": {
      "text/plain": [
       "array([[[[320.5 ,   0.  ,   0.  ],\n",
       "         [  0.  ,  68.15,   0.  ],\n",
       "         [  0.  ,   0.  ,  71.6 ]],\n",
       "\n",
       "        [[  0.  ,  78.7 ,   0.  ],\n",
       "         [ 78.7 ,   0.  ,   0.  ],\n",
       "         [  0.  ,   0.  ,   0.  ]],\n",
       "\n",
       "        [[  0.  ,   0.  ,  77.  ],\n",
       "         [  0.  ,   0.  ,   0.  ],\n",
       "         [ 77.  ,   0.  ,   0.  ]]],\n",
       "\n",
       "\n",
       "       [[[  0.  ,  78.7 ,   0.  ],\n",
       "         [ 78.7 ,   0.  ,   0.  ],\n",
       "         [  0.  ,   0.  ,   0.  ]],\n",
       "\n",
       "        [[ 68.15,   0.  ,   0.  ],\n",
       "         [  0.  , 196.5 ,   0.  ],\n",
       "         [  0.  ,   0.  ,  76.8 ]],\n",
       "\n",
       "        [[  0.  ,   0.  ,   0.  ],\n",
       "         [  0.  ,   0.  ,  64.  ],\n",
       "         [  0.  ,  64.  ,   0.  ]]],\n",
       "\n",
       "\n",
       "       [[[  0.  ,   0.  ,  77.  ],\n",
       "         [  0.  ,   0.  ,   0.  ],\n",
       "         [ 77.  ,   0.  ,   0.  ]],\n",
       "\n",
       "        [[  0.  ,   0.  ,   0.  ],\n",
       "         [  0.  ,   0.  ,  64.  ],\n",
       "         [  0.  ,  64.  ,   0.  ]],\n",
       "\n",
       "        [[ 71.6 ,   0.  ,   0.  ],\n",
       "         [  0.  ,  76.8 ,   0.  ],\n",
       "         [  0.  ,   0.  , 233.5 ]]]])"
      ]
     },
     "execution_count": 5,
     "metadata": {},
     "output_type": "execute_result"
    }
   ],
   "source": [
    "cijkl_forsterite"
   ]
  },
  {
   "cell_type": "markdown",
   "id": "25c6fea3-6279-4cb6-bb66-43a8fe79b0c1",
   "metadata": {},
   "source": [
    "Now, let's convert the 3*3*3*3 stiffness tensor to voigt matrix again"
   ]
  },
  {
   "cell_type": "code",
   "execution_count": 6,
   "id": "8840736b-8a5e-4d6f-a23e-47736deef6cb",
   "metadata": {},
   "outputs": [],
   "source": [
    "cij_forsterite = tensor.tensor_to_voigt(cijkl_forsterite)"
   ]
  },
  {
   "cell_type": "code",
   "execution_count": 7,
   "id": "e2ce4d60-d2f7-4c21-aae0-586b83f72cc4",
   "metadata": {},
   "outputs": [
    {
     "data": {
      "text/plain": [
       "array([[320.5 ,  68.15,  71.6 ,   0.  ,   0.  ,   0.  ],\n",
       "       [ 68.15, 196.5 ,  76.8 ,   0.  ,   0.  ,   0.  ],\n",
       "       [ 71.6 ,  76.8 , 233.5 ,   0.  ,   0.  ,   0.  ],\n",
       "       [  0.  ,   0.  ,   0.  ,  64.  ,   0.  ,   0.  ],\n",
       "       [  0.  ,   0.  ,   0.  ,   0.  ,  77.  ,   0.  ],\n",
       "       [  0.  ,   0.  ,   0.  ,   0.  ,   0.  ,  78.7 ]])"
      ]
     },
     "execution_count": 7,
     "metadata": {},
     "output_type": "execute_result"
    }
   ],
   "source": [
    "cij_forsterite"
   ]
  },
  {
   "cell_type": "markdown",
   "id": "3b241b58-2d93-4295-8a59-8490ba685c1f",
   "metadata": {},
   "source": [
    "# Rotate Tensors"
   ]
  },
  {
   "cell_type": "markdown",
   "id": "855e47bf-2b48-4a0c-8996-a05a9b75dea6",
   "metadata": {},
   "source": [
    "Let's now rotate the above tensor with alpha = 10 degrees, beta = 20 degrees, and gamma = 30 degrees"
   ]
  },
  {
   "cell_type": "code",
   "execution_count": 8,
   "id": "41ff4686-e5a4-423e-8064-17fd1f8f5d58",
   "metadata": {},
   "outputs": [],
   "source": [
    "alpha = 10\n",
    "beta = 20\n",
    "gamma = 30 # in degrees"
   ]
  },
  {
   "cell_type": "code",
   "execution_count": 9,
   "id": "2e5a2558-714c-4f63-8303-0a17234346e4",
   "metadata": {},
   "outputs": [],
   "source": [
    "rotated_forsterite = tensor.rotate_tensor(cijkl_forsterite, alpha, beta, gamma)"
   ]
  },
  {
   "cell_type": "code",
   "execution_count": 10,
   "id": "abe15083-3c7e-4188-9700-af5632ab15e7",
   "metadata": {},
   "outputs": [],
   "source": [
    "voigt_rotated_forsterite = tensor.tensor_to_voigt(rotated_forsterite)"
   ]
  },
  {
   "cell_type": "code",
   "execution_count": 11,
   "id": "dedbdea1-81e3-412b-8b49-15df10b6fd2b",
   "metadata": {},
   "outputs": [
    {
     "data": {
      "text/plain": [
       "array([[[[254.40669486,  32.19107185,   9.1917399 ],\n",
       "         [ 32.19107185,  83.60527452,   2.25426383],\n",
       "         [  9.1917399 ,   2.25426383,  74.25170921]],\n",
       "\n",
       "        [[ 32.19107185,  93.02059007,   5.79247342],\n",
       "         [ 93.02059007,  24.85704921,   6.26816834],\n",
       "         [  5.79247342,   6.26816834,  -1.68082112]],\n",
       "\n",
       "        [[  9.1917399 ,   5.79247342,  73.39492984],\n",
       "         [  5.79247342,   4.15506621,   7.02836206],\n",
       "         [ 73.39492984,   7.02836206,   4.58001959]]],\n",
       "\n",
       "\n",
       "       [[[ 32.19107185,  93.02059007,   5.79247342],\n",
       "         [ 93.02059007,  24.85704921,   6.26816834],\n",
       "         [  5.79247342,   6.26816834,  -1.68082112]],\n",
       "\n",
       "        [[ 83.60527452,  24.85704921,   4.15506621],\n",
       "         [ 24.85704921, 229.09177813,   3.16662267],\n",
       "         [  4.15506621,   3.16662267,  77.9967799 ]],\n",
       "\n",
       "        [[  2.25426383,   6.26816834,   7.02836206],\n",
       "         [  6.26816834,   3.16662267,  72.58824371],\n",
       "         [  7.02836206,  72.58824371,  -5.76818554]]],\n",
       "\n",
       "\n",
       "       [[[  9.1917399 ,   5.79247342,  73.39492984],\n",
       "         [  5.79247342,   4.15506621,   7.02836206],\n",
       "         [ 73.39492984,   7.02836206,   4.58001959]],\n",
       "\n",
       "        [[  2.25426383,   6.26816834,   7.02836206],\n",
       "         [  6.26816834,   3.16662267,  72.58824371],\n",
       "         [  7.02836206,  72.58824371,  -5.76818554]],\n",
       "\n",
       "        [[ 74.25170921,  -1.68082112,   4.58001959],\n",
       "         [ -1.68082112,  77.9967799 ,  -5.76818554],\n",
       "         [  4.58001959,  -5.76818554, 228.39399978]]]])"
      ]
     },
     "execution_count": 11,
     "metadata": {},
     "output_type": "execute_result"
    }
   ],
   "source": [
    "rotated_forsterite"
   ]
  },
  {
   "cell_type": "markdown",
   "id": "4536b782-8b5e-4f27-95e8-a78fc6786016",
   "metadata": {},
   "source": [
    "Let's now look at the rotated forsterite in voigt form and compare with the original non rotated voigt form"
   ]
  },
  {
   "cell_type": "code",
   "execution_count": 12,
   "id": "2d6a168d-86da-40b3-b6c1-efb8fcb5a18b",
   "metadata": {},
   "outputs": [
    {
     "data": {
      "text/plain": [
       "array([[254.40669486,  83.60527452,  74.25170921,   2.25426383,\n",
       "          9.1917399 ,  32.19107185],\n",
       "       [ 83.60527452, 229.09177813,  77.9967799 ,   3.16662267,\n",
       "          4.15506621,  24.85704921],\n",
       "       [ 74.25170921,  77.9967799 , 228.39399978,  -5.76818554,\n",
       "          4.58001959,  -1.68082112],\n",
       "       [  2.25426383,   3.16662267,  -5.76818554,  72.58824371,\n",
       "          7.02836206,   6.26816834],\n",
       "       [  9.1917399 ,   4.15506621,   4.58001959,   7.02836206,\n",
       "         73.39492984,   5.79247342],\n",
       "       [ 32.19107185,  24.85704921,  -1.68082112,   6.26816834,\n",
       "          5.79247342,  93.02059007]])"
      ]
     },
     "execution_count": 12,
     "metadata": {},
     "output_type": "execute_result"
    }
   ],
   "source": [
    "voigt_rotated_forsterite"
   ]
  },
  {
   "cell_type": "code",
   "execution_count": null,
   "id": "d2321e4c-13b9-410e-8285-008f6f5b6196",
   "metadata": {},
   "outputs": [],
   "source": []
  },
  {
   "cell_type": "code",
   "execution_count": null,
   "id": "d163718d-15ac-4576-b4bf-5928bad15c92",
   "metadata": {},
   "outputs": [],
   "source": []
  }
 ],
 "metadata": {
  "kernelspec": {
   "display_name": "Python 3 (ipykernel)",
   "language": "python",
   "name": "python3"
  },
  "language_info": {
   "codemirror_mode": {
    "name": "ipython",
    "version": 3
   },
   "file_extension": ".py",
   "mimetype": "text/x-python",
   "name": "python",
   "nbconvert_exporter": "python",
   "pygments_lexer": "ipython3",
   "version": "3.12.1"
  }
 },
 "nbformat": 4,
 "nbformat_minor": 5
}
