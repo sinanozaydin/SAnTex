{
 "cells": [
  {
   "cell_type": "code",
   "execution_count": 1,
   "id": "9fbcb260-198a-45a8-9837-a495bb85fed2",
   "metadata": {},
   "outputs": [],
   "source": [
    "import numpy as np"
   ]
  },
  {
   "cell_type": "code",
   "execution_count": 2,
   "id": "543c1d90-bdec-4392-8fd2-9f8e829e6044",
   "metadata": {},
   "outputs": [],
   "source": [
    "# diopside = cpx\n",
    "# enstatite = opx\n",
    "\n",
    "cij_forsterite = np.array([[320.5,  68.15,  71.6,     0,     0,     0],\n",
    "  [ 68.15,  196.5,  76.8,     0,     0,     0],\n",
    "  [  71.6,   76.8, 233.5,     0,     0,     0],\n",
    "  [   0,      0,      0,     64,     0,     0],\n",
    "  [   0,      0,      0,      0,    77,     0],\n",
    "  [   0,      0,      0,      0,     0,  78.7]])\n",
    "\n",
    "cij_enstatite = np.array([[  236.90,   79.60,   63.20,    0.00,    0.00,    0.00],\n",
    "  [    79.60,  180.50,   56.80,    0.00,    0.00,    0.00],\n",
    "  [    63.20,   56.80,  230.40,    0.00,    0.00,    0.00],\n",
    "  [     0.00,    0.00,    0.00,   84.30,    0.00,    0.00],\n",
    "  [     0.00,    0.00,    0.00,    0.00,   79.40,    0.00],\n",
    "  [     0.00,    0.00,    0.00,    0.00,    0.00,   80.10]])\n",
    "cij_diopside = np.array([[  228.10,   78.80,   70.20,    0.00,    7.90,    0.00],\n",
    "  [    78.80,  181.10,   61.10,    0.00,    5.90,    0.00],\n",
    "  [    70.20,   61.10,  245.40,    0.00,   39.70,    0.00],\n",
    "  [     0.00,    0.00,    0.00,   78.90,    0.00,    6.40],\n",
    "  [     7.90,    5.90,   39.70,    0.00,   68.20,    0.00],\n",
    "  [     0.00,    0.00,    0.00,    6.40,    0.00,   78.10]])"
   ]
  },
  {
   "cell_type": "code",
   "execution_count": 3,
   "id": "7bac5345-abe1-4021-92bc-740af9020116",
   "metadata": {},
   "outputs": [],
   "source": [
    "cij = [cij_forsterite, cij_enstatite]"
   ]
  },
  {
   "cell_type": "code",
   "execution_count": 4,
   "id": "ceafef64-f048-459e-aa9d-822848b8655d",
   "metadata": {},
   "outputs": [],
   "source": [
    "rho_forsterite = 3355\n",
    "rho_enstatite = 3306\n",
    "rho_diopside = 3286"
   ]
  },
  {
   "cell_type": "code",
   "execution_count": 5,
   "id": "d96006ad-c118-4719-868c-29f7c00b62a7",
   "metadata": {},
   "outputs": [],
   "source": [
    "rho = [rho_forsterite, rho_enstatite]"
   ]
  },
  {
   "cell_type": "code",
   "execution_count": 6,
   "id": "9111cc7b-ab4a-41ca-bc5f-99c15d1bdc62",
   "metadata": {},
   "outputs": [],
   "source": [
    "from sage import EBSD\n",
    "ebsdfile = EBSD(\"ebsd.ctf\")"
   ]
  },
  {
   "cell_type": "code",
   "execution_count": 7,
   "id": "172bfb08-2fab-4dbe-ac09-8082cb70b357",
   "metadata": {},
   "outputs": [],
   "source": [
    "ds = ebsdfile.downsampleEBSD()\n",
    "# ds = ebsdfile.get_ebsd_data()"
   ]
  },
  {
   "cell_type": "code",
   "execution_count": 8,
   "id": "a3b9e0ff-61ea-4b36-8c9c-c68bff6e2e27",
   "metadata": {},
   "outputs": [],
   "source": [
    "forsterite = ebsdfile.get_euler_angles(phase = 2, data = ds)"
   ]
  },
  {
   "cell_type": "code",
   "execution_count": 9,
   "id": "e9606804-66fa-4aed-a1f6-f91aa23a5cea",
   "metadata": {},
   "outputs": [],
   "source": [
    "enstatite = ebsdfile.get_euler_angles(phase = 3, data = ds)"
   ]
  },
  {
   "cell_type": "code",
   "execution_count": 10,
   "id": "2668970b-ecf6-4cfa-912a-21ed1c934ea4",
   "metadata": {},
   "outputs": [],
   "source": [
    "diopside = ebsdfile.get_euler_angles(phase = 1, data = ds)"
   ]
  },
  {
   "cell_type": "code",
   "execution_count": 11,
   "id": "d3d5a7ff-0775-43d9-b5d6-e18690e36c6d",
   "metadata": {},
   "outputs": [],
   "source": [
    "euler_angles = [forsterite, enstatite]"
   ]
  },
  {
   "cell_type": "code",
   "execution_count": 12,
   "id": "77d68de7-2726-42ad-b32a-9eebfe5fe067",
   "metadata": {},
   "outputs": [],
   "source": [
    "from sage import Anisotropy\n",
    "from sage import EBSD"
   ]
  },
  {
   "cell_type": "code",
   "execution_count": 13,
   "id": "350819b5-e819-4c52-896f-9e63202ff8ce",
   "metadata": {},
   "outputs": [],
   "source": [
    "x, y = ebsdfile.getAnisotropyForEBSD(cij = cij, euler_angles= euler_angles)"
   ]
  },
  {
   "cell_type": "code",
   "execution_count": 14,
   "id": "d4194cf8-3966-468d-86c0-71009921406b",
   "metadata": {},
   "outputs": [
    {
     "name": "stdout",
     "output_type": "stream",
     "text": [
      "Output rotated tensor in voigt matrix convention:\n",
      "            0           1           2          3          4          5\n",
      "0  226.496782   72.774588   73.279176  -0.349680  -0.824986   0.834207\n",
      "1   72.774588  244.730454   71.175315   2.345770   0.446452   3.071319\n",
      "2   73.279176   71.175315  224.047786   0.175633  -0.100553  -0.071797\n",
      "3   -0.349680    2.345770    0.175633  80.768306   1.589629   0.965186\n",
      "4   -0.824986    0.446452   -0.100553   1.589629  76.009366   0.298628\n",
      "5    0.834207    3.071319   -0.071797   0.965186   0.298628  79.789056\n"
     ]
    }
   ],
   "source": [
    "from sage import Tensor\n",
    "tensor = Tensor()\n",
    "\n",
    "import pandas as pd\n",
    "print(\"Output rotated tensor in voigt matrix convention:\")\n",
    "print(pd.DataFrame(np.array(tensor.tensor_to_voigt(x))))"
   ]
  },
  {
   "cell_type": "code",
   "execution_count": 15,
   "id": "081b0d03-97ad-4f68-ae1a-05b51067fd70",
   "metadata": {},
   "outputs": [],
   "source": [
    "from sage import Anisotropy\n",
    "density = 3298"
   ]
  },
  {
   "cell_type": "code",
   "execution_count": 16,
   "id": "ea6f7ae9-299a-436b-bd59-59433c676c1c",
   "metadata": {},
   "outputs": [],
   "source": [
    "t = Anisotropy(tensor.tensor_to_voigt(x), density)"
   ]
  },
  {
   "cell_type": "code",
   "execution_count": null,
   "id": "99b71a28-78de-419b-9d95-34a61edaef1e",
   "metadata": {},
   "outputs": [],
   "source": [
    "t.plot()"
   ]
  },
  {
   "cell_type": "code",
   "execution_count": null,
   "id": "5384aaf7-336d-40e1-b502-bd93053d9fad",
   "metadata": {},
   "outputs": [],
   "source": []
  }
 ],
 "metadata": {
  "kernelspec": {
   "display_name": "Python 3 (ipykernel)",
   "language": "python",
   "name": "python3"
  },
  "language_info": {
   "codemirror_mode": {
    "name": "ipython",
    "version": 3
   },
   "file_extension": ".py",
   "mimetype": "text/x-python",
   "name": "python",
   "nbconvert_exporter": "python",
   "pygments_lexer": "ipython3",
   "version": "3.12.1"
  }
 },
 "nbformat": 4,
 "nbformat_minor": 5
}
