{
 "cells": [
  {
   "cell_type": "code",
   "execution_count": 18,
   "id": "9b981e6c-0e9d-45f8-8695-361663ec2686",
   "metadata": {},
   "outputs": [],
   "source": [
    "from satex import Material\n",
    "\n",
    "material = Material()"
   ]
  },
  {
   "cell_type": "code",
   "execution_count": 19,
   "id": "5095e27a-5023-4f05-b487-3c3c6ed82256",
   "metadata": {},
   "outputs": [],
   "source": [
    "rock = [\"Forsterite\", \"Diopside\", \"Enstatite\"]"
   ]
  },
  {
   "cell_type": "code",
   "execution_count": 20,
   "id": "41bab7bf-0ee4-4ed1-8da0-4418e8462c6a",
   "metadata": {},
   "outputs": [],
   "source": [
    "fraction = [0.2, 0.5, 0.3]"
   ]
  },
  {
   "cell_type": "code",
   "execution_count": 21,
   "id": "69c5241d-1211-4c6a-9fd2-92501d3669f3",
   "metadata": {},
   "outputs": [
    {
     "data": {
      "text/plain": [
       "(array([[249.386,  79.957,  73.504,   0.   ,   4.19 ,   0.   ],\n",
       "        [ 79.957, 181.001,  66.936,   0.   ,   4.89 ,   0.   ],\n",
       "        [ 73.504,  66.936, 226.02 ,   0.   ,  26.285,   0.   ],\n",
       "        [  0.   ,   0.   ,   0.   ,  72.688,   0.   ,   5.5  ],\n",
       "        [  4.19 ,   4.89 ,  26.285,   0.   ,  71.673,   0.   ],\n",
       "        [  0.   ,   0.   ,   0.   ,   5.5  ,   0.   ,  76.334]]),\n",
       " 3191.8911674262354)"
      ]
     },
     "execution_count": 21,
     "metadata": {},
     "output_type": "execute_result"
    }
   ],
   "source": [
    "material.modalRock(rock, fraction, 2, 1000)"
   ]
  },
  {
   "cell_type": "code",
   "execution_count": null,
   "id": "4d7f1b09-cd73-4aca-85ba-25e53fe04a4e",
   "metadata": {},
   "outputs": [],
   "source": []
  }
 ],
 "metadata": {
  "kernelspec": {
   "display_name": "Python 3 (ipykernel)",
   "language": "python",
   "name": "python3"
  },
  "language_info": {
   "codemirror_mode": {
    "name": "ipython",
    "version": 3
   },
   "file_extension": ".py",
   "mimetype": "text/x-python",
   "name": "python",
   "nbconvert_exporter": "python",
   "pygments_lexer": "ipython3",
   "version": "3.12.1"
  }
 },
 "nbformat": 4,
 "nbformat_minor": 5
}
