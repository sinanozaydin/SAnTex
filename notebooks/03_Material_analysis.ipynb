{
 "cells": [
  {
   "cell_type": "markdown",
   "id": "0087aec8-b11e-496a-a91b-5b4f925c1b7f",
   "metadata": {},
   "source": [
    "# Material Analysis"
   ]
  },
  {
   "cell_type": "markdown",
   "id": "d24bdb19-bb7d-4beb-af70-a37e77e74727",
   "metadata": {},
   "source": [
    "## Imports\n",
    "\n",
    "### NumPy\n",
    "- `import numpy as np`\n",
    "\n",
    "#### Description:\n",
    "NumPy is a powerful Python library for numerical computing. It provides support for multidimensional arrays, mathematical functions to operate on these arrays efficiently, and tools for working with arrays.\n",
    "\n",
    "### Tabulate\n",
    "- `from tabulate import tabulate`\n",
    "\n",
    "#### Description:\n",
    "Tabulate is a Python library used for creating formatted tables from data in Python. It simplifies the process of generating tables for display or output in various formats, including plain text, LaTeX, and HTML.\n",
    "\n",
    "### SAnTex Material\n",
    "- `from santex import Material`\n",
    "\n",
    "#### Description:\n",
    "The `Material` class from the Sage library is used for defining and working with materials calculations."
   ]
  },
  {
   "cell_type": "code",
   "execution_count": 1,
   "id": "8172c25a-9731-4ffc-b2ea-326ac270a614",
   "metadata": {},
   "outputs": [],
   "source": [
    "import numpy as np\n",
    "from tabulate import tabulate\n",
    "from santex import Material"
   ]
  },
  {
   "cell_type": "markdown",
   "id": "006b3310-6ed4-4bcf-8713-0b75c33155c4",
   "metadata": {},
   "source": [
    "## Function: `availablePhases`\n",
    "\n",
    "### Description:\n",
    "This function retrieves information about the available phases in the `Material` instance.\n",
    "\n",
    "### Returns:\n",
    "- `phases_info` (list): A list containing information about the available phases.\n",
    "\n",
    "### Usage Example:\n",
    "```python\n",
    "material_instance = Material()\n",
    "phases_info = material_instance.availablePhases()\n",
    "print(\"Available Phases:\")\n",
    "print(phases_info)\n"
   ]
  },
  {
   "cell_type": "code",
   "execution_count": 2,
   "id": "97e1a78a-2b4e-48f0-acd3-a70724066ab2",
   "metadata": {},
   "outputs": [
    {
     "name": "stdout",
     "output_type": "stream",
     "text": [
      "Available Phases:\n",
      "+---------------------------------------+---------------------+-----------------------------------+\n",
      "|                 Phase                 |   Crystal System    |           Primary Phase           |\n",
      "+---------------------------------------+---------------------+-----------------------------------+\n",
      "|           Almandine-pyrope            |        Cubic        |              Garnet               |\n",
      "|               Grossular               |        Cubic        |              Garnet               |\n",
      "|               Majorite                |        Cubic        |              Garnet               |\n",
      "|                Pyrope                 |        Cubic        |              Garnet               |\n",
      "|              a_quartz_1               | Hexagonal/ Trigonal |              Quartz               |\n",
      "|              a_quartz_2               | Hexagonal/ Trigonal |              Quartz               |\n",
      "|              a_Quartz_3               | Hexagonal/ Trigonal |              Quartz               |\n",
      "|              a_quartz_4               | Hexagonal/ Trigonal |              Quartz               |\n",
      "|             a_quartz_696C             | Hexagonal/ Trigonal |              Quartz               |\n",
      "|             a_quartz_700C             | Hexagonal/ Trigonal |              Quartz               |\n",
      "|               Calcite_1               | Hexagonal/ Trigonal |              Calcite              |\n",
      "|               Calcite_2               | Hexagonal/ Trigonal |              Calcite              |\n",
      "|              Forsterite               |    Orthorhombic     |              Olivine              |\n",
      "|               Fayalite                |    Orthorhombic     |              Olivine              |\n",
      "|               Lawsonite               |    Orthorhombic     |              Olivine              |\n",
      "|        Orthoenstatite (MgSiO3)        |    Orthorhombic     |              Olivine              |\n",
      "|        Orthoenstatite (MgSiO3)        |    Orthorhombic     |              Olivine              |\n",
      "|               Enstatite               |    Orthorhombic     |              Olivine              |\n",
      "|       Bronzite (Mg0.8Fe0.2SiO3)       |    Orthorhombic     |              Olivine              |\n",
      "|         Ferrosilite (FeSiO3)          |    Orthorhombic     |              Olivine              |\n",
      "|                Biotite                |     Monoclinic      | Phyllosilicates and clay minerals |\n",
      "|               Muscovite               |     Monoclinic      | Phyllosilicates and clay minerals |\n",
      "|              Phlogopite               |     Monoclinic      | Phyllosilicates and clay minerals |\n",
      "|            Illite-smectite            |     Monoclinic      | Phyllosilicates and clay minerals |\n",
      "|                Dickite                |     Monoclinic      | Phyllosilicates and clay minerals |\n",
      "|                Augite                 |     Monoclinic      |          Clinopyroxenes           |\n",
      "|               Diopside                |     Monoclinic      |          Clinopyroxenes           |\n",
      "|            Chrome-diopside            |     Monoclinic      |          Clinopyroxenes           |\n",
      "|                Jadeite                |     Monoclinic      |          Clinopyroxenes           |\n",
      "|               Omphacite               |     Monoclinic      |          Clinopyroxenes           |\n",
      "|                Coesite                |     Monoclinic      |          Clinopyroxenes           |\n",
      "|       Amphobole #1 Richterite1        |     Monoclinic      |             Amphibole             |\n",
      "|       Amphobole #2 Kataphorite1       |     Monoclinic      |             Amphibole             |\n",
      "|  Amphobole #3 Taramite-Tschermakite1  |     Monoclinic      |             Amphibole             |\n",
      "| Amphobole #4 Hornblende-Tschermakite1 |     Monoclinic      |             Amphibole             |\n",
      "|        Amphobole #5 Tremolite1        |     Monoclinic      |             Amphibole             |\n",
      "|         Amphobole #6 Edenite1         |     Monoclinic      |             Amphibole             |\n",
      "|         Amphobole #7 Edenite1         |     Monoclinic      |             Amphibole             |\n",
      "|        Amphobole #8 Pargasite1        |     Monoclinic      |             Amphibole             |\n",
      "|        Amphobole #9 Pargasite1        |     Monoclinic      |             Amphibole             |\n",
      "|            Hornblende (#1)            |     Monoclinic      |             Amphibole             |\n",
      "|            Hornblende (#2)            |     Monoclinic      |             Amphibole             |\n",
      "|              Glaucophane              |     Monoclinic      |             Amphibole             |\n",
      "|          Sanidine (Or83Ab15)          |     Monoclinic      |         Alkali feldspars          |\n",
      "|          Sanidine (Or89Ab11)          |     Monoclinic      |         Alkali feldspars          |\n",
      "|         Orthoclase (Or93Ab7)          |     Monoclinic      |         Alkali feldspars          |\n",
      "|           Albite (Or0Ab100)           |      Triclinic      |       Plagioclase feldspar        |\n",
      "|             An0 (Albite)              |      Triclinic      |       Plagioclase feldspar        |\n",
      "|           An25 (Oligoclase)           |      Triclinic      |       Plagioclase feldspar        |\n",
      "|            An37 (Andesine)            |      Triclinic      |       Plagioclase feldspar        |\n",
      "|            An48 (Andesine)            |      Triclinic      |       Plagioclase feldspar        |\n",
      "|          An60 (Labradorite)           |      Triclinic      |       Plagioclase feldspar        |\n",
      "|          An67 (Labradorite)           |      Triclinic      |       Plagioclase feldspar        |\n",
      "|           An78 (Bytownite)            |      Triclinic      |       Plagioclase feldspar        |\n",
      "|           An96 (Anorthite)            |      Triclinic      |       Plagioclase feldspar        |\n",
      "|               Kaolinite               |      Triclinic      |           Clay minerals           |\n",
      "|                Nacrite                |      Triclinic      |           Clay minerals           |\n",
      "+---------------------------------------+---------------------+-----------------------------------+\n"
     ]
    }
   ],
   "source": [
    "material_instance = Material()\n",
    "phases_info = material_instance.availablePhases()\n",
    "print(\"Available Phases:\")\n",
    "print(phases_info)"
   ]
  },
  {
   "cell_type": "markdown",
   "id": "79598322-d5a5-4b71-b05d-a372f5904954",
   "metadata": {},
   "source": [
    "## Function: `availablePrimaryPhases`\n",
    "\n",
    "### Description:\n",
    "This function retrieves information about the available primary phases in the `Material` instance.\n",
    "\n",
    "### Returns:\n",
    "- `primary_phases_info` (list): A list containing information about the available primary phases.\n",
    "\n",
    "### Usage Example:\n",
    "```python\n",
    "material_instance = Material()\n",
    "primary_phases_info = material_instance.availablePrimaryPhases()\n",
    "print(\"Available Primary Phases:\")\n",
    "print(primary_phases_info)\n"
   ]
  },
  {
   "cell_type": "code",
   "execution_count": 3,
   "id": "7952628e-54ed-485c-bb94-c6fcecfeebbd",
   "metadata": {},
   "outputs": [
    {
     "name": "stdout",
     "output_type": "stream",
     "text": [
      "Available Primary Phases:\n",
      "+-----------------------------------+------------------------------------------------------------------------------------------------------------------------------------------------+---------------------------------------------------------------------------------------------------------------------------------------------------------------------------------------------------------------------------------------------------------------------------------------------------------+\n",
      "|           Primary Phase           |                                                                Crystal Systems                                                                 |                                                                                                                                                 Phases                                                                                                                                                  |\n",
      "+-----------------------------------+------------------------------------------------------------------------------------------------------------------------------------------------+---------------------------------------------------------------------------------------------------------------------------------------------------------------------------------------------------------------------------------------------------------------------------------------------------------+\n",
      "|              Garnet               |                                                           Cubic, Cubic, Cubic, Cubic                                                           |                                                                                                                              Almandine-pyrope, Grossular, Majorite, Pyrope                                                                                                                              |\n",
      "|              Quartz               |          Hexagonal/ Trigonal, Hexagonal/ Trigonal, Hexagonal/ Trigonal, Hexagonal/ Trigonal, Hexagonal/ Trigonal, Hexagonal/ Trigonal          |                                                                                                              a_quartz_1, a_quartz_2, a_Quartz_3, a_quartz_4, a_quartz_696C, a_quartz_700C                                                                                                               |\n",
      "|              Calcite              |                                                    Hexagonal/ Trigonal, Hexagonal/ Trigonal                                                    |                                                                                                                                          Calcite_1, Calcite_2                                                                                                                                           |\n",
      "|              Olivine              |                 Orthorhombic, Orthorhombic, Orthorhombic, Orthorhombic, Orthorhombic, Orthorhombic, Orthorhombic, Orthorhombic                 |                                                                              Forsterite, Fayalite, Lawsonite, Orthoenstatite (MgSiO3), Orthoenstatite (MgSiO3), Enstatite, Bronzite (Mg0.8Fe0.2SiO3), Ferrosilite (FeSiO3)                                                                              |\n",
      "| Phyllosilicates and clay minerals |                                           Monoclinic, Monoclinic, Monoclinic, Monoclinic, Monoclinic                                           |                                                                                                                        Biotite, Muscovite, Phlogopite, Illite-smectite, Dickite                                                                                                                         |\n",
      "|          Clinopyroxenes           |                                     Monoclinic, Monoclinic, Monoclinic, Monoclinic, Monoclinic, Monoclinic                                     |                                                                                                                     Augite, Diopside, Chrome-diopside, Jadeite, Omphacite, Coesite                                                                                                                      |\n",
      "|             Amphibole             | Monoclinic, Monoclinic, Monoclinic, Monoclinic, Monoclinic, Monoclinic, Monoclinic, Monoclinic, Monoclinic, Monoclinic, Monoclinic, Monoclinic | Amphobole #1 Richterite1, Amphobole #2 Kataphorite1, Amphobole #3 Taramite-Tschermakite1, Amphobole #4 Hornblende-Tschermakite1, Amphobole #5 Tremolite1, Amphobole #6 Edenite1, Amphobole #7 Edenite1, Amphobole #8 Pargasite1, Amphobole #9 Pargasite1, Hornblende (#1), Hornblende (#2), Glaucophane |\n",
      "|         Alkali feldspars          |                                                       Monoclinic, Monoclinic, Monoclinic                                                       |                                                                                                                     Sanidine (Or83Ab15), Sanidine (Or89Ab11), Orthoclase (Or93Ab7)                                                                                                                      |\n",
      "|       Plagioclase feldspar        |                       Triclinic, Triclinic, Triclinic, Triclinic, Triclinic, Triclinic, Triclinic, Triclinic, Triclinic                        |                                                                    Albite (Or0Ab100), An0 (Albite), An25 (Oligoclase), An37 (Andesine), An48 (Andesine), An60 (Labradorite), An67 (Labradorite), An78 (Bytownite), An96 (Anorthite)                                                                     |\n",
      "|           Clay minerals           |                                                              Triclinic, Triclinic                                                              |                                                                                                                                           Kaolinite, Nacrite                                                                                                                                            |\n",
      "+-----------------------------------+------------------------------------------------------------------------------------------------------------------------------------------------+---------------------------------------------------------------------------------------------------------------------------------------------------------------------------------------------------------------------------------------------------------------------------------------------------------+\n",
      "\n"
     ]
    }
   ],
   "source": [
    "# availablePrimaryPhases\n",
    "primary_phases_info = material_instance.availablePrimaryPhases()\n",
    "print(\"Available Primary Phases:\")\n",
    "print(primary_phases_info)\n",
    "print()"
   ]
  },
  {
   "cell_type": "markdown",
   "id": "80615f9b-70fa-4c4c-a819-3272aa64c6f0",
   "metadata": {},
   "source": [
    "## Function: `availableCrystalSystems`\n",
    "\n",
    "### Description:\n",
    "This function retrieves information about the available crystal systems in the `Material` instance.\n",
    "\n",
    "### Returns:\n",
    "- `crystal_systems_info` (list): A list containing information about the available crystal systems.\n",
    "\n",
    "### Usage Example:\n",
    "```python\n",
    "material_instance = Material()\n",
    "crystal_systems_info = material_instance.availableCrystalSystems()\n",
    "print(\"Available Crystal Systems:\")\n",
    "print(crystal_systems_info)\n"
   ]
  },
  {
   "cell_type": "code",
   "execution_count": 4,
   "id": "a13e5415-b591-45b7-a634-ef9fd02eea29",
   "metadata": {},
   "outputs": [
    {
     "name": "stdout",
     "output_type": "stream",
     "text": [
      "Available Crystal Systems:\n",
      "+---------------------+---------------------------------------------------------------------------------------------------------------------------------------------------------------------------------------------------------------------------------------------------------------------------------------------------------------------------------------------------------------------------------------------------------------------------------------------------------------------------------------------------+\n",
      "|   Crystal System    |                                                                                                                                                                                                                                              Phases                                                                                                                                                                                                                                               |\n",
      "+---------------------+---------------------------------------------------------------------------------------------------------------------------------------------------------------------------------------------------------------------------------------------------------------------------------------------------------------------------------------------------------------------------------------------------------------------------------------------------------------------------------------------------+\n",
      "|      Triclinic      |                                                                                                                                                       Albite (Or0Ab100), An0 (Albite), An25 (Oligoclase), An37 (Andesine), An48 (Andesine), An60 (Labradorite), An67 (Labradorite), An78 (Bytownite), An96 (Anorthite), Kaolinite, Nacrite                                                                                                                                                        |\n",
      "|     Monoclinic      | Biotite, Muscovite, Phlogopite, Illite-smectite, Dickite, Augite, Diopside, Chrome-diopside, Jadeite, Omphacite, Coesite, Amphobole #1 Richterite1, Amphobole #2 Kataphorite1, Amphobole #3 Taramite-Tschermakite1, Amphobole #4 Hornblende-Tschermakite1, Amphobole #5 Tremolite1, Amphobole #6 Edenite1, Amphobole #7 Edenite1, Amphobole #8 Pargasite1, Amphobole #9 Pargasite1, Hornblende (#1), Hornblende (#2), Glaucophane, Sanidine (Or83Ab15), Sanidine (Or89Ab11), Orthoclase (Or93Ab7) |\n",
      "|        Cubic        |                                                                                                                                                                                                                           Almandine-pyrope, Grossular, Majorite, Pyrope                                                                                                                                                                                                                           |\n",
      "|    Orthorhombic     |                                                                                                                                                                           Forsterite, Fayalite, Lawsonite, Orthoenstatite (MgSiO3), Orthoenstatite (MgSiO3), Enstatite, Bronzite (Mg0.8Fe0.2SiO3), Ferrosilite (FeSiO3)                                                                                                                                                                           |\n",
      "| Hexagonal/ Trigonal |                                                                                                                                                                                                a_quartz_1, a_quartz_2, a_Quartz_3, a_quartz_4, a_quartz_696C, a_quartz_700C, Calcite_1, Calcite_2                                                                                                                                                                                                 |\n",
      "+---------------------+---------------------------------------------------------------------------------------------------------------------------------------------------------------------------------------------------------------------------------------------------------------------------------------------------------------------------------------------------------------------------------------------------------------------------------------------------------------------------------------------------+\n",
      "\n"
     ]
    }
   ],
   "source": [
    "# availableCrystalSystems\n",
    "crystal_systems_info = material_instance.availableCrystalSystems()\n",
    "print(\"Available Crystal Systems:\")\n",
    "print(crystal_systems_info)\n",
    "print()"
   ]
  },
  {
   "cell_type": "markdown",
   "id": "c858ba6a-0f6d-4e80-8686-f05eab457ec6",
   "metadata": {},
   "source": [
    "## Material Instance Operations\n",
    "\n",
    "### Description:\n",
    "This section demonstrates operations performed on a `Material` instance.\n",
    "\n",
    "### Usage Example:\n",
    "```python\n",
    "material_instance = Material()\n"
   ]
  },
  {
   "cell_type": "markdown",
   "id": "7e3f1f08-8820-4236-95dc-c499826f98aa",
   "metadata": {},
   "source": [
    "We first check the properties of Almandine-Pyrope by invoking method ```get_properties_by_phase()``` and then will get the voigt stiffness matrix at pressure = 3GPa and Temp = 1000K for Diopside by invoking ```voigthighPT()``` method of the Material class"
   ]
  },
  {
   "cell_type": "code",
   "execution_count": 5,
   "id": "d3542996-7975-44b9-9a12-5860193d980f",
   "metadata": {},
   "outputs": [
    {
     "name": "stdout",
     "output_type": "stream",
     "text": [
      "Material Properties for Almandine-pyrope:\n",
      "╒═════════════════════════╤═══════════════════════╕\n",
      "│ Property                │ Value                 │\n",
      "╞═════════════════════════╪═══════════════════════╡\n",
      "│ Crystal System          │ Cubic                 │\n",
      "├─────────────────────────┼───────────────────────┤\n",
      "│ Primary Phase           │ Garnet                │\n",
      "├─────────────────────────┼───────────────────────┤\n",
      "│ Phase                   │ Almandine-pyrope      │\n",
      "├─────────────────────────┼───────────────────────┤\n",
      "│ Density(g/cm3)          │ 4.131                 │\n",
      "├─────────────────────────┼───────────────────────┤\n",
      "│ C11                     │ 306.7                 │\n",
      "├─────────────────────────┼───────────────────────┤\n",
      "│ C22                     │ 306.7                 │\n",
      "├─────────────────────────┼───────────────────────┤\n",
      "│ C33                     │ 306.7                 │\n",
      "├─────────────────────────┼───────────────────────┤\n",
      "│ C44                     │ 94.9                  │\n",
      "├─────────────────────────┼───────────────────────┤\n",
      "│ C55                     │ 94.9                  │\n",
      "├─────────────────────────┼───────────────────────┤\n",
      "│ C66                     │ 94.9                  │\n",
      "├─────────────────────────┼───────────────────────┤\n",
      "│ C12                     │ 106.7                 │\n",
      "├─────────────────────────┼───────────────────────┤\n",
      "│ C13                     │ 111.9                 │\n",
      "├─────────────────────────┼───────────────────────┤\n",
      "│ C23                     │ 111.9                 │\n",
      "├─────────────────────────┼───────────────────────┤\n",
      "│ C15                     │ 0                     │\n",
      "├─────────────────────────┼───────────────────────┤\n",
      "│ C25                     │ 0                     │\n",
      "├─────────────────────────┼───────────────────────┤\n",
      "│ C35                     │ 0                     │\n",
      "├─────────────────────────┼───────────────────────┤\n",
      "│ C46                     │ 0                     │\n",
      "├─────────────────────────┼───────────────────────┤\n",
      "│ C14                     │ 0                     │\n",
      "├─────────────────────────┼───────────────────────┤\n",
      "│ C16                     │ 0                     │\n",
      "├─────────────────────────┼───────────────────────┤\n",
      "│ C24                     │ 0                     │\n",
      "├─────────────────────────┼───────────────────────┤\n",
      "│ C26                     │ 0                     │\n",
      "├─────────────────────────┼───────────────────────┤\n",
      "│ C34                     │ 0                     │\n",
      "├─────────────────────────┼───────────────────────┤\n",
      "│ C36                     │ 0                     │\n",
      "├─────────────────────────┼───────────────────────┤\n",
      "│ C45                     │ 0                     │\n",
      "├─────────────────────────┼───────────────────────┤\n",
      "│ C56                     │ 0                     │\n",
      "├─────────────────────────┼───────────────────────┤\n",
      "│ Crystal Reference Frame │ X||a Y||b Z||c        │\n",
      "├─────────────────────────┼───────────────────────┤\n",
      "│ Study                   │ Babuska et al. [1978] │\n",
      "╘═════════════════════════╧═══════════════════════╛\n",
      "\n",
      "\n",
      "Voigt matrix for Diopside:\n",
      "+-------+-------+-------+------+------+------+\n",
      "| 237.8 | 83.5  | 80.0  | 0.0  | 9.0  | 0.0  |\n",
      "| 83.5  | 183.6 | 59.9  | 0.0  | 9.5  | 0.0  |\n",
      "| 80.0  | 59.9  | 229.5 | 0.0  | 48.1 | 0.0  |\n",
      "|  0.0  |  0.0  |  0.0  | 76.5 | 0.0  | 8.4  |\n",
      "|  9.0  |  9.5  | 48.1  | 0.0  | 73.0 | 0.0  |\n",
      "|  0.0  |  0.0  |  0.0  | 8.4  | 0.0  | 81.6 |\n",
      "+-------+-------+-------+------+------+------+\n",
      "Voigt matrix for Diopside:\n",
      "+--------------------+--------------------+--------+-------+-------------------+-------+\n",
      "| 239.17000000000002 |       89.22        | 85.69  |  0.0  |       7.65        |  0.0  |\n",
      "|       89.22        | 186.14999999999998 | 65.15  |  0.0  | 9.569999999999999 |  0.0  |\n",
      "|       85.69        |       65.15        | 232.06 |  0.0  |       54.07       |  0.0  |\n",
      "|        0.0         |        0.0         |  0.0   | 75.25 |        0.0        | 10.83 |\n",
      "|        7.65        | 9.569999999999999  | 54.07  |  0.0  | 71.36999999999999 |  0.0  |\n",
      "|        0.0         |        0.0         |  0.0   | 10.83 |        0.0        | 80.81 |\n",
      "+--------------------+--------------------+--------+-------+-------------------+-------+\n"
     ]
    }
   ],
   "source": [
    "material_instance = Material()\n",
    "\n",
    "# Get properties for 'Almandine-pyrope'\n",
    "almandine_properties = material_instance.get_properties_by_phase('Almandine-pyrope')\n",
    "print(\"Material Properties for Almandine-pyrope:\")\n",
    "print(tabulate(almandine_properties.items(), headers=[\"Property\", \"Value\"], tablefmt=\"fancy_grid\"))\n",
    "print(\"\\n\")\n",
    "\n",
    "# Get voigt matrix for 'Amphobole #3 Taramite-Tschermakite1'\n",
    "non_isotropic_phase = 'Diopside'\n",
    "non_isotropic_voigt_matrix = material_instance.get_voigt_matrix(non_isotropic_phase)\n",
    "print(f'Voigt matrix for {non_isotropic_phase}:')\n",
    "print(tabulate(non_isotropic_voigt_matrix, tablefmt=\"pretty\"))\n",
    "\n",
    "non_isotropic_phase = 'Diopside'\n",
    "non_isotropic_voigt_matrix = material_instance.voigthighPT(non_isotropic_phase, 3, 1000)\n",
    "print(f'Voigt matrix for {non_isotropic_phase}:')\n",
    "print(tabulate(non_isotropic_voigt_matrix, tablefmt=\"pretty\"))"
   ]
  },
  {
   "cell_type": "code",
   "execution_count": 6,
   "id": "e973ec42-55f4-4462-b18d-9b86979dbd64",
   "metadata": {},
   "outputs": [
    {
     "data": {
      "text/plain": [
       "array([[239.17,  89.22,  85.69,   0.  ,   7.65,   0.  ],\n",
       "       [ 89.22, 186.15,  65.15,   0.  ,   9.57,   0.  ],\n",
       "       [ 85.69,  65.15, 232.06,   0.  ,  54.07,   0.  ],\n",
       "       [  0.  ,   0.  ,   0.  ,  75.25,   0.  ,  10.83],\n",
       "       [  7.65,   9.57,  54.07,   0.  ,  71.37,   0.  ],\n",
       "       [  0.  ,   0.  ,   0.  ,  10.83,   0.  ,  80.81]])"
      ]
     },
     "execution_count": 6,
     "metadata": {},
     "output_type": "execute_result"
    }
   ],
   "source": [
    "non_isotropic_voigt_matrix"
   ]
  },
  {
   "cell_type": "markdown",
   "id": "6aa11dba-b611-4bf2-ba17-f87a317cf660",
   "metadata": {},
   "source": [
    "## Get voigt matrix for forsterite"
   ]
  },
  {
   "cell_type": "markdown",
   "id": "9ced16f9-aca5-448a-99a6-ffead7fd05b2",
   "metadata": {},
   "source": [
    "Lets now look at the voigt matrix that is obtained from the catalogue for phase Forsterite"
   ]
  },
  {
   "cell_type": "code",
   "execution_count": 7,
   "id": "389722bf-bf35-4159-b107-c4eacbc99737",
   "metadata": {},
   "outputs": [
    {
     "data": {
      "text/plain": [
       "array([[320.5,  68.1,  71.6,   0. ,   0. ,   0. ],\n",
       "       [ 68.1, 196.5,  76.8,   0. ,   0. ,   0. ],\n",
       "       [ 71.6,  76.8, 233.5,   0. ,   0. ,   0. ],\n",
       "       [  0. ,   0. ,   0. ,  64. ,   0. ,   0. ],\n",
       "       [  0. ,   0. ,   0. ,   0. ,  77. ,   0. ],\n",
       "       [  0. ,   0. ,   0. ,   0. ,   0. ,  78.7]])"
      ]
     },
     "execution_count": 7,
     "metadata": {},
     "output_type": "execute_result"
    }
   ],
   "source": [
    "material = Material()\n",
    "material.get_voigt_matrix(\"Forsterite\")"
   ]
  },
  {
   "cell_type": "markdown",
   "id": "3cdcaf13-4a3d-4647-9df8-b91dbe062074",
   "metadata": {},
   "source": [
    "## Get voigt matrix and density for for diopside, enstatite, forsterite at high p and t"
   ]
  },
  {
   "cell_type": "markdown",
   "id": "dc76692a-638d-4e32-b609-d535dfa61e4b",
   "metadata": {},
   "source": [
    "Lets load the stiffness tensors and density at any different P and T"
   ]
  },
  {
   "cell_type": "code",
   "execution_count": 9,
   "id": "95981dff-1af6-454d-86b3-e591c6cb236a",
   "metadata": {},
   "outputs": [
    {
     "data": {
      "text/plain": [
       "array([[297.72,  64.96,  71.44,   0.  ,   0.  ,   0.  ],\n",
       "       [ 64.96, 175.9 ,  79.5 ,   0.  ,   0.  ,   0.  ],\n",
       "       [ 71.44,  79.5 , 211.92,   0.  ,   0.  ,   0.  ],\n",
       "       [  0.  ,   0.  ,   0.  ,  52.88,   0.  ,   0.  ],\n",
       "       [  0.  ,   0.  ,   0.  ,   0.  ,  64.72,   0.  ],\n",
       "       [  0.  ,   0.  ,   0.  ,   0.  ,   0.  ,  65.32]])"
      ]
     },
     "execution_count": 9,
     "metadata": {},
     "output_type": "execute_result"
    }
   ],
   "source": [
    "material.voigthighPT('Forsterite', PRESSURE = 2, TEMP = 1500)"
   ]
  },
  {
   "cell_type": "code",
   "execution_count": 10,
   "id": "b56f6bd0-4121-4034-a7e3-69c5336d1f7a",
   "metadata": {},
   "outputs": [
    {
     "data": {
      "text/plain": [
       "array([[227.78,  75.07,  52.31,   0.  ,   0.  ,   0.  ],\n",
       "       [ 75.07, 168.71,  70.15,   0.  ,   0.  ,   0.  ],\n",
       "       [ 52.31,  70.15, 217.74,   0.  ,   0.  ,   0.  ],\n",
       "       [  0.  ,   0.  ,   0.  ,  75.72,   0.  ,   0.  ],\n",
       "       [  0.  ,   0.  ,   0.  ,   0.  ,  71.6 ,   0.  ],\n",
       "       [  0.  ,   0.  ,   0.  ,   0.  ,   0.  ,  70.95]])"
      ]
     },
     "execution_count": 10,
     "metadata": {},
     "output_type": "execute_result"
    }
   ],
   "source": [
    "material.voigthighPT('Enstatite', PRESSURE = 3, TEMP = 1500)"
   ]
  },
  {
   "cell_type": "code",
   "execution_count": 11,
   "id": "2cc9d305-b6eb-49ba-afa0-c73d8820eb39",
   "metadata": {},
   "outputs": [
    {
     "data": {
      "text/plain": [
       "array([[225.77,  83.47,  80.39,   0.  ,   8.25,   0.  ],\n",
       "       [ 83.47, 175.8 ,  60.2 ,   0.  ,  10.07,   0.  ],\n",
       "       [ 80.39,  60.2 , 219.36,   0.  ,  55.12,   0.  ],\n",
       "       [  0.  ,   0.  ,   0.  ,  71.1 ,   0.  ,  12.93],\n",
       "       [  8.25,  10.07,  55.12,   0.  ,  66.22,   0.  ],\n",
       "       [  0.  ,   0.  ,   0.  ,  12.93,   0.  ,  74.76]])"
      ]
     },
     "execution_count": 11,
     "metadata": {},
     "output_type": "execute_result"
    }
   ],
   "source": [
    "material.voigthighPT('Diopside', PRESSURE = 3, TEMP = 1500)"
   ]
  },
  {
   "cell_type": "markdown",
   "id": "d611e88b-7a28-4ac9-934d-288e85c55c8c",
   "metadata": {},
   "source": [
    "Lets load density of Forsterite at ambient pressure and temperature"
   ]
  },
  {
   "cell_type": "code",
   "execution_count": 12,
   "id": "ce23a285-da41-4dba-8005-e30aa2cf29ed",
   "metadata": {},
   "outputs": [
    {
     "data": {
      "text/plain": [
       "3355.0"
      ]
     },
     "execution_count": 12,
     "metadata": {},
     "output_type": "execute_result"
    }
   ],
   "source": [
    "material.load_density(\"Forsterite\")"
   ]
  },
  {
   "cell_type": "markdown",
   "id": "01450f6f-5f16-4665-b8b7-f7e9e374bb9b",
   "metadata": {},
   "source": [
    "Lets now look at the density of the Forsterite at Pressure = 2GPa and Temperature = 1500K"
   ]
  },
  {
   "cell_type": "code",
   "execution_count": 13,
   "id": "de340620-4dc8-45c3-b95c-797d50fbea0c",
   "metadata": {},
   "outputs": [
    {
     "data": {
      "text/plain": [
       "3098.6089636963993"
      ]
     },
     "execution_count": 13,
     "metadata": {},
     "output_type": "execute_result"
    }
   ],
   "source": [
    "material_instance.load_density(\"Forsterite\", 2, 1500)"
   ]
  },
  {
   "cell_type": "markdown",
   "id": "48bc4b2c-9927-485e-95e4-851a5817725d",
   "metadata": {},
   "source": [
    "Lets now look at the density of the Diopside at Pressure = 2GPa and Temperature = 1500K"
   ]
  },
  {
   "cell_type": "code",
   "execution_count": 14,
   "id": "c56b15d4-1b80-4c3e-a749-d4de62028c3d",
   "metadata": {},
   "outputs": [
    {
     "data": {
      "text/plain": [
       "3156.5123590988196"
      ]
     },
     "execution_count": 14,
     "metadata": {},
     "output_type": "execute_result"
    }
   ],
   "source": [
    "material_instance.load_density(\"Diopside\", 2, 1500)"
   ]
  },
  {
   "cell_type": "markdown",
   "id": "bb96b688-b1e3-44f2-b6b5-4ef90769efa0",
   "metadata": {},
   "source": [
    "Lets now look at the density of the Enstatite at Pressure = 2GPa and Temperature = 1500K"
   ]
  },
  {
   "cell_type": "code",
   "execution_count": 15,
   "id": "37c77d02-3651-4fd9-aa7e-522e3aca5add",
   "metadata": {},
   "outputs": [
    {
     "data": {
      "text/plain": [
       "3167.7389007248685"
      ]
     },
     "execution_count": 15,
     "metadata": {},
     "output_type": "execute_result"
    }
   ],
   "source": [
    "material_instance.load_density(\"Enstatite\", 2, 1000)"
   ]
  },
  {
   "cell_type": "code",
   "execution_count": null,
   "id": "d90cd489-d1fa-4bdc-9816-edb6cf5a0f83",
   "metadata": {},
   "outputs": [],
   "source": []
  },
  {
   "cell_type": "code",
   "execution_count": null,
   "id": "1cbd1b0c-e7dd-4a5d-8d09-e9aa73993640",
   "metadata": {},
   "outputs": [],
   "source": []
  }
 ],
 "metadata": {
  "kernelspec": {
   "display_name": "Python 3 (ipykernel)",
   "language": "python",
   "name": "python3"
  },
  "language_info": {
   "codemirror_mode": {
    "name": "ipython",
    "version": 3
   },
   "file_extension": ".py",
   "mimetype": "text/x-python",
   "name": "python",
   "nbconvert_exporter": "python",
   "pygments_lexer": "ipython3",
   "version": "3.12.1"
  }
 },
 "nbformat": 4,
 "nbformat_minor": 5
}
