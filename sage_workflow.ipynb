{
 "cells": [
  {
   "cell_type": "code",
   "execution_count": 2,
   "id": "b8ed021a-aa67-440d-a5e2-5afc245969d1",
   "metadata": {},
   "outputs": [],
   "source": [
    "import numpy as np\n",
    "from tabulate import tabulate\n",
    "from sage import Material"
   ]
  },
  {
   "cell_type": "code",
   "execution_count": 3,
   "id": "6dce02ef-4348-4bb7-a961-4437c8c5c0b4",
   "metadata": {},
   "outputs": [
    {
     "name": "stdout",
     "output_type": "stream",
     "text": [
      "Available Phases:\n",
      "+---------------------------------------+---------------------+-----------------------------------+\n",
      "|                 Phase                 |   Crystal System    |           Primary Phase           |\n",
      "+---------------------------------------+---------------------+-----------------------------------+\n",
      "|           Almandine-pyrope            |        Cubic        |              Garnet               |\n",
      "|               Grossular               |        Cubic        |              Garnet               |\n",
      "|               Majorite                |        Cubic        |              Garnet               |\n",
      "|                Pyrope                 |        Cubic        |              Garnet               |\n",
      "|              a_quartz_1               | Hexagonal/ Trigonal |              Quartz               |\n",
      "|              a_quartz_2               | Hexagonal/ Trigonal |              Quartz               |\n",
      "|              a_Quartz_3               | Hexagonal/ Trigonal |              Quartz               |\n",
      "|              a_quartz_4               | Hexagonal/ Trigonal |              Quartz               |\n",
      "|             a_quartz_696C             | Hexagonal/ Trigonal |              Quartz               |\n",
      "|             a_quartz_700C             | Hexagonal/ Trigonal |              Quartz               |\n",
      "|               Calcite_1               | Hexagonal/ Trigonal |              Calcite              |\n",
      "|               Calcite_2               | Hexagonal/ Trigonal |              Calcite              |\n",
      "|        Forsterite (San Carlos)        |    Orthorhombic     |              Olivine              |\n",
      "|           Fayalite (0.3GPa)           |    Orthorhombic     |              Olivine              |\n",
      "|               Lawsonite               |    Orthorhombic     |              Olivine              |\n",
      "|        Orthoenstatite (MgSiO3)        |    Orthorhombic     |              Olivine              |\n",
      "|        Orthoenstatite (MgSiO3)        |    Orthorhombic     |              Olivine              |\n",
      "|               Enstatite               |    Orthorhombic     |              Olivine              |\n",
      "|       Bronzite (Mg0.8Fe0.2SiO3)       |    Orthorhombic     |              Olivine              |\n",
      "|         Ferrosilite (FeSiO3)          |    Orthorhombic     |              Olivine              |\n",
      "|                Biotite                |     Monoclinic      | Phyllosilicates and clay minerals |\n",
      "|               Muscovite               |     Monoclinic      | Phyllosilicates and clay minerals |\n",
      "|              Phlogopite               |     Monoclinic      | Phyllosilicates and clay minerals |\n",
      "|            Illite-smectite            |     Monoclinic      | Phyllosilicates and clay minerals |\n",
      "|                Dickite                |     Monoclinic      | Phyllosilicates and clay minerals |\n",
      "|                Augite                 |     Monoclinic      |          Clinopyroxenes           |\n",
      "|     Diopside (Di72He9Jd3Cr3Ts12)      |     Monoclinic      |          Clinopyroxenes           |\n",
      "|            Chrome-diopside            |     Monoclinic      |          Clinopyroxenes           |\n",
      "|                Jadeite                |     Monoclinic      |          Clinopyroxenes           |\n",
      "|               Omphacite               |     Monoclinic      |          Clinopyroxenes           |\n",
      "|                Coesite                |     Monoclinic      |          Clinopyroxenes           |\n",
      "|       Amphobole #1 Richterite1        |     Monoclinic      |             Amphibole             |\n",
      "|       Amphobole #2 Kataphorite1       |     Monoclinic      |             Amphibole             |\n",
      "|  Amphobole #3 Taramite-Tschermakite1  |     Monoclinic      |             Amphibole             |\n",
      "| Amphobole #4 Hornblende-Tschermakite1 |     Monoclinic      |             Amphibole             |\n",
      "|        Amphobole #5 Tremolite1        |     Monoclinic      |             Amphibole             |\n",
      "|         Amphobole #6 Edenite1         |     Monoclinic      |             Amphibole             |\n",
      "|         Amphobole #7 Edenite1         |     Monoclinic      |             Amphibole             |\n",
      "|        Amphobole #8 Pargasite1        |     Monoclinic      |             Amphibole             |\n",
      "|        Amphobole #9 Pargasite1        |     Monoclinic      |             Amphibole             |\n",
      "|            Hornblende (#1)            |     Monoclinic      |             Amphibole             |\n",
      "|            Hornblende (#2)            |     Monoclinic      |             Amphibole             |\n",
      "|              Glaucophane              |     Monoclinic      |             Amphibole             |\n",
      "|          Sanidine (Or83Ab15)          |     Monoclinic      |         Alkali feldspars          |\n",
      "|          Sanidine (Or89Ab11)          |     Monoclinic      |         Alkali feldspars          |\n",
      "|         Orthoclase (Or93Ab7)          |     Monoclinic      |         Alkali feldspars          |\n",
      "|           Albite (Or0Ab100)           |      Triclinic      |       Plagioclase feldspar        |\n",
      "|             An0 (Albite)              |      Triclinic      |       Plagioclase feldspar        |\n",
      "|           An25 (Oligoclase)           |      Triclinic      |       Plagioclase feldspar        |\n",
      "|            An37 (Andesine)            |      Triclinic      |       Plagioclase feldspar        |\n",
      "|            An48 (Andesine)            |      Triclinic      |       Plagioclase feldspar        |\n",
      "|          An60 (Labradorite)           |      Triclinic      |       Plagioclase feldspar        |\n",
      "|          An67 (Labradorite)           |      Triclinic      |       Plagioclase feldspar        |\n",
      "|           An78 (Bytownite)            |      Triclinic      |       Plagioclase feldspar        |\n",
      "|           An96 (Anorthite)            |      Triclinic      |       Plagioclase feldspar        |\n",
      "|               Kaolinite               |      Triclinic      |           Clay minerals           |\n",
      "|                Nacrite                |      Triclinic      |           Clay minerals           |\n",
      "+---------------------------------------+---------------------+-----------------------------------+\n"
     ]
    }
   ],
   "source": [
    "import numpy as np\n",
    "from tabulate import tabulate\n",
    "from sage import Material\n",
    "material_instance = Material()\n",
    "phases_info = material_instance.availablePhases()\n",
    "print(\"Available Phases:\")\n",
    "print(phases_info)"
   ]
  },
  {
   "cell_type": "code",
   "execution_count": 4,
   "id": "0d062b05-653b-4d41-a36e-4dc805a3311b",
   "metadata": {},
   "outputs": [
    {
     "name": "stdout",
     "output_type": "stream",
     "text": [
      "Available Primary Phases:\n",
      "+-----------------------------------+------------------------------------------------------------------------------------------------------------------------------------------------+---------------------------------------------------------------------------------------------------------------------------------------------------------------------------------------------------------------------------------------------------------------------------------------------------------+\n",
      "|           Primary Phase           |                                                                Crystal Systems                                                                 |                                                                                                                                                 Phases                                                                                                                                                  |\n",
      "+-----------------------------------+------------------------------------------------------------------------------------------------------------------------------------------------+---------------------------------------------------------------------------------------------------------------------------------------------------------------------------------------------------------------------------------------------------------------------------------------------------------+\n",
      "|              Garnet               |                                                           Cubic, Cubic, Cubic, Cubic                                                           |                                                                                                                              Almandine-pyrope, Grossular, Majorite, Pyrope                                                                                                                              |\n",
      "|              Quartz               |          Hexagonal/ Trigonal, Hexagonal/ Trigonal, Hexagonal/ Trigonal, Hexagonal/ Trigonal, Hexagonal/ Trigonal, Hexagonal/ Trigonal          |                                                                                                              a_quartz_1, a_quartz_2, a_Quartz_3, a_quartz_4, a_quartz_696C, a_quartz_700C                                                                                                               |\n",
      "|              Calcite              |                                                    Hexagonal/ Trigonal, Hexagonal/ Trigonal                                                    |                                                                                                                                          Calcite_1, Calcite_2                                                                                                                                           |\n",
      "|              Olivine              |                 Orthorhombic, Orthorhombic, Orthorhombic, Orthorhombic, Orthorhombic, Orthorhombic, Orthorhombic, Orthorhombic                 |                                                                   Forsterite (San Carlos), Fayalite (0.3GPa), Lawsonite, Orthoenstatite (MgSiO3), Orthoenstatite (MgSiO3), Enstatite, Bronzite (Mg0.8Fe0.2SiO3), Ferrosilite (FeSiO3)                                                                   |\n",
      "| Phyllosilicates and clay minerals |                                           Monoclinic, Monoclinic, Monoclinic, Monoclinic, Monoclinic                                           |                                                                                                                        Biotite, Muscovite, Phlogopite, Illite-smectite, Dickite                                                                                                                         |\n",
      "|          Clinopyroxenes           |                                     Monoclinic, Monoclinic, Monoclinic, Monoclinic, Monoclinic, Monoclinic                                     |                                                                                                           Augite, Diopside (Di72He9Jd3Cr3Ts12), Chrome-diopside, Jadeite, Omphacite, Coesite                                                                                                            |\n",
      "|             Amphibole             | Monoclinic, Monoclinic, Monoclinic, Monoclinic, Monoclinic, Monoclinic, Monoclinic, Monoclinic, Monoclinic, Monoclinic, Monoclinic, Monoclinic | Amphobole #1 Richterite1, Amphobole #2 Kataphorite1, Amphobole #3 Taramite-Tschermakite1, Amphobole #4 Hornblende-Tschermakite1, Amphobole #5 Tremolite1, Amphobole #6 Edenite1, Amphobole #7 Edenite1, Amphobole #8 Pargasite1, Amphobole #9 Pargasite1, Hornblende (#1), Hornblende (#2), Glaucophane |\n",
      "|         Alkali feldspars          |                                                       Monoclinic, Monoclinic, Monoclinic                                                       |                                                                                                                     Sanidine (Or83Ab15), Sanidine (Or89Ab11), Orthoclase (Or93Ab7)                                                                                                                      |\n",
      "|       Plagioclase feldspar        |                       Triclinic, Triclinic, Triclinic, Triclinic, Triclinic, Triclinic, Triclinic, Triclinic, Triclinic                        |                                                                    Albite (Or0Ab100), An0 (Albite), An25 (Oligoclase), An37 (Andesine), An48 (Andesine), An60 (Labradorite), An67 (Labradorite), An78 (Bytownite), An96 (Anorthite)                                                                     |\n",
      "|           Clay minerals           |                                                              Triclinic, Triclinic                                                              |                                                                                                                                           Kaolinite, Nacrite                                                                                                                                            |\n",
      "+-----------------------------------+------------------------------------------------------------------------------------------------------------------------------------------------+---------------------------------------------------------------------------------------------------------------------------------------------------------------------------------------------------------------------------------------------------------------------------------------------------------+\n",
      "\n"
     ]
    }
   ],
   "source": [
    "# availablePrimaryPhases\n",
    "primary_phases_info = material_instance.availablePrimaryPhases()\n",
    "print(\"Available Primary Phases:\")\n",
    "print(primary_phases_info)\n",
    "print()"
   ]
  },
  {
   "cell_type": "code",
   "execution_count": 6,
   "id": "4e3e0158-17af-4ad8-ad84-453e82a1223f",
   "metadata": {},
   "outputs": [
    {
     "name": "stdout",
     "output_type": "stream",
     "text": [
      "Available Crystal Systems:\n",
      "+---------------------+-----------------------------------------------------------------------------------------------------------------------------------------------------------------------------------------------------------------------------------------------------------------------------------------------------------------------------------------------------------------------------------------------------------------------------------------------------------------------------------------------------------------------+\n",
      "|   Crystal System    |                                                                                                                                                                                                                                                        Phases                                                                                                                                                                                                                                                         |\n",
      "+---------------------+-----------------------------------------------------------------------------------------------------------------------------------------------------------------------------------------------------------------------------------------------------------------------------------------------------------------------------------------------------------------------------------------------------------------------------------------------------------------------------------------------------------------------+\n",
      "| Hexagonal/ Trigonal |                                                                                                                                                                                                          a_quartz_1, a_quartz_2, a_Quartz_3, a_quartz_4, a_quartz_696C, a_quartz_700C, Calcite_1, Calcite_2                                                                                                                                                                                                           |\n",
      "|        Cubic        |                                                                                                                                                                                                                                     Almandine-pyrope, Grossular, Majorite, Pyrope                                                                                                                                                                                                                                     |\n",
      "|      Triclinic      |                                                                                                                                                                 Albite (Or0Ab100), An0 (Albite), An25 (Oligoclase), An37 (Andesine), An48 (Andesine), An60 (Labradorite), An67 (Labradorite), An78 (Bytownite), An96 (Anorthite), Kaolinite, Nacrite                                                                                                                                                                  |\n",
      "|    Orthorhombic     |                                                                                                                                                                          Forsterite (San Carlos), Fayalite (0.3GPa), Lawsonite, Orthoenstatite (MgSiO3), Orthoenstatite (MgSiO3), Enstatite, Bronzite (Mg0.8Fe0.2SiO3), Ferrosilite (FeSiO3)                                                                                                                                                                          |\n",
      "|     Monoclinic      | Biotite, Muscovite, Phlogopite, Illite-smectite, Dickite, Augite, Diopside (Di72He9Jd3Cr3Ts12), Chrome-diopside, Jadeite, Omphacite, Coesite, Amphobole #1 Richterite1, Amphobole #2 Kataphorite1, Amphobole #3 Taramite-Tschermakite1, Amphobole #4 Hornblende-Tschermakite1, Amphobole #5 Tremolite1, Amphobole #6 Edenite1, Amphobole #7 Edenite1, Amphobole #8 Pargasite1, Amphobole #9 Pargasite1, Hornblende (#1), Hornblende (#2), Glaucophane, Sanidine (Or83Ab15), Sanidine (Or89Ab11), Orthoclase (Or93Ab7) |\n",
      "+---------------------+-----------------------------------------------------------------------------------------------------------------------------------------------------------------------------------------------------------------------------------------------------------------------------------------------------------------------------------------------------------------------------------------------------------------------------------------------------------------------------------------------------------------------+\n",
      "\n"
     ]
    }
   ],
   "source": [
    "# availableCrystalSystems\n",
    "crystal_systems_info = material_instance.availableCrystalSystems()\n",
    "print(\"Available Crystal Systems:\")\n",
    "print(crystal_systems_info)\n",
    "print()"
   ]
  },
  {
   "cell_type": "code",
   "execution_count": 8,
   "id": "16bc4716-dbd0-4866-a808-d9e413a033a7",
   "metadata": {},
   "outputs": [
    {
     "name": "stdout",
     "output_type": "stream",
     "text": [
      "Material Properties for Almandine-pyrope:\n",
      "╒═════════════════════════╤═══════════════════════╕\n",
      "│ Property                │ Value                 │\n",
      "╞═════════════════════════╪═══════════════════════╡\n",
      "│ Crystal System          │ Cubic                 │\n",
      "├─────────────────────────┼───────────────────────┤\n",
      "│ Primary Phase           │ Garnet                │\n",
      "├─────────────────────────┼───────────────────────┤\n",
      "│ Phase                   │ Almandine-pyrope      │\n",
      "├─────────────────────────┼───────────────────────┤\n",
      "│ Density(g/cm3)          │ 4.131                 │\n",
      "├─────────────────────────┼───────────────────────┤\n",
      "│ C11                     │ 306.7                 │\n",
      "├─────────────────────────┼───────────────────────┤\n",
      "│ C22                     │ 306.7                 │\n",
      "├─────────────────────────┼───────────────────────┤\n",
      "│ C33                     │ 306.7                 │\n",
      "├─────────────────────────┼───────────────────────┤\n",
      "│ C44                     │ 94.9                  │\n",
      "├─────────────────────────┼───────────────────────┤\n",
      "│ C55                     │ 94.9                  │\n",
      "├─────────────────────────┼───────────────────────┤\n",
      "│ C66                     │ 94.9                  │\n",
      "├─────────────────────────┼───────────────────────┤\n",
      "│ C12                     │ 106.7                 │\n",
      "├─────────────────────────┼───────────────────────┤\n",
      "│ C13                     │ 111.9                 │\n",
      "├─────────────────────────┼───────────────────────┤\n",
      "│ C23                     │ 111.9                 │\n",
      "├─────────────────────────┼───────────────────────┤\n",
      "│ C15                     │ 0                     │\n",
      "├─────────────────────────┼───────────────────────┤\n",
      "│ C25                     │ 0                     │\n",
      "├─────────────────────────┼───────────────────────┤\n",
      "│ C35                     │ 0                     │\n",
      "├─────────────────────────┼───────────────────────┤\n",
      "│ C46                     │ 0                     │\n",
      "├─────────────────────────┼───────────────────────┤\n",
      "│ C14                     │ 0                     │\n",
      "├─────────────────────────┼───────────────────────┤\n",
      "│ C16                     │ 0                     │\n",
      "├─────────────────────────┼───────────────────────┤\n",
      "│ C24                     │ 0                     │\n",
      "├─────────────────────────┼───────────────────────┤\n",
      "│ C26                     │ 0                     │\n",
      "├─────────────────────────┼───────────────────────┤\n",
      "│ C34                     │ 0                     │\n",
      "├─────────────────────────┼───────────────────────┤\n",
      "│ C36                     │ 0                     │\n",
      "├─────────────────────────┼───────────────────────┤\n",
      "│ C45                     │ 0                     │\n",
      "├─────────────────────────┼───────────────────────┤\n",
      "│ C56                     │ 0                     │\n",
      "├─────────────────────────┼───────────────────────┤\n",
      "│ Crystal Reference Frame │ X||a Y||b Z||c        │\n",
      "├─────────────────────────┼───────────────────────┤\n",
      "│ Study                   │ Babuska et al. [1978] │\n",
      "╘═════════════════════════╧═══════════════════════╛\n",
      "\n",
      "\n",
      "Voigt matrix for Amphobole #3 Taramite-Tschermakite1:\n",
      "+-------+-------+-------+------+-------+------+\n",
      "| 133.6 | 101.8 | 86.2  | 0.0  | -1.6  | 0.0  |\n",
      "| 101.8 | 193.4 | 116.6 | 0.0  | -21.6 | 0.0  |\n",
      "| 86.2  | 116.6 | 225.8 | 0.0  | -60.6 | 0.0  |\n",
      "|  0.0  |  0.0  |  0.0  | 75.5 |  0.0  | 7.6  |\n",
      "| -1.6  | -21.6 | -60.6 | 0.0  | 47.5  | 0.0  |\n",
      "|  0.0  |  0.0  |  0.0  | 7.6  |  0.0  | 50.4 |\n",
      "+-------+-------+-------+------+-------+------+\n"
     ]
    }
   ],
   "source": [
    "material_instance = Material()\n",
    "\n",
    "# Get properties for 'Almandine-pyrope'\n",
    "almandine_properties = material_instance.get_properties_by_phase('Almandine-pyrope')\n",
    "print(\"Material Properties for Almandine-pyrope:\")\n",
    "print(tabulate(almandine_properties.items(), headers=[\"Property\", \"Value\"], tablefmt=\"fancy_grid\"))\n",
    "print(\"\\n\")\n",
    "\n",
    "# Get voigt matrix for 'Amphobole #3 Taramite-Tschermakite1'\n",
    "non_isotropic_phase = 'Amphobole #3 Taramite-Tschermakite1'\n",
    "non_isotropic_voigt_matrix = material_instance.get_voigt_matrix(non_isotropic_phase)\n",
    "print(f'Voigt matrix for {non_isotropic_phase}:')\n",
    "print(tabulate(non_isotropic_voigt_matrix, tablefmt=\"pretty\"))"
   ]
  },
  {
   "cell_type": "code",
   "execution_count": 9,
   "id": "8457865d-7945-43ee-a964-04be3f024394",
   "metadata": {},
   "outputs": [
    {
     "data": {
      "text/plain": [
       "array([[133.6, 101.8,  86.2,   0. ,  -1.6,   0. ],\n",
       "       [101.8, 193.4, 116.6,   0. , -21.6,   0. ],\n",
       "       [ 86.2, 116.6, 225.8,   0. , -60.6,   0. ],\n",
       "       [  0. ,   0. ,   0. ,  75.5,   0. ,   7.6],\n",
       "       [ -1.6, -21.6, -60.6,   0. ,  47.5,   0. ],\n",
       "       [  0. ,   0. ,   0. ,   7.6,   0. ,  50.4]])"
      ]
     },
     "execution_count": 9,
     "metadata": {},
     "output_type": "execute_result"
    }
   ],
   "source": [
    "non_isotropic_voigt_matrix"
   ]
  },
  {
   "cell_type": "code",
   "execution_count": 10,
   "id": "bde1e580-c01c-48ba-a97d-90cd085c181c",
   "metadata": {},
   "outputs": [
    {
     "name": "stdout",
     "output_type": "stream",
     "text": [
      "<sage.anisotropy.anisotropy.Anisotropy object at 0x10309d3d0>\n",
      "The values of vp are:\n",
      "6674.899678218821\n",
      "The values of vs1 are:\n",
      "3975.553934805677\n",
      "The values of vs2 are:\n",
      "3680.8160970154336\n"
     ]
    }
   ],
   "source": [
    "import numpy as np\n",
    "from sage import Anisotropy\n",
    "\n",
    "if __name__ == \"__main__\":\n",
    "    # Example stiffness matrix and density\n",
    "    stiffness_matrix = np.array([[198.96, 73.595, 68.185, 0., 9.735, 0.],\n",
    "                                [73.595, 155.94, 62.23, 0., 6.295, 0.],\n",
    "                                [68.185, 62.23, 225.99, 0., 33.85, 0.],\n",
    "                                [0., 0., 0., 65.66, 0., 6.415],\n",
    "                                [9.735, 6.295, 33.85, 0., 60.23, 0.],\n",
    "                                [0., 0., 0., 6.415, 0., 65.18]]) * 10**9\n",
    "\n",
    "    density = 3500\n",
    "\n",
    "    # Create an instance of the Anisotropy class\n",
    "    anisotropy_instance = Anisotropy(stiffness_matrix, density)\n",
    "    print(anisotropy_instance)\n",
    "\n",
    "    # Calculate phase velocities\n",
    "    vp, vs1, vs2 = anisotropy_instance.phase_velocity()\n",
    "\n",
    "    # Print the results\n",
    "    print(\"The values of vp are:\")\n",
    "    print(min(vp))\n",
    "    print(\"The values of vs1 are:\")\n",
    "    print(min(vs1))\n",
    "    print(\"The values of vs2 are:\")\n",
    "    print(min(vs2))"
   ]
  },
  {
   "cell_type": "code",
   "execution_count": 8,
   "id": "d2b7cce1-d6a3-4be9-8d65-2171123d451d",
   "metadata": {},
   "outputs": [
    {
     "ename": "ImportError",
     "evalue": "cannot import name 'plot_seismic_velocity' from 'sage' (/Users/usin8611/Documents/code_sydney/library/sage/__init__.py)",
     "output_type": "error",
     "traceback": [
      "\u001b[0;31m---------------------------------------------------------------------------\u001b[0m",
      "\u001b[0;31mImportError\u001b[0m                               Traceback (most recent call last)",
      "Cell \u001b[0;32mIn[8], line 2\u001b[0m\n\u001b[1;32m      1\u001b[0m \u001b[38;5;28;01mfrom\u001b[39;00m \u001b[38;5;21;01msage\u001b[39;00m \u001b[38;5;28;01mimport\u001b[39;00m Tensor\n\u001b[0;32m----> 2\u001b[0m \u001b[38;5;28;01mfrom\u001b[39;00m \u001b[38;5;21;01msage\u001b[39;00m \u001b[38;5;28;01mimport\u001b[39;00m plot_seismic_velocity\n\u001b[1;32m      3\u001b[0m \u001b[38;5;28;01mimport\u001b[39;00m \u001b[38;5;21;01mnumpy\u001b[39;00m \u001b[38;5;28;01mas\u001b[39;00m \u001b[38;5;21;01mnp\u001b[39;00m\n\u001b[1;32m      4\u001b[0m tensor \u001b[38;5;241m=\u001b[39m Tensor()\n",
      "\u001b[0;31mImportError\u001b[0m: cannot import name 'plot_seismic_velocity' from 'sage' (/Users/usin8611/Documents/code_sydney/library/sage/__init__.py)"
     ]
    }
   ],
   "source": [
    "from sage import Tensor\n",
    "from sage import plot_seismic_velocity\n",
    "import numpy as np\n",
    "tensor = Tensor()\n",
    "M = np.array([[198.96,   73.595,  68.185,   0.,      9.735,   0.   ],\n",
    "                [ 73.595, 155.94,   62.23,    0.,      6.295,   0.   ],\n",
    "                [ 68.185,  62.23,  225.99,    0.,     33.85,    0.   ],\n",
    "                [  0.,      0.,      0.,     65.66,    0.,      6.415],\n",
    "                [  9.735,   6.295,  33.85,    0.,     60.23,    0.   ],\n",
    "                [  0.,      0.,     0.,      6.415,   0.,     65.18 ]])*10**9\n",
    "\n",
    "cijkl = tensor.voigt_to_tensor(M)\n",
    "\n",
    "rho = 3500\n",
    "\n",
    "plot_seismic_velocity.plot_vp_2d(cijkl, rho)"
   ]
  },
  {
   "cell_type": "code",
   "execution_count": 46,
   "id": "9c11fede-9476-4e03-bbce-bf7975933b24",
   "metadata": {},
   "outputs": [
    {
     "ename": "NameError",
     "evalue": "name 'Test' is not defined",
     "output_type": "error",
     "traceback": [
      "\u001b[0;31m---------------------------------------------------------------------------\u001b[0m",
      "\u001b[0;31mNameError\u001b[0m                                 Traceback (most recent call last)",
      "Cell \u001b[0;32mIn[46], line 1\u001b[0m\n\u001b[0;32m----> 1\u001b[0m x \u001b[38;5;241m=\u001b[39m \u001b[43mTest\u001b[49m(\u001b[38;5;241m5\u001b[39m)\n",
      "\u001b[0;31mNameError\u001b[0m: name 'Test' is not defined"
     ]
    }
   ],
   "source": [
    "x = Test(5)"
   ]
  },
  {
   "cell_type": "code",
   "execution_count": 1,
   "id": "4ec3669c-dd8c-4076-914d-575e6526132c",
   "metadata": {},
   "outputs": [],
   "source": [
    "from sage import Tensor"
   ]
  },
  {
   "cell_type": "code",
   "execution_count": 2,
   "id": "f4a64eec",
   "metadata": {},
   "outputs": [],
   "source": [
    "tensor_obj = Tensor()"
   ]
  },
  {
   "cell_type": "code",
   "execution_count": 3,
   "id": "bb9bb98b",
   "metadata": {},
   "outputs": [
    {
     "ename": "TypeError",
     "evalue": "Tensor.tensor_to_voigt() missing 1 required positional argument: 'tensor'",
     "output_type": "error",
     "traceback": [
      "\u001b[0;31m---------------------------------------------------------------------------\u001b[0m",
      "\u001b[0;31mTypeError\u001b[0m                                 Traceback (most recent call last)",
      "Cell \u001b[0;32mIn[3], line 1\u001b[0m\n\u001b[0;32m----> 1\u001b[0m \u001b[43mtensor_obj\u001b[49m\u001b[38;5;241;43m.\u001b[39;49m\u001b[43mtensor_to_voigt\u001b[49m\u001b[43m(\u001b[49m\u001b[43m)\u001b[49m\n",
      "\u001b[0;31mTypeError\u001b[0m: Tensor.tensor_to_voigt() missing 1 required positional argument: 'tensor'"
     ]
    }
   ],
   "source": [
    "tensor_obj.tensor_to_voigt()"
   ]
  },
  {
   "cell_type": "code",
   "execution_count": null,
   "id": "c2a5c173",
   "metadata": {},
   "outputs": [],
   "source": []
  }
 ],
 "metadata": {
  "kernelspec": {
   "display_name": "Python 3 (ipykernel)",
   "language": "python",
   "name": "python3"
  },
  "language_info": {
   "codemirror_mode": {
    "name": "ipython",
    "version": 3
   },
   "file_extension": ".py",
   "mimetype": "text/x-python",
   "name": "python",
   "nbconvert_exporter": "python",
   "pygments_lexer": "ipython3",
   "version": "3.12.1"
  }
 },
 "nbformat": 4,
 "nbformat_minor": 5
}
